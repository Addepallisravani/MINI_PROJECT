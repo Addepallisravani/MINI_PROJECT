{
  "cells": [
    {
      "cell_type": "markdown",
      "metadata": {
        "id": "q6QAls4X_nic"
      },
      "source": [
        "# **Loan Approval Prediction**\n",
        "In this problem, we will try to decide where a particular ID get the loan. we take the decision by different machine learning algoritms\n"
      ]
    },
    {
      "cell_type": "code",
      "execution_count": null,
      "metadata": {
        "id": "wHy4AX-BDajW"
      },
      "outputs": [],
      "source": [
        "import pandas as pd\n",
        "import matplotlib.pyplot as plot\n",
        "import seaborn as sb"
      ]
    },
    {
      "cell_type": "code",
      "execution_count": null,
      "metadata": {
        "colab": {
          "base_uri": "https://localhost:8080/"
        },
        "id": "Uag091te9zgs",
        "outputId": "9a3c102f-ee80-45fa-8497-0f289111aff7"
      },
      "outputs": [
        {
          "name": "stdout",
          "output_type": "stream",
          "text": [
            "<class 'pandas.core.frame.DataFrame'>\n",
            "RangeIndex: 614 entries, 0 to 613\n",
            "Data columns (total 13 columns):\n",
            " #   Column             Non-Null Count  Dtype  \n",
            "---  ------             --------------  -----  \n",
            " 0   Loan_ID            614 non-null    object \n",
            " 1   Gender             601 non-null    object \n",
            " 2   Married            611 non-null    object \n",
            " 3   Dependents         599 non-null    object \n",
            " 4   Education          614 non-null    object \n",
            " 5   Self_Employed      582 non-null    object \n",
            " 6   ApplicantIncome    614 non-null    int64  \n",
            " 7   CoapplicantIncome  614 non-null    float64\n",
            " 8   LoanAmount         592 non-null    float64\n",
            " 9   Loan_Amount_Term   600 non-null    float64\n",
            " 10  Credit_History     564 non-null    float64\n",
            " 11  Property_Area      614 non-null    object \n",
            " 12  Loan_Status        614 non-null    object \n",
            "dtypes: float64(4), int64(1), object(8)\n",
            "memory usage: 62.5+ KB\n",
            "None\n"
          ]
        }
      ],
      "source": [
        "train_df = pd.read_csv(\"/content/train_u6lujuX_CVtuZ9i.csv\")    #importing the dataset\n",
        "print(train_df.info())                 #Brief description about the dataset"
      ]
    },
    {
      "cell_type": "markdown",
      "metadata": {
        "id": "kkHHso4GBPoe"
      },
      "source": [
        "We can clearly see there are 13 columns and there are missing data points in the dataset.\n"
      ]
    },
    {
      "cell_type": "code",
      "execution_count": null,
      "metadata": {
        "id": "GQX6ttTv_K2O"
      },
      "outputs": [],
      "source": [
        "train_df = train_df.drop(columns= [\"Loan_ID\"])"
      ]
    },
    {
      "cell_type": "markdown",
      "metadata": {
        "id": "zqr2i_dHJSvE"
      },
      "source": [
        "\n",
        "\n",
        "# Analyzing the dataset by graphs\n",
        "\n",
        "By looking at the graphs, We will try to get some conclusions. This is a very important step. All having a data like this, We can \n",
        "\n",
        "1) generalise or remove the columns which doesnt have any \n",
        "significane on making the decision. \n",
        "\n",
        "2) remove the outliners. On large datasets, the computation can  be decreased."
      ]
    },
    {
      "cell_type": "code",
      "execution_count": null,
      "metadata": {
        "colab": {
          "background_save": true,
          "base_uri": "https://localhost:8080/",
          "height": 298
        },
        "id": "PRhUUQEoDXoI",
        "outputId": "26b417a8-608d-402f-b4a5-7be32aec6b4f"
      },
      "outputs": [
        {
          "data": {
            "text/plain": [
              "<matplotlib.axes._subplots.AxesSubplot at 0x7f057f79a990>"
            ]
          },
          "execution_count": 4,
          "metadata": {},
          "output_type": "execute_result"
        },
        {
          "data": {
            "image/png": "[encoded data removed]",
            "text/plain": [
              "<Figure size 432x288 with 1 Axes>"
            ]
          },
          "metadata": {},
          "output_type": "display_data"
        }
      ],
      "source": [
        "sb.countplot(x=train_df['Gender'], data=train_df, hue='Loan_Status')"
      ]
    },
    {
      "cell_type": "markdown",
      "metadata": {
        "id": "e1fdfkVDLUtX"
      },
      "source": [
        "**Interpreted data from above graph**\n",
        "\n",
        "Most of the people who apply are men (3 times more) and there are higher chances the loan gets sanctioned if the applicant sex is 'Male'"
      ]
    },
    {
      "cell_type": "code",
      "execution_count": null,
      "metadata": {
        "colab": {
          "base_uri": "https://localhost:8080/",
          "height": 297
        },
        "id": "ItFdpwvXGAb9",
        "outputId": "fa32605d-478b-4ca3-eeb3-449be8a276a3"
      },
      "outputs": [
        {
          "data": {
            "text/plain": [
              "<matplotlib.axes._subplots.AxesSubplot at 0x7f2352051a50>"
            ]
          },
          "execution_count": 5,
          "metadata": {},
          "output_type": "execute_result"
        },
        {
          "data": {
            "image/png": "[encoded data removed]",
            "text/plain": [
              "<Figure size 432x288 with 1 Axes>"
            ]
          },
          "metadata": {},
          "output_type": "display_data"
        }
      ],
      "source": [
        "sb.countplot(x=train_df['Married'], data=train_df, hue='Loan_Status')"
      ]
    },
    {
      "cell_type": "markdown",
      "metadata": {
        "id": "oG0fOdjONrwk"
      },
      "source": [
        "**Interpreted data from above graph**\n",
        "\n",
        "2/3 rd of the people who applied for loan are married and married applicants are more likely to get loan sanctioned"
      ]
    },
    {
      "cell_type": "code",
      "execution_count": null,
      "metadata": {
        "colab": {
          "base_uri": "https://localhost:8080/",
          "height": 297
        },
        "id": "AtnT3t04E4Jt",
        "outputId": "1790c7e5-9850-4d40-dcfd-5ab1dc1c1843"
      },
      "outputs": [
        {
          "data": {
            "text/plain": [
              "<matplotlib.axes._subplots.AxesSubplot at 0x7f23519882d0>"
            ]
          },
          "execution_count": 6,
          "metadata": {},
          "output_type": "execute_result"
        },
        {
          "data": {
            "image/png": "[encoded data removed]",
            "text/plain": [
              "<Figure size 432x288 with 1 Axes>"
            ]
          },
          "metadata": {},
          "output_type": "display_data"
        }
      ],
      "source": [
        "sb.countplot(x=train_df['Dependents'], data=train_df, hue='Loan_Status')"
      ]
    },
    {
      "cell_type": "markdown",
      "metadata": {
        "id": "3JF2avSgUQjN"
      },
      "source": [
        "**Interpreted data from above graph**\n",
        "\n",
        "If the dependants are 0, there is highly likely that loan is approved"
      ]
    },
    {
      "cell_type": "code",
      "execution_count": null,
      "metadata": {
        "colab": {
          "base_uri": "https://localhost:8080/",
          "height": 297
        },
        "id": "Iur8ekVaGKvx",
        "outputId": "4aa6bbec-c81b-45b5-9fe3-2261448d4914"
      },
      "outputs": [
        {
          "data": {
            "text/plain": [
              "<matplotlib.axes._subplots.AxesSubplot at 0x7f2351913fd0>"
            ]
          },
          "execution_count": 7,
          "metadata": {},
          "output_type": "execute_result"
        },
        {
          "data": {
            "image/png": "[encoded data removed]",
            "text/plain": [
              "<Figure size 432x288 with 1 Axes>"
            ]
          },
          "metadata": {},
          "output_type": "display_data"
        }
      ],
      "source": [
        "sb.countplot(x=train_df['Education'], data=train_df, hue='Loan_Status')"
      ]
    },
    {
      "cell_type": "markdown",
      "metadata": {
        "id": "BqI81hPgUicT"
      },
      "source": [
        "**Interpreted data from above graph**\n",
        "\n",
        "Graduated population are more likely to get the loan"
      ]
    },
    {
      "cell_type": "code",
      "execution_count": null,
      "metadata": {
        "colab": {
          "base_uri": "https://localhost:8080/",
          "height": 298
        },
        "id": "RyS43L9KGRVF",
        "outputId": "ac184d91-c908-40c3-e4ea-b9957bf766ad"
      },
      "outputs": [
        {
          "data": {
            "text/plain": [
              "<matplotlib.axes._subplots.AxesSubplot at 0x7f235188e050>"
            ]
          },
          "execution_count": 8,
          "metadata": {},
          "output_type": "execute_result"
        },
        {
          "data": {
            "image/png": "[encoded data removed]",
            "text/plain": [
              "<Figure size 432x288 with 1 Axes>"
            ]
          },
          "metadata": {},
          "output_type": "display_data"
        }
      ],
      "source": [
        "sb.countplot(x=train_df['Self_Employed'], data=train_df, hue='Loan_Status')"
      ]
    },
    {
      "cell_type": "markdown",
      "metadata": {
        "id": "jVKbawgyUxg8"
      },
      "source": [
        "**Interpreted data from above graph**\n",
        "\n",
        "5/6th of population is not self employed"
      ]
    },
    {
      "cell_type": "code",
      "execution_count": null,
      "metadata": {
        "colab": {
          "base_uri": "https://localhost:8080/",
          "height": 298
        },
        "id": "Ta9gnBQFG0K_",
        "outputId": "e502ddf1-74a2-49b2-d469-551e5d0bfc30"
      },
      "outputs": [
        {
          "data": {
            "text/plain": [
              "<matplotlib.axes._subplots.AxesSubplot at 0x7f2351873b10>"
            ]
          },
          "execution_count": 9,
          "metadata": {},
          "output_type": "execute_result"
        },
        {
          "data": {
            "image/png": "[encoded data removed]",
            "text/plain": [
              "<Figure size 432x288 with 1 Axes>"
            ]
          },
          "metadata": {},
          "output_type": "display_data"
        }
      ],
      "source": [
        "sb.countplot(x=train_df['Credit_History'], data=train_df, hue='Loan_Status')"
      ]
    },
    {
      "cell_type": "markdown",
      "metadata": {
        "id": "xBPy3C6FVmHi"
      },
      "source": [
        "**Interpreted data from above graph**\n",
        "\n",
        "Applicant with credit history are far more likely to be accepted."
      ]
    },
    {
      "cell_type": "code",
      "execution_count": null,
      "metadata": {
        "colab": {
          "base_uri": "https://localhost:8080/",
          "height": 298
        },
        "id": "kzd1Xvt2LhWM",
        "outputId": "c1f8b929-03f9-4dd8-ba07-ecb43f6c79f5"
      },
      "outputs": [
        {
          "data": {
            "text/plain": [
              "<matplotlib.axes._subplots.AxesSubplot at 0x7f23517e1ad0>"
            ]
          },
          "execution_count": 10,
          "metadata": {},
          "output_type": "execute_result"
        },
        {
          "data": {
            "image/png": "[encoded data removed]",
            "text/plain": [
              "<Figure size 432x288 with 1 Axes>"
            ]
          },
          "metadata": {},
          "output_type": "display_data"
        }
      ],
      "source": [
        "sb.countplot(x=train_df['Loan_Status'], data=train_df, hue='Loan_Status')"
      ]
    },
    {
      "cell_type": "markdown",
      "metadata": {
        "id": "qhntbKbJLqHe"
      },
      "source": [
        "**Interpreted data from above graph**\n",
        "\n",
        "We can conclude, 2/3 of people who applied got there loan sanctioned.\n"
      ]
    },
    {
      "cell_type": "markdown",
      "metadata": {
        "id": "F7NhZ4hXeGeH"
      },
      "source": [
        "# **Preprocessing the data**\n",
        "The data needs to be pre processed to fit to the model. 2 reasons why this is mandatory is \n",
        "\n",
        "\n",
        "*   Missing values (Imputing)\n",
        "*   few columns have features in test format. these needs to be converted in number format (Encoding).\n",
        "\n"
      ]
    },
    {
      "cell_type": "code",
      "execution_count": null,
      "metadata": {
        "colab": {
          "base_uri": "https://localhost:8080/",
          "height": 287
        },
        "id": "8ZHsn133QeZG",
        "outputId": "c806f507-8b92-4e09-99fd-9983a7635e15"
      },
      "outputs": [
        {
          "data": {
            "text/html": [
              "\n",
              "  <div id=\"df-ffc7b146-c949-49b6-a938-9295d2974724\">\n",
              "    <div class=\"colab-df-container\">\n",
              "      <div>\n",
              "<style scoped>\n",
              "    .dataframe tbody tr th:only-of-type {\n",
              "        vertical-align: middle;\n",
              "    }\n",
              "\n",
              "    .dataframe tbody tr th {\n",
              "        vertical-align: top;\n",
              "    }\n",
              "\n",
              "    .dataframe thead th {\n",
              "        text-align: right;\n",
              "    }\n",
              "</style>\n",
              "<table border=\"1\" class=\"dataframe\">\n",
              "  <thead>\n",
              "    <tr style=\"text-align: right;\">\n",
              "      <th></th>\n",
              "      <th>Loan_ID</th>\n",
              "      <th>Gender</th>\n",
              "      <th>Married</th>\n",
              "      <th>Dependents</th>\n",
              "      <th>Education</th>\n",
              "      <th>Self_Employed</th>\n",
              "      <th>ApplicantIncome</th>\n",
              "      <th>CoapplicantIncome</th>\n",
              "      <th>LoanAmount</th>\n",
              "      <th>Loan_Amount_Term</th>\n",
              "      <th>Credit_History</th>\n",
              "      <th>Property_Area</th>\n",
              "      <th>Loan_Status</th>\n",
              "    </tr>\n",
              "  </thead>\n",
              "  <tbody>\n",
              "    <tr>\n",
              "      <th>0</th>\n",
              "      <td>LP001002</td>\n",
              "      <td>Male</td>\n",
              "      <td>No</td>\n",
              "      <td>0</td>\n",
              "      <td>Graduate</td>\n",
              "      <td>No</td>\n",
              "      <td>5849</td>\n",
              "      <td>0.0</td>\n",
              "      <td>NaN</td>\n",
              "      <td>360.0</td>\n",
              "      <td>1.0</td>\n",
              "      <td>Urban</td>\n",
              "      <td>Y</td>\n",
              "    </tr>\n",
              "    <tr>\n",
              "      <th>1</th>\n",
              "      <td>LP001003</td>\n",
              "      <td>Male</td>\n",
              "      <td>Yes</td>\n",
              "      <td>1</td>\n",
              "      <td>Graduate</td>\n",
              "      <td>No</td>\n",
              "      <td>4583</td>\n",
              "      <td>1508.0</td>\n",
              "      <td>128.0</td>\n",
              "      <td>360.0</td>\n",
              "      <td>1.0</td>\n",
              "      <td>Rural</td>\n",
              "      <td>N</td>\n",
              "    </tr>\n",
              "    <tr>\n",
              "      <th>2</th>\n",
              "      <td>LP001005</td>\n",
              "      <td>Male</td>\n",
              "      <td>Yes</td>\n",
              "      <td>0</td>\n",
              "      <td>Graduate</td>\n",
              "      <td>Yes</td>\n",
              "      <td>3000</td>\n",
              "      <td>0.0</td>\n",
              "      <td>66.0</td>\n",
              "      <td>360.0</td>\n",
              "      <td>1.0</td>\n",
              "      <td>Urban</td>\n",
              "      <td>Y</td>\n",
              "    </tr>\n",
              "    <tr>\n",
              "      <th>3</th>\n",
              "      <td>LP001006</td>\n",
              "      <td>Male</td>\n",
              "      <td>Yes</td>\n",
              "      <td>0</td>\n",
              "      <td>Not Graduate</td>\n",
              "      <td>No</td>\n",
              "      <td>2583</td>\n",
              "      <td>2358.0</td>\n",
              "      <td>120.0</td>\n",
              "      <td>360.0</td>\n",
              "      <td>1.0</td>\n",
              "      <td>Urban</td>\n",
              "      <td>Y</td>\n",
              "    </tr>\n",
              "    <tr>\n",
              "      <th>4</th>\n",
              "      <td>LP001008</td>\n",
              "      <td>Male</td>\n",
              "      <td>No</td>\n",
              "      <td>0</td>\n",
              "      <td>Graduate</td>\n",
              "      <td>No</td>\n",
              "      <td>6000</td>\n",
              "      <td>0.0</td>\n",
              "      <td>141.0</td>\n",
              "      <td>360.0</td>\n",
              "      <td>1.0</td>\n",
              "      <td>Urban</td>\n",
              "      <td>Y</td>\n",
              "    </tr>\n",
              "  </tbody>\n",
              "</table>\n",
              "</div>\n",
              "      <button class=\"colab-df-convert\" onclick=\"convertToInteractive('df-ffc7b146-c949-49b6-a938-9295d2974724')\"\n",
              "              title=\"Convert this dataframe to an interactive table.\"\n",
              "              style=\"display:none;\">\n",
              "        \n",
              "  <svg xmlns=\"http://www.w3.org/2000/svg\" height=\"24px\"viewBox=\"0 0 24 24\"\n",
              "       width=\"24px\">\n",
              "    <path d=\"M0 0h24v24H0V0z\" fill=\"none\"/>\n",
              "    <path d=\"M18.56 5.44l.94 2.06.94-2.06 2.06-.94-2.06-.94-.94-2.06-.94 2.06-2.06.94zm-11 1L8.5 8.5l.94-2.06 2.06-.94-2.06-.94L8.5 2.5l-.94 2.06-2.06.94zm10 10l.94 2.06.94-2.06 2.06-.94-2.06-.94-.94-2.06-.94 2.06-2.06.94z\"/><path d=\"M17.41 7.96l-1.37-1.37c-.4-.4-.92-.59-1.43-.59-.52 0-1.04.2-1.43.59L10.3 9.45l-7.72 7.72c-.78.78-.78 2.05 0 2.83L4 21.41c.39.39.9.59 1.41.59.51 0 1.02-.2 1.41-.59l7.78-7.78 2.81-2.81c.8-.78.8-2.07 0-2.86zM5.41 20L4 18.59l7.72-7.72 1.47 1.35L5.41 20z\"/>\n",
              "  </svg>\n",
              "      </button>\n",
              "      \n",
              "  <style>\n",
              "    .colab-df-container {\n",
              "      display:flex;\n",
              "      flex-wrap:wrap;\n",
              "      gap: 12px;\n",
              "    }\n",
              "\n",
              "    .colab-df-convert {\n",
              "      background-color: #E8F0FE;\n",
              "      border: none;\n",
              "      border-radius: 50%;\n",
              "      cursor: pointer;\n",
              "      display: none;\n",
              "      fill: #1967D2;\n",
              "      height: 32px;\n",
              "      padding: 0 0 0 0;\n",
              "      width: 32px;\n",
              "    }\n",
              "\n",
              "    .colab-df-convert:hover {\n",
              "      background-color: #E2EBFA;\n",
              "      box-shadow: 0px 1px 2px rgba(60, 64, 67, 0.3), 0px 1px 3px 1px rgba(60, 64, 67, 0.15);\n",
              "      fill: #174EA6;\n",
              "    }\n",
              "\n",
              "    [theme=dark] .colab-df-convert {\n",
              "      background-color: #3B4455;\n",
              "      fill: #D2E3FC;\n",
              "    }\n",
              "\n",
              "    [theme=dark] .colab-df-convert:hover {\n",
              "      background-color: #434B5C;\n",
              "      box-shadow: 0px 1px 3px 1px rgba(0, 0, 0, 0.15);\n",
              "      filter: drop-shadow(0px 1px 2px rgba(0, 0, 0, 0.3));\n",
              "      fill: #FFFFFF;\n",
              "    }\n",
              "  </style>\n",
              "\n",
              "      <script>\n",
              "        const buttonEl =\n",
              "          document.querySelector('#df-ffc7b146-c949-49b6-a938-9295d2974724 button.colab-df-convert');\n",
              "        buttonEl.style.display =\n",
              "          google.colab.kernel.accessAllowed ? 'block' : 'none';\n",
              "\n",
              "        async function convertToInteractive(key) {\n",
              "          const element = document.querySelector('#df-ffc7b146-c949-49b6-a938-9295d2974724');\n",
              "          const dataTable =\n",
              "            await google.colab.kernel.invokeFunction('convertToInteractive',\n",
              "                                                     [key], {});\n",
              "          if (!dataTable) return;\n",
              "\n",
              "          const docLinkHtml = 'Like what you see? Visit the ' +\n",
              "            '<a target=\"_blank\" href=https://colab.research.google.com/notebooks/data_table.ipynb>data table notebook</a>'\n",
              "            + ' to learn more about interactive tables.';\n",
              "          element.innerHTML = '';\n",
              "          dataTable['output_type'] = 'display_data';\n",
              "          await google.colab.output.renderOutput(dataTable, element);\n",
              "          const docLink = document.createElement('div');\n",
              "          docLink.innerHTML = docLinkHtml;\n",
              "          element.appendChild(docLink);\n",
              "        }\n",
              "      </script>\n",
              "    </div>\n",
              "  </div>\n",
              "  "
            ],
            "text/plain": [
              "    Loan_ID Gender Married Dependents     Education Self_Employed  \\\n",
              "0  LP001002   Male      No          0      Graduate            No   \n",
              "1  LP001003   Male     Yes          1      Graduate            No   \n",
              "2  LP001005   Male     Yes          0      Graduate           Yes   \n",
              "3  LP001006   Male     Yes          0  Not Graduate            No   \n",
              "4  LP001008   Male      No          0      Graduate            No   \n",
              "\n",
              "   ApplicantIncome  CoapplicantIncome  LoanAmount  Loan_Amount_Term  \\\n",
              "0             5849                0.0         NaN             360.0   \n",
              "1             4583             1508.0       128.0             360.0   \n",
              "2             3000                0.0        66.0             360.0   \n",
              "3             2583             2358.0       120.0             360.0   \n",
              "4             6000                0.0       141.0             360.0   \n",
              "\n",
              "   Credit_History Property_Area Loan_Status  \n",
              "0             1.0         Urban           Y  \n",
              "1             1.0         Rural           N  \n",
              "2             1.0         Urban           Y  \n",
              "3             1.0         Urban           Y  \n",
              "4             1.0         Urban           Y  "
            ]
          },
          "execution_count": 11,
          "metadata": {},
          "output_type": "execute_result"
        }
      ],
      "source": [
        "train = pd.read_csv('/content/train_u6lujuX_CVtuZ9i.csv')\n",
        "train.head()\n"
      ]
    },
    {
      "cell_type": "code",
      "execution_count": null,
      "metadata": {
        "colab": {
          "base_uri": "https://localhost:8080/",
          "height": 287
        },
        "id": "kU0BkdUlRApW",
        "outputId": "1d1f5155-c8d4-4b2b-f339-a00881833e84"
      },
      "outputs": [
        {
          "data": {
            "text/html": [
              "\n",
              "  <div id=\"df-599d1fb6-0e36-49ee-ac0a-fdcddf5e48a0\">\n",
              "    <div class=\"colab-df-container\">\n",
              "      <div>\n",
              "<style scoped>\n",
              "    .dataframe tbody tr th:only-of-type {\n",
              "        vertical-align: middle;\n",
              "    }\n",
              "\n",
              "    .dataframe tbody tr th {\n",
              "        vertical-align: top;\n",
              "    }\n",
              "\n",
              "    .dataframe thead th {\n",
              "        text-align: right;\n",
              "    }\n",
              "</style>\n",
              "<table border=\"1\" class=\"dataframe\">\n",
              "  <thead>\n",
              "    <tr style=\"text-align: right;\">\n",
              "      <th></th>\n",
              "      <th>Loan_ID</th>\n",
              "      <th>Gender</th>\n",
              "      <th>Married</th>\n",
              "      <th>Dependents</th>\n",
              "      <th>Education</th>\n",
              "      <th>Self_Employed</th>\n",
              "      <th>ApplicantIncome</th>\n",
              "      <th>CoapplicantIncome</th>\n",
              "      <th>LoanAmount</th>\n",
              "      <th>Loan_Amount_Term</th>\n",
              "      <th>Credit_History</th>\n",
              "      <th>Property_Area</th>\n",
              "      <th>Loan_Status</th>\n",
              "    </tr>\n",
              "  </thead>\n",
              "  <tbody>\n",
              "    <tr>\n",
              "      <th>0</th>\n",
              "      <td>LP001002</td>\n",
              "      <td>Male</td>\n",
              "      <td>No</td>\n",
              "      <td>0</td>\n",
              "      <td>Graduate</td>\n",
              "      <td>No</td>\n",
              "      <td>5849</td>\n",
              "      <td>0.0</td>\n",
              "      <td>NaN</td>\n",
              "      <td>360.0</td>\n",
              "      <td>1.0</td>\n",
              "      <td>Urban</td>\n",
              "      <td>Y</td>\n",
              "    </tr>\n",
              "    <tr>\n",
              "      <th>1</th>\n",
              "      <td>LP001003</td>\n",
              "      <td>Male</td>\n",
              "      <td>Yes</td>\n",
              "      <td>1</td>\n",
              "      <td>Graduate</td>\n",
              "      <td>No</td>\n",
              "      <td>4583</td>\n",
              "      <td>1508.0</td>\n",
              "      <td>128.0</td>\n",
              "      <td>360.0</td>\n",
              "      <td>1.0</td>\n",
              "      <td>Rural</td>\n",
              "      <td>N</td>\n",
              "    </tr>\n",
              "    <tr>\n",
              "      <th>2</th>\n",
              "      <td>LP001005</td>\n",
              "      <td>Male</td>\n",
              "      <td>Yes</td>\n",
              "      <td>0</td>\n",
              "      <td>Graduate</td>\n",
              "      <td>Yes</td>\n",
              "      <td>3000</td>\n",
              "      <td>0.0</td>\n",
              "      <td>66.0</td>\n",
              "      <td>360.0</td>\n",
              "      <td>1.0</td>\n",
              "      <td>Urban</td>\n",
              "      <td>Y</td>\n",
              "    </tr>\n",
              "    <tr>\n",
              "      <th>3</th>\n",
              "      <td>LP001006</td>\n",
              "      <td>Male</td>\n",
              "      <td>Yes</td>\n",
              "      <td>0</td>\n",
              "      <td>Not Graduate</td>\n",
              "      <td>No</td>\n",
              "      <td>2583</td>\n",
              "      <td>2358.0</td>\n",
              "      <td>120.0</td>\n",
              "      <td>360.0</td>\n",
              "      <td>1.0</td>\n",
              "      <td>Urban</td>\n",
              "      <td>Y</td>\n",
              "    </tr>\n",
              "    <tr>\n",
              "      <th>4</th>\n",
              "      <td>LP001008</td>\n",
              "      <td>Male</td>\n",
              "      <td>No</td>\n",
              "      <td>0</td>\n",
              "      <td>Graduate</td>\n",
              "      <td>No</td>\n",
              "      <td>6000</td>\n",
              "      <td>0.0</td>\n",
              "      <td>141.0</td>\n",
              "      <td>360.0</td>\n",
              "      <td>1.0</td>\n",
              "      <td>Urban</td>\n",
              "      <td>Y</td>\n",
              "    </tr>\n",
              "  </tbody>\n",
              "</table>\n",
              "</div>\n",
              "      <button class=\"colab-df-convert\" onclick=\"convertToInteractive('df-599d1fb6-0e36-49ee-ac0a-fdcddf5e48a0')\"\n",
              "              title=\"Convert this dataframe to an interactive table.\"\n",
              "              style=\"display:none;\">\n",
              "        \n",
              "  <svg xmlns=\"http://www.w3.org/2000/svg\" height=\"24px\"viewBox=\"0 0 24 24\"\n",
              "       width=\"24px\">\n",
              "    <path d=\"M0 0h24v24H0V0z\" fill=\"none\"/>\n",
              "    <path d=\"M18.56 5.44l.94 2.06.94-2.06 2.06-.94-2.06-.94-.94-2.06-.94 2.06-2.06.94zm-11 1L8.5 8.5l.94-2.06 2.06-.94-2.06-.94L8.5 2.5l-.94 2.06-2.06.94zm10 10l.94 2.06.94-2.06 2.06-.94-2.06-.94-.94-2.06-.94 2.06-2.06.94z\"/><path d=\"M17.41 7.96l-1.37-1.37c-.4-.4-.92-.59-1.43-.59-.52 0-1.04.2-1.43.59L10.3 9.45l-7.72 7.72c-.78.78-.78 2.05 0 2.83L4 21.41c.39.39.9.59 1.41.59.51 0 1.02-.2 1.41-.59l7.78-7.78 2.81-2.81c.8-.78.8-2.07 0-2.86zM5.41 20L4 18.59l7.72-7.72 1.47 1.35L5.41 20z\"/>\n",
              "  </svg>\n",
              "      </button>\n",
              "      \n",
              "  <style>\n",
              "    .colab-df-container {\n",
              "      display:flex;\n",
              "      flex-wrap:wrap;\n",
              "      gap: 12px;\n",
              "    }\n",
              "\n",
              "    .colab-df-convert {\n",
              "      background-color: #E8F0FE;\n",
              "      border: none;\n",
              "      border-radius: 50%;\n",
              "      cursor: pointer;\n",
              "      display: none;\n",
              "      fill: #1967D2;\n",
              "      height: 32px;\n",
              "      padding: 0 0 0 0;\n",
              "      width: 32px;\n",
              "    }\n",
              "\n",
              "    .colab-df-convert:hover {\n",
              "      background-color: #E2EBFA;\n",
              "      box-shadow: 0px 1px 2px rgba(60, 64, 67, 0.3), 0px 1px 3px 1px rgba(60, 64, 67, 0.15);\n",
              "      fill: #174EA6;\n",
              "    }\n",
              "\n",
              "    [theme=dark] .colab-df-convert {\n",
              "      background-color: #3B4455;\n",
              "      fill: #D2E3FC;\n",
              "    }\n",
              "\n",
              "    [theme=dark] .colab-df-convert:hover {\n",
              "      background-color: #434B5C;\n",
              "      box-shadow: 0px 1px 3px 1px rgba(0, 0, 0, 0.15);\n",
              "      filter: drop-shadow(0px 1px 2px rgba(0, 0, 0, 0.3));\n",
              "      fill: #FFFFFF;\n",
              "    }\n",
              "  </style>\n",
              "\n",
              "      <script>\n",
              "        const buttonEl =\n",
              "          document.querySelector('#df-599d1fb6-0e36-49ee-ac0a-fdcddf5e48a0 button.colab-df-convert');\n",
              "        buttonEl.style.display =\n",
              "          google.colab.kernel.accessAllowed ? 'block' : 'none';\n",
              "\n",
              "        async function convertToInteractive(key) {\n",
              "          const element = document.querySelector('#df-599d1fb6-0e36-49ee-ac0a-fdcddf5e48a0');\n",
              "          const dataTable =\n",
              "            await google.colab.kernel.invokeFunction('convertToInteractive',\n",
              "                                                     [key], {});\n",
              "          if (!dataTable) return;\n",
              "\n",
              "          const docLinkHtml = 'Like what you see? Visit the ' +\n",
              "            '<a target=\"_blank\" href=https://colab.research.google.com/notebooks/data_table.ipynb>data table notebook</a>'\n",
              "            + ' to learn more about interactive tables.';\n",
              "          element.innerHTML = '';\n",
              "          dataTable['output_type'] = 'display_data';\n",
              "          await google.colab.output.renderOutput(dataTable, element);\n",
              "          const docLink = document.createElement('div');\n",
              "          docLink.innerHTML = docLinkHtml;\n",
              "          element.appendChild(docLink);\n",
              "        }\n",
              "      </script>\n",
              "    </div>\n",
              "  </div>\n",
              "  "
            ],
            "text/plain": [
              "    Loan_ID Gender Married Dependents     Education Self_Employed  \\\n",
              "0  LP001002   Male      No          0      Graduate            No   \n",
              "1  LP001003   Male     Yes          1      Graduate            No   \n",
              "2  LP001005   Male     Yes          0      Graduate           Yes   \n",
              "3  LP001006   Male     Yes          0  Not Graduate            No   \n",
              "4  LP001008   Male      No          0      Graduate            No   \n",
              "\n",
              "   ApplicantIncome  CoapplicantIncome  LoanAmount  Loan_Amount_Term  \\\n",
              "0             5849                0.0         NaN             360.0   \n",
              "1             4583             1508.0       128.0             360.0   \n",
              "2             3000                0.0        66.0             360.0   \n",
              "3             2583             2358.0       120.0             360.0   \n",
              "4             6000                0.0       141.0             360.0   \n",
              "\n",
              "   Credit_History Property_Area Loan_Status  \n",
              "0             1.0         Urban           Y  \n",
              "1             1.0         Rural           N  \n",
              "2             1.0         Urban           Y  \n",
              "3             1.0         Urban           Y  \n",
              "4             1.0         Urban           Y  "
            ]
          },
          "execution_count": 12,
          "metadata": {},
          "output_type": "execute_result"
        }
      ],
      "source": [
        "test = pd.read_csv('/content/train_u6lujuX_CVtuZ9i.csv')\n",
        "test.head()"
      ]
    },
    {
      "cell_type": "code",
      "execution_count": null,
      "metadata": {
        "colab": {
          "base_uri": "https://localhost:8080/"
        },
        "id": "khaBi85iW1FR",
        "outputId": "5217d427-e023-457a-84aa-0238fba0f8e4"
      },
      "outputs": [
        {
          "name": "stdout",
          "output_type": "stream",
          "text": [
            "   ApplicantIncome  CoapplicantIncome  LoanAmount  Loan_Amount_Term  \\\n",
            "0             5849                0.0         NaN             360.0   \n",
            "1             4583             1508.0       128.0             360.0   \n",
            "2             3000                0.0        66.0             360.0   \n",
            "3             2583             2358.0       120.0             360.0   \n",
            "4             6000                0.0       141.0             360.0   \n",
            "\n",
            "   Credit_History  Gender_Male  Married_Yes  Dependents_1  Dependents_2  \\\n",
            "0             1.0            1            0             0             0   \n",
            "1             1.0            1            1             1             0   \n",
            "2             1.0            1            1             0             0   \n",
            "3             1.0            1            1             0             0   \n",
            "4             1.0            1            0             0             0   \n",
            "\n",
            "   Dependents_3+  Education_Not Graduate  Self_Employed_Yes  \\\n",
            "0              0                       0                  0   \n",
            "1              0                       0                  0   \n",
            "2              0                       0                  1   \n",
            "3              0                       1                  0   \n",
            "4              0                       0                  0   \n",
            "\n",
            "   Property_Area_Semiurban  Property_Area_Urban  Loan_Status_Y  \n",
            "0                        0                    1              1  \n",
            "1                        0                    0              0  \n",
            "2                        0                    1              1  \n",
            "3                        0                    1              1  \n",
            "4                        0                    1              1  \n"
          ]
        }
      ],
      "source": [
        "train_df_encoded = pd.get_dummies(train_df,drop_first=True) #Convert categorical variable into dummy/indicator variables.\n",
        "print(train_df_encoded.head())"
      ]
    },
    {
      "cell_type": "code",
      "execution_count": null,
      "metadata": {
        "id": "DtAIGRXPrMh1"
      },
      "outputs": [],
      "source": [
        "X = train_df_encoded.drop(columns='Loan_Status_Y')\n",
        "Y = train_df_encoded['Loan_Status_Y']"
      ]
    },
    {
      "cell_type": "code",
      "execution_count": null,
      "metadata": {
        "colab": {
          "base_uri": "https://localhost:8080/",
          "height": 451
        },
        "id": "KMn_0n6_12Qr",
        "outputId": "21ebd9e0-4ab2-47a8-b8de-24b64c411dcf"
      },
      "outputs": [
        {
          "name": "stderr",
          "output_type": "stream",
          "text": [
            "/usr/local/lib/python3.7/dist-packages/seaborn/regression.py:581: UserWarning: The `size` parameter has been renamed to `height`; please update your code.\n",
            "  warnings.warn(msg, UserWarning)\n"
          ]
        },
        {
          "data": {
            "text/plain": [
              "<seaborn.axisgrid.FacetGrid at 0x7f2351647410>"
            ]
          },
          "execution_count": 17,
          "metadata": {},
          "output_type": "execute_result"
        },
        {
          "data": {
            "image/png": "[encoded data removed]",
            "text/plain": [
              "<Figure size 1110.42x432 with 2 Axes>"
            ]
          },
          "metadata": {},
          "output_type": "display_data"
        }
      ],
      "source": [
        "g = sb.lmplot(x='ApplicantIncome',y='LoanAmount',data= train_df_encoded , col='Self_Employed_Yes', hue='Gender_Male',\n",
        "          palette= [\"Red\" , \"Blue\",\"Yellow\"] ,aspect=1.2,size=6)\n",
        "g.set(ylim=(0, 800))"
      ]
    },
    {
      "cell_type": "markdown",
      "metadata": {
        "id": "7OteBnWr-NmP"
      },
      "source": [
        "Above graph tells:\n",
        "\n",
        "* The male applicants take more amount of loan than female.\n",
        "* The males are higher in number of \"NOT self employed\" category.\n",
        "* Majority of applicants are NOT self employed.\n",
        "* The majority of income taken is about 0-200 with income in the range 0-20000.\n"
      ]
    },
    {
      "cell_type": "markdown",
      "metadata": {
        "id": "mlwFP9v9Rxzn"
      },
      "source": [
        "# **Correlation between all the numerical variables"
      ]
    },
    {
      "cell_type": "code",
      "execution_count": null,
      "metadata": {
        "colab": {
          "base_uri": "https://localhost:8080/",
          "height": 483
        },
        "id": "0N1XnpbLSG2n",
        "outputId": "201e4411-ea49-4338-ac14-81d3295b58ce"
      },
      "outputs": [
        {
          "data": {
            "text/plain": [
              "<matplotlib.axes._subplots.AxesSubplot at 0x7f234ed208d0>"
            ]
          },
          "execution_count": 18,
          "metadata": {},
          "output_type": "execute_result"
        },
        {
          "data": {
            "image/png": "[encoded data removed]",
            "text/plain": [
              "<Figure size 648x432 with 2 Axes>"
            ]
          },
          "metadata": {},
          "output_type": "display_data"
        }
      ],
      "source": [
        "import matplotlib.pyplot as plt\n",
        "matrix = train.corr()\n",
        "f, ax = plt.subplots(figsize=(9,6))\n",
        "sb.heatmap(matrix,vmax=.8,square=True,cmap='BuPu', annot = True)"
      ]
    },
    {
      "cell_type": "markdown",
      "metadata": {
        "id": "sCHSpgjsS_If"
      },
      "source": [
        "## Outlier Treatment"
      ]
    },
    {
      "cell_type": "markdown",
      "metadata": {
        "id": "ZI0uN1xPUqeP"
      },
      "source": [
        "Missing Value"
      ]
    },
    {
      "cell_type": "code",
      "execution_count": null,
      "metadata": {
        "colab": {
          "base_uri": "https://localhost:8080/"
        },
        "id": "d49kDS5NUutA",
        "outputId": "d9c86244-b8ab-4ac8-939b-4b8b1c2fcf9c"
      },
      "outputs": [
        {
          "data": {
            "text/plain": [
              "Loan_ID               0\n",
              "Gender               13\n",
              "Married               3\n",
              "Dependents           15\n",
              "Education             0\n",
              "Self_Employed        32\n",
              "ApplicantIncome       0\n",
              "CoapplicantIncome     0\n",
              "LoanAmount           22\n",
              "Loan_Amount_Term     14\n",
              "Credit_History       50\n",
              "Property_Area         0\n",
              "Loan_Status           0\n",
              "dtype: int64"
            ]
          },
          "execution_count": 19,
          "metadata": {},
          "output_type": "execute_result"
        }
      ],
      "source": [
        "train.isnull().sum()"
      ]
    },
    {
      "cell_type": "code",
      "execution_count": null,
      "metadata": {
        "id": "7V1IoLg7U0yW"
      },
      "outputs": [],
      "source": [
        "train['Gender'].fillna(train['Gender'].mode()[0], inplace=True)\n",
        "train['Married'].fillna(train['Married'].mode()[0], inplace=True)\n",
        "train['Dependents'].fillna(train['Dependents'].mode()[0], inplace=True)\n",
        "train['Self_Employed'].fillna(train['Self_Employed'].mode()[0], inplace=True)\n",
        "train['LoanAmount'].fillna(train['LoanAmount'].mode()[0], inplace=True)\n",
        "train['Loan_Amount_Term'].fillna(train['Loan_Amount_Term'].mode()[0], inplace=True)\n",
        "train['Credit_History'].fillna(train['Credit_History'].mode()[0], inplace=True)"
      ]
    },
    {
      "cell_type": "code",
      "execution_count": null,
      "metadata": {
        "colab": {
          "base_uri": "https://localhost:8080/"
        },
        "id": "oAaWCYgtU3LO",
        "outputId": "f76d1dd0-a138-43f5-ff51-18a255e106cc"
      },
      "outputs": [
        {
          "data": {
            "text/plain": [
              "360.0    526\n",
              "180.0     44\n",
              "480.0     15\n",
              "300.0     13\n",
              "240.0      4\n",
              "84.0       4\n",
              "120.0      3\n",
              "60.0       2\n",
              "36.0       2\n",
              "12.0       1\n",
              "Name: Loan_Amount_Term, dtype: int64"
            ]
          },
          "execution_count": 21,
          "metadata": {},
          "output_type": "execute_result"
        }
      ],
      "source": [
        "train['Loan_Amount_Term'].value_counts()"
      ]
    },
    {
      "cell_type": "code",
      "execution_count": null,
      "metadata": {
        "id": "nZ4KwENzU7Au"
      },
      "outputs": [],
      "source": [
        "train['Loan_Amount_Term'].fillna(train['Loan_Amount_Term'].mode()[0], inplace=True)"
      ]
    },
    {
      "cell_type": "code",
      "execution_count": null,
      "metadata": {
        "id": "8cl5At39U-T5"
      },
      "outputs": [],
      "source": [
        "train['LoanAmount'].fillna(train['LoanAmount'].median(), inplace=True)"
      ]
    },
    {
      "cell_type": "code",
      "execution_count": null,
      "metadata": {
        "colab": {
          "base_uri": "https://localhost:8080/"
        },
        "id": "BybUZdARVBEd",
        "outputId": "08c51866-d999-4a77-d725-c4698d2c995b"
      },
      "outputs": [
        {
          "data": {
            "text/plain": [
              "Loan_ID              0\n",
              "Gender               0\n",
              "Married              0\n",
              "Dependents           0\n",
              "Education            0\n",
              "Self_Employed        0\n",
              "ApplicantIncome      0\n",
              "CoapplicantIncome    0\n",
              "LoanAmount           0\n",
              "Loan_Amount_Term     0\n",
              "Credit_History       0\n",
              "Property_Area        0\n",
              "Loan_Status          0\n",
              "dtype: int64"
            ]
          },
          "execution_count": 24,
          "metadata": {},
          "output_type": "execute_result"
        }
      ],
      "source": [
        "train.isnull().sum()"
      ]
    },
    {
      "cell_type": "code",
      "execution_count": null,
      "metadata": {
        "colab": {
          "base_uri": "https://localhost:8080/",
          "height": 265
        },
        "id": "13_gKPVfTDvQ",
        "outputId": "4c56db06-1572-4ae0-ef71-6090c442b04e"
      },
      "outputs": [
        {
          "data": {
            "image/png": "[encoded data removed]",
            "text/plain": [
              "<Figure size 432x288 with 1 Axes>"
            ]
          },
          "metadata": {},
          "output_type": "display_data"
        }
      ],
      "source": [
        "import numpy as np\n",
        "train['LoanAmount_log']=np.log(train['LoanAmount'])\n",
        "train['LoanAmount_log'].hist(bins=20)\n",
        "test['LoanAmount_log']=np.log(test['LoanAmount'])"
      ]
    },
    {
      "cell_type": "code",
      "execution_count": null,
      "metadata": {
        "id": "o8lQNXGdVMyO"
      },
      "outputs": [],
      "source": []
    },
    {
      "cell_type": "markdown",
      "metadata": {
        "id": "1zbibPb3gShR"
      },
      "source": [
        "# Train and Test split"
      ]
    },
    {
      "cell_type": "code",
      "execution_count": null,
      "metadata": {
        "id": "XgmzyazpgQn3"
      },
      "outputs": [],
      "source": [
        "from sklearn.model_selection import train_test_split\n",
        "X_train, X_test, Y_train, Y_test = train_test_split(X,Y, test_size=0.20,stratify =Y) "
      ]
    },
    {
      "cell_type": "code",
      "execution_count": null,
      "metadata": {
        "id": "WDtLYAEGhsxO"
      },
      "outputs": [],
      "source": [
        "from sklearn.impute import SimpleImputer\n",
        "temp = SimpleImputer(strategy='mean')\n",
        "X_train = temp.fit_transform(X_train)\n",
        "X_test = temp.fit_transform(X_test)"
      ]
    },
    {
      "cell_type": "markdown",
      "metadata": {
        "id": "hGHMAAZj_HVf"
      },
      "source": [
        "# LINEAR REGRESSION FOR CLASSIFICATION"
      ]
    },
    {
      "cell_type": "code",
      "execution_count": null,
      "metadata": {
        "id": "YkJiKdlP_W56"
      },
      "outputs": [],
      "source": [
        "from sklearn.linear_model import LinearRegression\n",
        "lrc = LinearRegression()\n",
        "lrc.fit(X_train, Y_train)\n",
        "temp= lrc.predict(X_test)\n",
        "Y_pred_lrc = []"
      ]
    },
    {
      "cell_type": "code",
      "execution_count": null,
      "metadata": {
        "id": "-UoPumi-N03r"
      },
      "outputs": [],
      "source": [
        "for i in temp:\n",
        "  if i>0.5:\n",
        "    Y_pred_lrc.append(1)\n",
        "  else:\n",
        "    Y_pred_lrc.append(0) "
      ]
    },
    {
      "cell_type": "code",
      "execution_count": null,
      "metadata": {
        "colab": {
          "base_uri": "https://localhost:8080/"
        },
        "id": "UmUsM_kXByuG",
        "outputId": "1d0d920a-6cf8-4ec5-8713-a44fe7ef7651"
      },
      "outputs": [
        {
          "name": "stdout",
          "output_type": "stream",
          "text": [
            "\n",
            "Accuracy: 0.8292682926829268\n"
          ]
        }
      ],
      "source": [
        "from sklearn.metrics import accuracy_score\n",
        "# Accuracy score\n",
        "result2 = accuracy_score(Y_test, Y_pred_lrc)\n",
        "print(\"\\nAccuracy:\",result2)"
      ]
    },
    {
      "cell_type": "markdown",
      "metadata": {
        "id": "0_azK9WCkco9"
      },
      "source": [
        "# LOGISTIC REGRESSION"
      ]
    },
    {
      "cell_type": "code",
      "execution_count": null,
      "metadata": {
        "colab": {
          "background_save": true,
          "base_uri": "https://localhost:8080/"
        },
        "id": "GFD7MLphijxZ",
        "outputId": "5c7597af-b607-47d2-decb-41cd02ed4e6d"
      },
      "outputs": [
        {
          "name": "stderr",
          "output_type": "stream",
          "text": [
            "/usr/local/lib/python3.7/dist-packages/sklearn/linear_model/_logistic.py:818: ConvergenceWarning: lbfgs failed to converge (status=1):\n",
            "STOP: TOTAL NO. of ITERATIONS REACHED LIMIT.\n",
            "\n",
            "Increase the number of iterations (max_iter) or scale the data as shown in:\n",
            "    https://scikit-learn.org/stable/modules/preprocessing.html\n",
            "Please also refer to the documentation for alternative solver options:\n",
            "    https://scikit-learn.org/stable/modules/linear_model.html#logistic-regression\n",
            "  extra_warning_msg=_LOGISTIC_SOLVER_CONVERGENCE_MSG,\n"
          ]
        }
      ],
      "source": [
        "from sklearn.linear_model import LogisticRegression\n",
        "\n",
        "LR = LogisticRegression(solver='lbfgs')\n",
        "LR.fit(X_train, Y_train)\n",
        "Y_pred_LR = LR.predict(X_test)"
      ]
    },
    {
      "cell_type": "code",
      "execution_count": null,
      "metadata": {
        "colab": {
          "base_uri": "https://localhost:8080/"
        },
        "id": "kLmKdQ0ntjVF",
        "outputId": "8ff2c909-32c3-482c-d905-1249a6de29c1"
      },
      "outputs": [
        {
          "name": "stdout",
          "output_type": "stream",
          "text": [
            "\n",
            "Accuracy: 0.8292682926829268\n"
          ]
        }
      ],
      "source": [
        "from sklearn.metrics import accuracy_score\n",
        "\n",
        "result2 = accuracy_score(Y_test, Y_pred_LR)\n",
        "print(\"\\nAccuracy:\",result2)"
      ]
    },
    {
      "cell_type": "markdown",
      "metadata": {
        "id": "j1yQ8waqsIrk"
      },
      "source": [
        "# SUPPORT VECTOR MACHINES (SVM)\n",
        "\n",
        "\n",
        "\n",
        "\n",
        "\n"
      ]
    },
    {
      "cell_type": "code",
      "execution_count": null,
      "metadata": {
        "id": "66jWY0MWtMej"
      },
      "outputs": [],
      "source": [
        "from sklearn.svm import SVC\n",
        "\n",
        "SVM = SVC(kernel='linear')\n",
        "SVM.fit(X_train, Y_train) \n",
        "Y_pred_SVM = SVM.predict(X_test)"
      ]
    },
    {
      "cell_type": "code",
      "execution_count": null,
      "metadata": {
        "colab": {
          "base_uri": "https://localhost:8080/"
        },
        "id": "3fCkGEReynoS",
        "outputId": "6e46f299-ddfc-416e-8aaf-a87c0e01b6b2"
      },
      "outputs": [
        {
          "name": "stdout",
          "output_type": "stream",
          "text": [
            "\n",
            "Accuracy: 0.7967479674796748\n"
          ]
        }
      ],
      "source": [
        "# Accuracy score\n",
        "result2 = accuracy_score(Y_test, Y_pred_SVM)\n",
        "print(\"\\nAccuracy:\",result2)"
      ]
    },
    {
      "cell_type": "markdown",
      "metadata": {
        "id": "4j6N7Iwusr83"
      },
      "source": [
        "# RANDOM FOREST CLASSIFIER"
      ]
    },
    {
      "cell_type": "code",
      "execution_count": null,
      "metadata": {
        "id": "eDi3L9_B1UQ4"
      },
      "outputs": [],
      "source": [
        "from sklearn.ensemble import RandomForestClassifier\n",
        "random_forest = RandomForestClassifier(n_estimators= 100)\n",
        "random_forest.fit(X_train, Y_train)\n",
        "Y_pred_rf = random_forest.predict(X_test)"
      ]
    },
    {
      "cell_type": "code",
      "execution_count": null,
      "metadata": {
        "colab": {
          "base_uri": "https://localhost:8080/"
        },
        "id": "q0REes8Wthrr",
        "outputId": "2e5a0172-ba24-41f6-9808-a32c082bfe0c"
      },
      "outputs": [
        {
          "name": "stdout",
          "output_type": "stream",
          "text": [
            "\n",
            "Accuracy: 0.8130081300813008\n"
          ]
        }
      ],
      "source": [
        "# Accuracy score\n",
        "result2 = accuracy_score(Y_test, Y_pred_rf)\n",
        "print(\"\\nAccuracy:\",result2)"
      ]
    },
    {
      "cell_type": "markdown",
      "metadata": {
        "id": "pwN5vTxBuEiK"
      },
      "source": [
        "# NEURAL NETWORK"
      ]
    },
    {
      "cell_type": "code",
      "execution_count": null,
      "metadata": {
        "colab": {
          "base_uri": "https://localhost:8080/"
        },
        "id": "fzoGEXVZtx0x",
        "outputId": "b22e7d47-c562-4f25-ebe9-4e3b414e85c3"
      },
      "outputs": [
        {
          "name": "stdout",
          "output_type": "stream",
          "text": [
            "Epoch 1/300\n",
            "14/14 [==============================] - 1s 14ms/step - loss: 345.3545 - accuracy: 0.6349 - val_loss: 264.8116 - val_accuracy: 0.7200\n",
            "Epoch 2/300\n",
            "14/14 [==============================] - 0s 3ms/step - loss: 220.3034 - accuracy: 0.6259 - val_loss: 197.5807 - val_accuracy: 0.7000\n",
            "Epoch 3/300\n",
            "14/14 [==============================] - 0s 3ms/step - loss: 232.6138 - accuracy: 0.6122 - val_loss: 158.5560 - val_accuracy: 0.7000\n",
            "Epoch 4/300\n",
            "14/14 [==============================] - 0s 3ms/step - loss: 191.1849 - accuracy: 0.5918 - val_loss: 136.2560 - val_accuracy: 0.7000\n",
            "Epoch 5/300\n",
            "14/14 [==============================] - 0s 3ms/step - loss: 147.6622 - accuracy: 0.5918 - val_loss: 126.3864 - val_accuracy: 0.6800\n",
            "Epoch 6/300\n",
            "14/14 [==============================] - 0s 3ms/step - loss: 122.2830 - accuracy: 0.5737 - val_loss: 111.1380 - val_accuracy: 0.6800\n",
            "Epoch 7/300\n",
            "14/14 [==============================] - 0s 3ms/step - loss: 117.4966 - accuracy: 0.5488 - val_loss: 97.4503 - val_accuracy: 0.7000\n",
            "Epoch 8/300\n",
            "14/14 [==============================] - 0s 3ms/step - loss: 87.1883 - accuracy: 0.6168 - val_loss: 84.7831 - val_accuracy: 0.6800\n",
            "Epoch 9/300\n",
            "14/14 [==============================] - 0s 3ms/step - loss: 79.9057 - accuracy: 0.6054 - val_loss: 77.4510 - val_accuracy: 0.6000\n",
            "Epoch 10/300\n",
            "14/14 [==============================] - 0s 3ms/step - loss: 90.9445 - accuracy: 0.5850 - val_loss: 63.3171 - val_accuracy: 0.5800\n",
            "Epoch 11/300\n",
            "14/14 [==============================] - 0s 3ms/step - loss: 59.1382 - accuracy: 0.5510 - val_loss: 55.5922 - val_accuracy: 0.5600\n",
            "Epoch 12/300\n",
            "14/14 [==============================] - 0s 3ms/step - loss: 60.6728 - accuracy: 0.5215 - val_loss: 42.4163 - val_accuracy: 0.5600\n",
            "Epoch 13/300\n",
            "14/14 [==============================] - 0s 3ms/step - loss: 38.6951 - accuracy: 0.5351 - val_loss: 45.0337 - val_accuracy: 0.5600\n",
            "Epoch 14/300\n",
            "14/14 [==============================] - 0s 3ms/step - loss: 39.2583 - accuracy: 0.5601 - val_loss: 33.8595 - val_accuracy: 0.5600\n",
            "Epoch 15/300\n",
            "14/14 [==============================] - 0s 3ms/step - loss: 34.5325 - accuracy: 0.5556 - val_loss: 19.9848 - val_accuracy: 0.4200\n",
            "Epoch 16/300\n",
            "14/14 [==============================] - 0s 3ms/step - loss: 29.7292 - accuracy: 0.5601 - val_loss: 20.4851 - val_accuracy: 0.5400\n",
            "Epoch 17/300\n",
            "14/14 [==============================] - 0s 3ms/step - loss: 26.4203 - accuracy: 0.5601 - val_loss: 18.7767 - val_accuracy: 0.5000\n",
            "Epoch 18/300\n",
            "14/14 [==============================] - 0s 3ms/step - loss: 23.9255 - accuracy: 0.5488 - val_loss: 14.4962 - val_accuracy: 0.5600\n",
            "Epoch 19/300\n",
            "14/14 [==============================] - 0s 3ms/step - loss: 16.5973 - accuracy: 0.6009 - val_loss: 11.9838 - val_accuracy: 0.5800\n",
            "Epoch 20/300\n",
            "14/14 [==============================] - 0s 3ms/step - loss: 15.4496 - accuracy: 0.5374 - val_loss: 12.6866 - val_accuracy: 0.5000\n",
            "Epoch 21/300\n",
            "14/14 [==============================] - 0s 3ms/step - loss: 11.2661 - accuracy: 0.5850 - val_loss: 9.4287 - val_accuracy: 0.6000\n",
            "Epoch 22/300\n",
            "14/14 [==============================] - 0s 4ms/step - loss: 11.5252 - accuracy: 0.5737 - val_loss: 7.9837 - val_accuracy: 0.5600\n",
            "Epoch 23/300\n",
            "14/14 [==============================] - 0s 5ms/step - loss: 9.6608 - accuracy: 0.5601 - val_loss: 8.8280 - val_accuracy: 0.6400\n",
            "Epoch 24/300\n",
            "14/14 [==============================] - 0s 5ms/step - loss: 6.1062 - accuracy: 0.5782 - val_loss: 5.1297 - val_accuracy: 0.6800\n",
            "Epoch 25/300\n",
            "14/14 [==============================] - 0s 4ms/step - loss: 3.6475 - accuracy: 0.5737 - val_loss: 3.0922 - val_accuracy: 0.4400\n",
            "Epoch 26/300\n",
            "14/14 [==============================] - 0s 4ms/step - loss: 2.5493 - accuracy: 0.5646 - val_loss: 4.1625 - val_accuracy: 0.4000\n",
            "Epoch 27/300\n",
            "14/14 [==============================] - 0s 4ms/step - loss: 1.7886 - accuracy: 0.5782 - val_loss: 3.9542 - val_accuracy: 0.7000\n",
            "Epoch 28/300\n",
            "14/14 [==============================] - 0s 4ms/step - loss: 1.1676 - accuracy: 0.6100 - val_loss: 3.7397 - val_accuracy: 0.6400\n",
            "Epoch 29/300\n",
            "14/14 [==============================] - 0s 9ms/step - loss: 0.8585 - accuracy: 0.6644 - val_loss: 4.2033 - val_accuracy: 0.7000\n",
            "Epoch 30/300\n",
            "14/14 [==============================] - 0s 4ms/step - loss: 0.8192 - accuracy: 0.6281 - val_loss: 3.6103 - val_accuracy: 0.7000\n",
            "Epoch 31/300\n",
            "14/14 [==============================] - 0s 4ms/step - loss: 0.6980 - accuracy: 0.6712 - val_loss: 2.5777 - val_accuracy: 0.6800\n",
            "Epoch 32/300\n",
            "14/14 [==============================] - 0s 5ms/step - loss: 0.7540 - accuracy: 0.6236 - val_loss: 3.3727 - val_accuracy: 0.6400\n",
            "Epoch 33/300\n",
            "14/14 [==============================] - 0s 4ms/step - loss: 0.6874 - accuracy: 0.6644 - val_loss: 3.3749 - val_accuracy: 0.7000\n",
            "Epoch 34/300\n",
            "14/14 [==============================] - 0s 6ms/step - loss: 0.8137 - accuracy: 0.6621 - val_loss: 3.8649 - val_accuracy: 0.4200\n",
            "Epoch 35/300\n",
            "14/14 [==============================] - 0s 6ms/step - loss: 0.6360 - accuracy: 0.6621 - val_loss: 4.2707 - val_accuracy: 0.7000\n",
            "Epoch 36/300\n",
            "14/14 [==============================] - 0s 8ms/step - loss: 0.7031 - accuracy: 0.6440 - val_loss: 4.0143 - val_accuracy: 0.3800\n",
            "Epoch 37/300\n",
            "14/14 [==============================] - 0s 6ms/step - loss: 0.7036 - accuracy: 0.6281 - val_loss: 3.3382 - val_accuracy: 0.4800\n",
            "Epoch 38/300\n",
            "14/14 [==============================] - 0s 4ms/step - loss: 0.7037 - accuracy: 0.6848 - val_loss: 3.9553 - val_accuracy: 0.6800\n",
            "Epoch 39/300\n",
            "14/14 [==============================] - 0s 3ms/step - loss: 0.6617 - accuracy: 0.6780 - val_loss: 3.9923 - val_accuracy: 0.5400\n",
            "Epoch 40/300\n",
            "14/14 [==============================] - 0s 3ms/step - loss: 0.6679 - accuracy: 0.6893 - val_loss: 3.2870 - val_accuracy: 0.7000\n",
            "Epoch 41/300\n",
            "14/14 [==============================] - 0s 3ms/step - loss: 0.6757 - accuracy: 0.6757 - val_loss: 3.9014 - val_accuracy: 0.5000\n",
            "Epoch 42/300\n",
            "14/14 [==============================] - 0s 3ms/step - loss: 0.6710 - accuracy: 0.6553 - val_loss: 3.0662 - val_accuracy: 0.7000\n",
            "Epoch 43/300\n",
            "14/14 [==============================] - 0s 3ms/step - loss: 0.6640 - accuracy: 0.6576 - val_loss: 3.8550 - val_accuracy: 0.4200\n",
            "Epoch 44/300\n",
            "14/14 [==============================] - 0s 3ms/step - loss: 0.6690 - accuracy: 0.6304 - val_loss: 2.3792 - val_accuracy: 0.4000\n",
            "Epoch 45/300\n",
            "14/14 [==============================] - 0s 3ms/step - loss: 0.7183 - accuracy: 0.6599 - val_loss: 2.8220 - val_accuracy: 0.7000\n",
            "Epoch 46/300\n",
            "14/14 [==============================] - 0s 3ms/step - loss: 0.6642 - accuracy: 0.6644 - val_loss: 3.7290 - val_accuracy: 0.7000\n",
            "Epoch 47/300\n",
            "14/14 [==============================] - 0s 3ms/step - loss: 0.6609 - accuracy: 0.6712 - val_loss: 2.9892 - val_accuracy: 0.7000\n",
            "Epoch 48/300\n",
            "14/14 [==============================] - 0s 3ms/step - loss: 0.6131 - accuracy: 0.6893 - val_loss: 3.1249 - val_accuracy: 0.6800\n",
            "Epoch 49/300\n",
            "14/14 [==============================] - 0s 3ms/step - loss: 0.6458 - accuracy: 0.6916 - val_loss: 2.5565 - val_accuracy: 0.7000\n",
            "Epoch 50/300\n",
            "14/14 [==============================] - 0s 3ms/step - loss: 0.6529 - accuracy: 0.6712 - val_loss: 3.6941 - val_accuracy: 0.4400\n",
            "Epoch 51/300\n",
            "14/14 [==============================] - 0s 4ms/step - loss: 0.6612 - accuracy: 0.6395 - val_loss: 2.9182 - val_accuracy: 0.7000\n",
            "Epoch 52/300\n",
            "14/14 [==============================] - 0s 3ms/step - loss: 0.6230 - accuracy: 0.6803 - val_loss: 3.1731 - val_accuracy: 0.7000\n",
            "Epoch 53/300\n",
            "14/14 [==============================] - 0s 3ms/step - loss: 0.6505 - accuracy: 0.6667 - val_loss: 4.3566 - val_accuracy: 0.7000\n",
            "Epoch 54/300\n",
            "14/14 [==============================] - 0s 3ms/step - loss: 0.6162 - accuracy: 0.6871 - val_loss: 3.5504 - val_accuracy: 0.7000\n",
            "Epoch 55/300\n",
            "14/14 [==============================] - 0s 3ms/step - loss: 0.6361 - accuracy: 0.6848 - val_loss: 2.5324 - val_accuracy: 0.7000\n",
            "Epoch 56/300\n",
            "14/14 [==============================] - 0s 3ms/step - loss: 0.6212 - accuracy: 0.6848 - val_loss: 2.5344 - val_accuracy: 0.7000\n",
            "Epoch 57/300\n",
            "14/14 [==============================] - 0s 3ms/step - loss: 0.6175 - accuracy: 0.6735 - val_loss: 2.2937 - val_accuracy: 0.7000\n",
            "Epoch 58/300\n",
            "14/14 [==============================] - 0s 3ms/step - loss: 0.6649 - accuracy: 0.6893 - val_loss: 2.9986 - val_accuracy: 0.7000\n",
            "Epoch 59/300\n",
            "14/14 [==============================] - 0s 3ms/step - loss: 0.6218 - accuracy: 0.6916 - val_loss: 3.0441 - val_accuracy: 0.6800\n",
            "Epoch 60/300\n",
            "14/14 [==============================] - 0s 3ms/step - loss: 0.6053 - accuracy: 0.6893 - val_loss: 2.9590 - val_accuracy: 0.7000\n",
            "Epoch 61/300\n",
            "14/14 [==============================] - 0s 3ms/step - loss: 0.6710 - accuracy: 0.6916 - val_loss: 2.9778 - val_accuracy: 0.7000\n",
            "Epoch 62/300\n",
            "14/14 [==============================] - 0s 3ms/step - loss: 0.6121 - accuracy: 0.6984 - val_loss: 2.3723 - val_accuracy: 0.6800\n",
            "Epoch 63/300\n",
            "14/14 [==============================] - 0s 3ms/step - loss: 0.6089 - accuracy: 0.6916 - val_loss: 3.6652 - val_accuracy: 0.7000\n",
            "Epoch 64/300\n",
            "14/14 [==============================] - 0s 4ms/step - loss: 0.6352 - accuracy: 0.6848 - val_loss: 3.3430 - val_accuracy: 0.7000\n",
            "Epoch 65/300\n",
            "14/14 [==============================] - 0s 3ms/step - loss: 0.6198 - accuracy: 0.6848 - val_loss: 3.4788 - val_accuracy: 0.7000\n",
            "Epoch 66/300\n",
            "14/14 [==============================] - 0s 3ms/step - loss: 0.6179 - accuracy: 0.6939 - val_loss: 3.4359 - val_accuracy: 0.7000\n",
            "Epoch 67/300\n",
            "14/14 [==============================] - 0s 3ms/step - loss: 0.6946 - accuracy: 0.6893 - val_loss: 3.3791 - val_accuracy: 0.7000\n",
            "Epoch 68/300\n",
            "14/14 [==============================] - 0s 3ms/step - loss: 0.6098 - accuracy: 0.6939 - val_loss: 3.2848 - val_accuracy: 0.7000\n",
            "Epoch 69/300\n",
            "14/14 [==============================] - 0s 3ms/step - loss: 0.6062 - accuracy: 0.6939 - val_loss: 3.3286 - val_accuracy: 0.7000\n",
            "Epoch 70/300\n",
            "14/14 [==============================] - 0s 3ms/step - loss: 0.6170 - accuracy: 0.6871 - val_loss: 3.7766 - val_accuracy: 0.7000\n",
            "Epoch 71/300\n",
            "14/14 [==============================] - 0s 3ms/step - loss: 0.5817 - accuracy: 0.7052 - val_loss: 2.9647 - val_accuracy: 0.6800\n",
            "Epoch 72/300\n",
            "14/14 [==============================] - 0s 3ms/step - loss: 0.6198 - accuracy: 0.6961 - val_loss: 2.6041 - val_accuracy: 0.7000\n",
            "Epoch 73/300\n",
            "14/14 [==============================] - 0s 3ms/step - loss: 0.6106 - accuracy: 0.6939 - val_loss: 2.8411 - val_accuracy: 0.7000\n",
            "Epoch 74/300\n",
            "14/14 [==============================] - 0s 3ms/step - loss: 0.6107 - accuracy: 0.6893 - val_loss: 3.1159 - val_accuracy: 0.7000\n",
            "Epoch 75/300\n",
            "14/14 [==============================] - 0s 3ms/step - loss: 0.6552 - accuracy: 0.6893 - val_loss: 3.1594 - val_accuracy: 0.7000\n",
            "Epoch 76/300\n",
            "14/14 [==============================] - 0s 4ms/step - loss: 0.6074 - accuracy: 0.6939 - val_loss: 3.2367 - val_accuracy: 0.7000\n",
            "Epoch 77/300\n",
            "14/14 [==============================] - 0s 3ms/step - loss: 0.6008 - accuracy: 0.6916 - val_loss: 3.3782 - val_accuracy: 0.7000\n",
            "Epoch 78/300\n",
            "14/14 [==============================] - 0s 4ms/step - loss: 0.5953 - accuracy: 0.7029 - val_loss: 3.4038 - val_accuracy: 0.7000\n",
            "Epoch 79/300\n",
            "14/14 [==============================] - 0s 3ms/step - loss: 0.5986 - accuracy: 0.6893 - val_loss: 2.9976 - val_accuracy: 0.7000\n",
            "Epoch 80/300\n",
            "14/14 [==============================] - 0s 3ms/step - loss: 0.6005 - accuracy: 0.6939 - val_loss: 3.4128 - val_accuracy: 0.7000\n",
            "Epoch 81/300\n",
            "14/14 [==============================] - 0s 3ms/step - loss: 0.6132 - accuracy: 0.6961 - val_loss: 3.2705 - val_accuracy: 0.7000\n",
            "Epoch 82/300\n",
            "14/14 [==============================] - 0s 3ms/step - loss: 0.5989 - accuracy: 0.6939 - val_loss: 3.0940 - val_accuracy: 0.7000\n",
            "Epoch 83/300\n",
            "14/14 [==============================] - 0s 3ms/step - loss: 0.6095 - accuracy: 0.6939 - val_loss: 3.7835 - val_accuracy: 0.7000\n",
            "Epoch 84/300\n",
            "14/14 [==============================] - 0s 3ms/step - loss: 0.6282 - accuracy: 0.6871 - val_loss: 2.9262 - val_accuracy: 0.6800\n",
            "Epoch 85/300\n",
            "14/14 [==============================] - 0s 3ms/step - loss: 0.6042 - accuracy: 0.6893 - val_loss: 3.2018 - val_accuracy: 0.7000\n",
            "Epoch 86/300\n",
            "14/14 [==============================] - 0s 3ms/step - loss: 0.6125 - accuracy: 0.6893 - val_loss: 3.3455 - val_accuracy: 0.7000\n",
            "Epoch 87/300\n",
            "14/14 [==============================] - 0s 3ms/step - loss: 0.6054 - accuracy: 0.6916 - val_loss: 3.1696 - val_accuracy: 0.7000\n",
            "Epoch 88/300\n",
            "14/14 [==============================] - 0s 3ms/step - loss: 0.6011 - accuracy: 0.6916 - val_loss: 3.0348 - val_accuracy: 0.7000\n",
            "Epoch 89/300\n",
            "14/14 [==============================] - 0s 3ms/step - loss: 0.6082 - accuracy: 0.6916 - val_loss: 3.1192 - val_accuracy: 0.7000\n",
            "Epoch 90/300\n",
            "14/14 [==============================] - 0s 3ms/step - loss: 0.5999 - accuracy: 0.6961 - val_loss: 2.9025 - val_accuracy: 0.7000\n",
            "Epoch 91/300\n",
            "14/14 [==============================] - 0s 3ms/step - loss: 0.5937 - accuracy: 0.6939 - val_loss: 2.9792 - val_accuracy: 0.7000\n",
            "Epoch 92/300\n",
            "14/14 [==============================] - 0s 3ms/step - loss: 0.6071 - accuracy: 0.6916 - val_loss: 3.8387 - val_accuracy: 0.6800\n",
            "Epoch 93/300\n",
            "14/14 [==============================] - 0s 3ms/step - loss: 0.6026 - accuracy: 0.6916 - val_loss: 3.7478 - val_accuracy: 0.7000\n",
            "Epoch 94/300\n",
            "14/14 [==============================] - 0s 3ms/step - loss: 0.5703 - accuracy: 0.7098 - val_loss: 4.1555 - val_accuracy: 0.5600\n",
            "Epoch 95/300\n",
            "14/14 [==============================] - 0s 3ms/step - loss: 0.6212 - accuracy: 0.6916 - val_loss: 3.4683 - val_accuracy: 0.7000\n",
            "Epoch 96/300\n",
            "14/14 [==============================] - 0s 3ms/step - loss: 0.5914 - accuracy: 0.6961 - val_loss: 3.6560 - val_accuracy: 0.7000\n",
            "Epoch 97/300\n",
            "14/14 [==============================] - 0s 3ms/step - loss: 0.6096 - accuracy: 0.6893 - val_loss: 3.6772 - val_accuracy: 0.7000\n",
            "Epoch 98/300\n",
            "14/14 [==============================] - 0s 4ms/step - loss: 0.5959 - accuracy: 0.6984 - val_loss: 3.7055 - val_accuracy: 0.7000\n",
            "Epoch 99/300\n",
            "14/14 [==============================] - 0s 4ms/step - loss: 0.5832 - accuracy: 0.6939 - val_loss: 3.7139 - val_accuracy: 0.7000\n",
            "Epoch 100/300\n",
            "14/14 [==============================] - 0s 3ms/step - loss: 0.6073 - accuracy: 0.7052 - val_loss: 3.8203 - val_accuracy: 0.7000\n",
            "Epoch 101/300\n",
            "14/14 [==============================] - 0s 3ms/step - loss: 0.5957 - accuracy: 0.6961 - val_loss: 3.5155 - val_accuracy: 0.7000\n",
            "Epoch 102/300\n",
            "14/14 [==============================] - 0s 3ms/step - loss: 0.5976 - accuracy: 0.6961 - val_loss: 4.0353 - val_accuracy: 0.7000\n",
            "Epoch 103/300\n",
            "14/14 [==============================] - 0s 3ms/step - loss: 0.6016 - accuracy: 0.6871 - val_loss: 4.1602 - val_accuracy: 0.7000\n",
            "Epoch 104/300\n",
            "14/14 [==============================] - 0s 3ms/step - loss: 0.6010 - accuracy: 0.6939 - val_loss: 3.0793 - val_accuracy: 0.6800\n",
            "Epoch 105/300\n",
            "14/14 [==============================] - 0s 3ms/step - loss: 0.5994 - accuracy: 0.6893 - val_loss: 4.1741 - val_accuracy: 0.7000\n",
            "Epoch 106/300\n",
            "14/14 [==============================] - 0s 3ms/step - loss: 0.6095 - accuracy: 0.6893 - val_loss: 3.0987 - val_accuracy: 0.7000\n",
            "Epoch 107/300\n",
            "14/14 [==============================] - 0s 3ms/step - loss: 0.5966 - accuracy: 0.6961 - val_loss: 3.1343 - val_accuracy: 0.7000\n",
            "Epoch 108/300\n",
            "14/14 [==============================] - 0s 4ms/step - loss: 0.5892 - accuracy: 0.6961 - val_loss: 3.6666 - val_accuracy: 0.7000\n",
            "Epoch 109/300\n",
            "14/14 [==============================] - 0s 3ms/step - loss: 0.6002 - accuracy: 0.6961 - val_loss: 3.8558 - val_accuracy: 0.7000\n",
            "Epoch 110/300\n",
            "14/14 [==============================] - 0s 3ms/step - loss: 0.5824 - accuracy: 0.7029 - val_loss: 3.8946 - val_accuracy: 0.6200\n",
            "Epoch 111/300\n",
            "14/14 [==============================] - 0s 4ms/step - loss: 0.6029 - accuracy: 0.6893 - val_loss: 3.6103 - val_accuracy: 0.7000\n",
            "Epoch 112/300\n",
            "14/14 [==============================] - 0s 5ms/step - loss: 0.5826 - accuracy: 0.7075 - val_loss: 4.3008 - val_accuracy: 0.6000\n",
            "Epoch 113/300\n",
            "14/14 [==============================] - 0s 3ms/step - loss: 0.6050 - accuracy: 0.6984 - val_loss: 3.8093 - val_accuracy: 0.5800\n",
            "Epoch 114/300\n",
            "14/14 [==============================] - 0s 3ms/step - loss: 0.6026 - accuracy: 0.6939 - val_loss: 3.8795 - val_accuracy: 0.7000\n",
            "Epoch 115/300\n",
            "14/14 [==============================] - 0s 3ms/step - loss: 0.5915 - accuracy: 0.7029 - val_loss: 3.7751 - val_accuracy: 0.6800\n",
            "Epoch 116/300\n",
            "14/14 [==============================] - 0s 3ms/step - loss: 0.5878 - accuracy: 0.6984 - val_loss: 3.9131 - val_accuracy: 0.7000\n",
            "Epoch 117/300\n",
            "14/14 [==============================] - 0s 4ms/step - loss: 0.5915 - accuracy: 0.7007 - val_loss: 3.9339 - val_accuracy: 0.7000\n",
            "Epoch 118/300\n",
            "14/14 [==============================] - 0s 3ms/step - loss: 0.6016 - accuracy: 0.7075 - val_loss: 4.0467 - val_accuracy: 0.6800\n",
            "Epoch 119/300\n",
            "14/14 [==============================] - 0s 4ms/step - loss: 0.6041 - accuracy: 0.7029 - val_loss: 3.5100 - val_accuracy: 0.6800\n",
            "Epoch 120/300\n",
            "14/14 [==============================] - 0s 3ms/step - loss: 0.6012 - accuracy: 0.6961 - val_loss: 4.3553 - val_accuracy: 0.7000\n",
            "Epoch 121/300\n",
            "14/14 [==============================] - 0s 3ms/step - loss: 0.5932 - accuracy: 0.6916 - val_loss: 5.2795 - val_accuracy: 0.7000\n",
            "Epoch 122/300\n",
            "14/14 [==============================] - 0s 3ms/step - loss: 0.6095 - accuracy: 0.6939 - val_loss: 4.2696 - val_accuracy: 0.6600\n",
            "Epoch 123/300\n",
            "14/14 [==============================] - 0s 4ms/step - loss: 0.6133 - accuracy: 0.6848 - val_loss: 3.0870 - val_accuracy: 0.7000\n",
            "Epoch 124/300\n",
            "14/14 [==============================] - 0s 3ms/step - loss: 0.5987 - accuracy: 0.6984 - val_loss: 3.3121 - val_accuracy: 0.5800\n",
            "Epoch 125/300\n",
            "14/14 [==============================] - 0s 3ms/step - loss: 0.5942 - accuracy: 0.6893 - val_loss: 4.0396 - val_accuracy: 0.7000\n",
            "Epoch 126/300\n",
            "14/14 [==============================] - 0s 3ms/step - loss: 0.5872 - accuracy: 0.7075 - val_loss: 3.0675 - val_accuracy: 0.6800\n",
            "Epoch 127/300\n",
            "14/14 [==============================] - 0s 3ms/step - loss: 0.6142 - accuracy: 0.7007 - val_loss: 3.2706 - val_accuracy: 0.7000\n",
            "Epoch 128/300\n",
            "14/14 [==============================] - 0s 3ms/step - loss: 0.5916 - accuracy: 0.6961 - val_loss: 3.2473 - val_accuracy: 0.7000\n",
            "Epoch 129/300\n",
            "14/14 [==============================] - 0s 3ms/step - loss: 0.5836 - accuracy: 0.6961 - val_loss: 4.1476 - val_accuracy: 0.7000\n",
            "Epoch 130/300\n",
            "14/14 [==============================] - 0s 3ms/step - loss: 0.5730 - accuracy: 0.7098 - val_loss: 4.1920 - val_accuracy: 0.7000\n",
            "Epoch 131/300\n",
            "14/14 [==============================] - 0s 3ms/step - loss: 0.5838 - accuracy: 0.6961 - val_loss: 3.5762 - val_accuracy: 0.7000\n",
            "Epoch 132/300\n",
            "14/14 [==============================] - 0s 4ms/step - loss: 0.5976 - accuracy: 0.6939 - val_loss: 4.2476 - val_accuracy: 0.6200\n",
            "Epoch 133/300\n",
            "14/14 [==============================] - 0s 3ms/step - loss: 0.5939 - accuracy: 0.6984 - val_loss: 4.3903 - val_accuracy: 0.7000\n",
            "Epoch 134/300\n",
            "14/14 [==============================] - 0s 3ms/step - loss: 0.6030 - accuracy: 0.6939 - val_loss: 2.9854 - val_accuracy: 0.7000\n",
            "Epoch 135/300\n",
            "14/14 [==============================] - 0s 3ms/step - loss: 0.5800 - accuracy: 0.6961 - val_loss: 3.1310 - val_accuracy: 0.7000\n",
            "Epoch 136/300\n",
            "14/14 [==============================] - 0s 4ms/step - loss: 0.5914 - accuracy: 0.7098 - val_loss: 3.3469 - val_accuracy: 0.5800\n",
            "Epoch 137/300\n",
            "14/14 [==============================] - 0s 3ms/step - loss: 0.5861 - accuracy: 0.6939 - val_loss: 4.2377 - val_accuracy: 0.7000\n",
            "Epoch 138/300\n",
            "14/14 [==============================] - 0s 3ms/step - loss: 0.5827 - accuracy: 0.6939 - val_loss: 4.2411 - val_accuracy: 0.7000\n",
            "Epoch 139/300\n",
            "14/14 [==============================] - 0s 3ms/step - loss: 0.6009 - accuracy: 0.6916 - val_loss: 4.4647 - val_accuracy: 0.7000\n",
            "Epoch 140/300\n",
            "14/14 [==============================] - 0s 3ms/step - loss: 0.5779 - accuracy: 0.6984 - val_loss: 3.9573 - val_accuracy: 0.7000\n",
            "Epoch 141/300\n",
            "14/14 [==============================] - 0s 3ms/step - loss: 0.5795 - accuracy: 0.6961 - val_loss: 3.6295 - val_accuracy: 0.6800\n",
            "Epoch 142/300\n",
            "14/14 [==============================] - 0s 3ms/step - loss: 0.5857 - accuracy: 0.7007 - val_loss: 3.8542 - val_accuracy: 0.5800\n",
            "Epoch 143/300\n",
            "14/14 [==============================] - 0s 3ms/step - loss: 0.5828 - accuracy: 0.7007 - val_loss: 3.8187 - val_accuracy: 0.7000\n",
            "Epoch 144/300\n",
            "14/14 [==============================] - 0s 3ms/step - loss: 0.5950 - accuracy: 0.6984 - val_loss: 3.8809 - val_accuracy: 0.7000\n",
            "Epoch 145/300\n",
            "14/14 [==============================] - 0s 3ms/step - loss: 0.6107 - accuracy: 0.6916 - val_loss: 4.0743 - val_accuracy: 0.7000\n",
            "Epoch 146/300\n",
            "14/14 [==============================] - 0s 3ms/step - loss: 0.5806 - accuracy: 0.6984 - val_loss: 4.0933 - val_accuracy: 0.5800\n",
            "Epoch 147/300\n",
            "14/14 [==============================] - 0s 3ms/step - loss: 0.5879 - accuracy: 0.6939 - val_loss: 3.2435 - val_accuracy: 0.6000\n",
            "Epoch 148/300\n",
            "14/14 [==============================] - 0s 3ms/step - loss: 0.5972 - accuracy: 0.6871 - val_loss: 4.0816 - val_accuracy: 0.7000\n",
            "Epoch 149/300\n",
            "14/14 [==============================] - 0s 3ms/step - loss: 0.5800 - accuracy: 0.6984 - val_loss: 3.6705 - val_accuracy: 0.7000\n",
            "Epoch 150/300\n",
            "14/14 [==============================] - 0s 3ms/step - loss: 0.5898 - accuracy: 0.6939 - val_loss: 4.0093 - val_accuracy: 0.7000\n",
            "Epoch 151/300\n",
            "14/14 [==============================] - 0s 3ms/step - loss: 0.5946 - accuracy: 0.6893 - val_loss: 4.2378 - val_accuracy: 0.7000\n",
            "Epoch 152/300\n",
            "14/14 [==============================] - 0s 3ms/step - loss: 0.5815 - accuracy: 0.7007 - val_loss: 3.8244 - val_accuracy: 0.6800\n",
            "Epoch 153/300\n",
            "14/14 [==============================] - 0s 3ms/step - loss: 0.5835 - accuracy: 0.6984 - val_loss: 4.0604 - val_accuracy: 0.7000\n",
            "Epoch 154/300\n",
            "14/14 [==============================] - 0s 3ms/step - loss: 0.5763 - accuracy: 0.6961 - val_loss: 3.9263 - val_accuracy: 0.7000\n",
            "Epoch 155/300\n",
            "14/14 [==============================] - 0s 3ms/step - loss: 0.5915 - accuracy: 0.7029 - val_loss: 3.4562 - val_accuracy: 0.6800\n",
            "Epoch 156/300\n",
            "14/14 [==============================] - 0s 3ms/step - loss: 0.5844 - accuracy: 0.6939 - val_loss: 3.5766 - val_accuracy: 0.7000\n",
            "Epoch 157/300\n",
            "14/14 [==============================] - 0s 3ms/step - loss: 0.5845 - accuracy: 0.6984 - val_loss: 3.6131 - val_accuracy: 0.7000\n",
            "Epoch 158/300\n",
            "14/14 [==============================] - 0s 3ms/step - loss: 0.5911 - accuracy: 0.7052 - val_loss: 3.7238 - val_accuracy: 0.7000\n",
            "Epoch 159/300\n",
            "14/14 [==============================] - 0s 3ms/step - loss: 0.5878 - accuracy: 0.6984 - val_loss: 3.7439 - val_accuracy: 0.7000\n",
            "Epoch 160/300\n",
            "14/14 [==============================] - 0s 4ms/step - loss: 0.6009 - accuracy: 0.6961 - val_loss: 3.9109 - val_accuracy: 0.6600\n",
            "Epoch 161/300\n",
            "14/14 [==============================] - 0s 3ms/step - loss: 0.5930 - accuracy: 0.6848 - val_loss: 3.7078 - val_accuracy: 0.7000\n",
            "Epoch 162/300\n",
            "14/14 [==============================] - 0s 3ms/step - loss: 0.5752 - accuracy: 0.6984 - val_loss: 3.8036 - val_accuracy: 0.7000\n",
            "Epoch 163/300\n",
            "14/14 [==============================] - 0s 3ms/step - loss: 0.5945 - accuracy: 0.7007 - val_loss: 3.8455 - val_accuracy: 0.7000\n",
            "Epoch 164/300\n",
            "14/14 [==============================] - 0s 3ms/step - loss: 0.5770 - accuracy: 0.7052 - val_loss: 4.4774 - val_accuracy: 0.5600\n",
            "Epoch 165/300\n",
            "14/14 [==============================] - 0s 4ms/step - loss: 0.6101 - accuracy: 0.6984 - val_loss: 4.0497 - val_accuracy: 0.6600\n",
            "Epoch 166/300\n",
            "14/14 [==============================] - 0s 4ms/step - loss: 0.5760 - accuracy: 0.6984 - val_loss: 5.8491 - val_accuracy: 0.7000\n",
            "Epoch 167/300\n",
            "14/14 [==============================] - 0s 3ms/step - loss: 0.6012 - accuracy: 0.7029 - val_loss: 3.9496 - val_accuracy: 0.6800\n",
            "Epoch 168/300\n",
            "14/14 [==============================] - 0s 3ms/step - loss: 0.5662 - accuracy: 0.6961 - val_loss: 4.0855 - val_accuracy: 0.6800\n",
            "Epoch 169/300\n",
            "14/14 [==============================] - 0s 5ms/step - loss: 0.5892 - accuracy: 0.6984 - val_loss: 4.1779 - val_accuracy: 0.7000\n",
            "Epoch 170/300\n",
            "14/14 [==============================] - 0s 3ms/step - loss: 0.5849 - accuracy: 0.6916 - val_loss: 4.6210 - val_accuracy: 0.7000\n",
            "Epoch 171/300\n",
            "14/14 [==============================] - 0s 3ms/step - loss: 0.6037 - accuracy: 0.6916 - val_loss: 4.9373 - val_accuracy: 0.7000\n",
            "Epoch 172/300\n",
            "14/14 [==============================] - 0s 2ms/step - loss: 0.5918 - accuracy: 0.6984 - val_loss: 4.1754 - val_accuracy: 0.7000\n",
            "Epoch 173/300\n",
            "14/14 [==============================] - 0s 3ms/step - loss: 0.5900 - accuracy: 0.6984 - val_loss: 4.0903 - val_accuracy: 0.7000\n",
            "Epoch 174/300\n",
            "14/14 [==============================] - 0s 3ms/step - loss: 0.5960 - accuracy: 0.6961 - val_loss: 3.9197 - val_accuracy: 0.7000\n",
            "Epoch 175/300\n",
            "14/14 [==============================] - 0s 3ms/step - loss: 0.5886 - accuracy: 0.6939 - val_loss: 4.0136 - val_accuracy: 0.7000\n",
            "Epoch 176/300\n",
            "14/14 [==============================] - 0s 3ms/step - loss: 0.5819 - accuracy: 0.7007 - val_loss: 4.0379 - val_accuracy: 0.6800\n",
            "Epoch 177/300\n",
            "14/14 [==============================] - 0s 3ms/step - loss: 0.5921 - accuracy: 0.7007 - val_loss: 4.0333 - val_accuracy: 0.7000\n",
            "Epoch 178/300\n",
            "14/14 [==============================] - 0s 3ms/step - loss: 0.5949 - accuracy: 0.6961 - val_loss: 4.9148 - val_accuracy: 0.6800\n",
            "Epoch 179/300\n",
            "14/14 [==============================] - 0s 3ms/step - loss: 0.6186 - accuracy: 0.6961 - val_loss: 3.7943 - val_accuracy: 0.6800\n",
            "Epoch 180/300\n",
            "14/14 [==============================] - 0s 4ms/step - loss: 0.5743 - accuracy: 0.6961 - val_loss: 3.9011 - val_accuracy: 0.6800\n",
            "Epoch 181/300\n",
            "14/14 [==============================] - 0s 3ms/step - loss: 0.5890 - accuracy: 0.6984 - val_loss: 4.1791 - val_accuracy: 0.7000\n",
            "Epoch 182/300\n",
            "14/14 [==============================] - 0s 3ms/step - loss: 0.5913 - accuracy: 0.6961 - val_loss: 4.3277 - val_accuracy: 0.6800\n",
            "Epoch 183/300\n",
            "14/14 [==============================] - 0s 3ms/step - loss: 0.5731 - accuracy: 0.7007 - val_loss: 4.0455 - val_accuracy: 0.7000\n",
            "Epoch 184/300\n",
            "14/14 [==============================] - 0s 3ms/step - loss: 0.5946 - accuracy: 0.6939 - val_loss: 4.2013 - val_accuracy: 0.6800\n",
            "Epoch 185/300\n",
            "14/14 [==============================] - 0s 3ms/step - loss: 0.5814 - accuracy: 0.7029 - val_loss: 4.1168 - val_accuracy: 0.6800\n",
            "Epoch 186/300\n",
            "14/14 [==============================] - 0s 3ms/step - loss: 0.5795 - accuracy: 0.6984 - val_loss: 4.2199 - val_accuracy: 0.6400\n",
            "Epoch 187/300\n",
            "14/14 [==============================] - 0s 3ms/step - loss: 0.5846 - accuracy: 0.6916 - val_loss: 4.1765 - val_accuracy: 0.7000\n",
            "Epoch 188/300\n",
            "14/14 [==============================] - 0s 3ms/step - loss: 0.5852 - accuracy: 0.6939 - val_loss: 4.4787 - val_accuracy: 0.7000\n",
            "Epoch 189/300\n",
            "14/14 [==============================] - 0s 3ms/step - loss: 0.5933 - accuracy: 0.6939 - val_loss: 4.5482 - val_accuracy: 0.7000\n",
            "Epoch 190/300\n",
            "14/14 [==============================] - 0s 3ms/step - loss: 0.5922 - accuracy: 0.7098 - val_loss: 3.4396 - val_accuracy: 0.6800\n",
            "Epoch 191/300\n",
            "14/14 [==============================] - 0s 3ms/step - loss: 0.5958 - accuracy: 0.6916 - val_loss: 3.3330 - val_accuracy: 0.7000\n",
            "Epoch 192/300\n",
            "14/14 [==============================] - 0s 3ms/step - loss: 0.5802 - accuracy: 0.6916 - val_loss: 3.6970 - val_accuracy: 0.7000\n",
            "Epoch 193/300\n",
            "14/14 [==============================] - 0s 3ms/step - loss: 0.5815 - accuracy: 0.7007 - val_loss: 3.3510 - val_accuracy: 0.6800\n",
            "Epoch 194/300\n",
            "14/14 [==============================] - 0s 3ms/step - loss: 0.5919 - accuracy: 0.6961 - val_loss: 3.7365 - val_accuracy: 0.7000\n",
            "Epoch 195/300\n",
            "14/14 [==============================] - 0s 3ms/step - loss: 0.5929 - accuracy: 0.6939 - val_loss: 4.0415 - val_accuracy: 0.7000\n",
            "Epoch 196/300\n",
            "14/14 [==============================] - 0s 3ms/step - loss: 0.5799 - accuracy: 0.6961 - val_loss: 4.2638 - val_accuracy: 0.7000\n",
            "Epoch 197/300\n",
            "14/14 [==============================] - 0s 3ms/step - loss: 0.6056 - accuracy: 0.6939 - val_loss: 3.3879 - val_accuracy: 0.6800\n",
            "Epoch 198/300\n",
            "14/14 [==============================] - 0s 3ms/step - loss: 0.6012 - accuracy: 0.6916 - val_loss: 3.4598 - val_accuracy: 0.7000\n",
            "Epoch 199/300\n",
            "14/14 [==============================] - 0s 3ms/step - loss: 0.5876 - accuracy: 0.6961 - val_loss: 4.5915 - val_accuracy: 0.6800\n",
            "Epoch 200/300\n",
            "14/14 [==============================] - 0s 3ms/step - loss: 0.5808 - accuracy: 0.6939 - val_loss: 4.4713 - val_accuracy: 0.6800\n",
            "Epoch 201/300\n",
            "14/14 [==============================] - 0s 3ms/step - loss: 0.5810 - accuracy: 0.7029 - val_loss: 4.6699 - val_accuracy: 0.6800\n",
            "Epoch 202/300\n",
            "14/14 [==============================] - 0s 3ms/step - loss: 0.5749 - accuracy: 0.6961 - val_loss: 4.4757 - val_accuracy: 0.7000\n",
            "Epoch 203/300\n",
            "14/14 [==============================] - 0s 3ms/step - loss: 0.5737 - accuracy: 0.7075 - val_loss: 4.1639 - val_accuracy: 0.6800\n",
            "Epoch 204/300\n",
            "14/14 [==============================] - 0s 3ms/step - loss: 0.5880 - accuracy: 0.6961 - val_loss: 4.3431 - val_accuracy: 0.6800\n",
            "Epoch 205/300\n",
            "14/14 [==============================] - 0s 3ms/step - loss: 0.5811 - accuracy: 0.7029 - val_loss: 4.4528 - val_accuracy: 0.6600\n",
            "Epoch 206/300\n",
            "14/14 [==============================] - 0s 5ms/step - loss: 0.5940 - accuracy: 0.6961 - val_loss: 4.5701 - val_accuracy: 0.7000\n",
            "Epoch 207/300\n",
            "14/14 [==============================] - 0s 3ms/step - loss: 0.5940 - accuracy: 0.6871 - val_loss: 3.9003 - val_accuracy: 0.7000\n",
            "Epoch 208/300\n",
            "14/14 [==============================] - 0s 3ms/step - loss: 0.5668 - accuracy: 0.7052 - val_loss: 3.8336 - val_accuracy: 0.7000\n",
            "Epoch 209/300\n",
            "14/14 [==============================] - 0s 3ms/step - loss: 0.5769 - accuracy: 0.6984 - val_loss: 4.0125 - val_accuracy: 0.6600\n",
            "Epoch 210/300\n",
            "14/14 [==============================] - 0s 3ms/step - loss: 0.5763 - accuracy: 0.7007 - val_loss: 4.5507 - val_accuracy: 0.5400\n",
            "Epoch 211/300\n",
            "14/14 [==============================] - 0s 3ms/step - loss: 0.5931 - accuracy: 0.7029 - val_loss: 4.5024 - val_accuracy: 0.7000\n",
            "Epoch 212/300\n",
            "14/14 [==============================] - 0s 3ms/step - loss: 0.5826 - accuracy: 0.7029 - val_loss: 4.8203 - val_accuracy: 0.5600\n",
            "Epoch 213/300\n",
            "14/14 [==============================] - 0s 3ms/step - loss: 0.5807 - accuracy: 0.6984 - val_loss: 4.6152 - val_accuracy: 0.6800\n",
            "Epoch 214/300\n",
            "14/14 [==============================] - 0s 3ms/step - loss: 0.5931 - accuracy: 0.6939 - val_loss: 3.8258 - val_accuracy: 0.6800\n",
            "Epoch 215/300\n",
            "14/14 [==============================] - 0s 3ms/step - loss: 0.5867 - accuracy: 0.6961 - val_loss: 3.8773 - val_accuracy: 0.7000\n",
            "Epoch 216/300\n",
            "14/14 [==============================] - 0s 3ms/step - loss: 0.5766 - accuracy: 0.6984 - val_loss: 4.3970 - val_accuracy: 0.7000\n",
            "Epoch 217/300\n",
            "14/14 [==============================] - 0s 3ms/step - loss: 0.5706 - accuracy: 0.6984 - val_loss: 4.3659 - val_accuracy: 0.7000\n",
            "Epoch 218/300\n",
            "14/14 [==============================] - 0s 3ms/step - loss: 0.5805 - accuracy: 0.6939 - val_loss: 3.9034 - val_accuracy: 0.7000\n",
            "Epoch 219/300\n",
            "14/14 [==============================] - 0s 3ms/step - loss: 0.5733 - accuracy: 0.6961 - val_loss: 4.5483 - val_accuracy: 0.6800\n",
            "Epoch 220/300\n",
            "14/14 [==============================] - 0s 4ms/step - loss: 0.5889 - accuracy: 0.6961 - val_loss: 4.3807 - val_accuracy: 0.6800\n",
            "Epoch 221/300\n",
            "14/14 [==============================] - 0s 3ms/step - loss: 0.5743 - accuracy: 0.6984 - val_loss: 4.6360 - val_accuracy: 0.6600\n",
            "Epoch 222/300\n",
            "14/14 [==============================] - 0s 3ms/step - loss: 0.6370 - accuracy: 0.7007 - val_loss: 4.4974 - val_accuracy: 0.6800\n",
            "Epoch 223/300\n",
            "14/14 [==============================] - 0s 4ms/step - loss: 0.5775 - accuracy: 0.6984 - val_loss: 4.7554 - val_accuracy: 0.6400\n",
            "Epoch 224/300\n",
            "14/14 [==============================] - 0s 3ms/step - loss: 0.5962 - accuracy: 0.6939 - val_loss: 4.8385 - val_accuracy: 0.6800\n",
            "Epoch 225/300\n",
            "14/14 [==============================] - 0s 3ms/step - loss: 0.5934 - accuracy: 0.6984 - val_loss: 4.6274 - val_accuracy: 0.6800\n",
            "Epoch 226/300\n",
            "14/14 [==============================] - 0s 3ms/step - loss: 0.5798 - accuracy: 0.6961 - val_loss: 5.6615 - val_accuracy: 0.6600\n",
            "Epoch 227/300\n",
            "14/14 [==============================] - 0s 4ms/step - loss: 0.6027 - accuracy: 0.6939 - val_loss: 4.8751 - val_accuracy: 0.6800\n",
            "Epoch 228/300\n",
            "14/14 [==============================] - 0s 3ms/step - loss: 0.5812 - accuracy: 0.6984 - val_loss: 4.6431 - val_accuracy: 0.6800\n",
            "Epoch 229/300\n",
            "14/14 [==============================] - 0s 3ms/step - loss: 0.5760 - accuracy: 0.6961 - val_loss: 4.6938 - val_accuracy: 0.7000\n",
            "Epoch 230/300\n",
            "14/14 [==============================] - 0s 3ms/step - loss: 0.5830 - accuracy: 0.7052 - val_loss: 4.6691 - val_accuracy: 0.6800\n",
            "Epoch 231/300\n",
            "14/14 [==============================] - 0s 3ms/step - loss: 0.5770 - accuracy: 0.6916 - val_loss: 4.6340 - val_accuracy: 0.6800\n",
            "Epoch 232/300\n",
            "14/14 [==============================] - 0s 3ms/step - loss: 0.5889 - accuracy: 0.6893 - val_loss: 4.5828 - val_accuracy: 0.6800\n",
            "Epoch 233/300\n",
            "14/14 [==============================] - 0s 3ms/step - loss: 0.5957 - accuracy: 0.6893 - val_loss: 5.0595 - val_accuracy: 0.6800\n",
            "Epoch 234/300\n",
            "14/14 [==============================] - 0s 3ms/step - loss: 0.5777 - accuracy: 0.7007 - val_loss: 5.0090 - val_accuracy: 0.6800\n",
            "Epoch 235/300\n",
            "14/14 [==============================] - 0s 5ms/step - loss: 0.5797 - accuracy: 0.6961 - val_loss: 4.9507 - val_accuracy: 0.6000\n",
            "Epoch 236/300\n",
            "14/14 [==============================] - 0s 3ms/step - loss: 0.5770 - accuracy: 0.6961 - val_loss: 4.9481 - val_accuracy: 0.6800\n",
            "Epoch 237/300\n",
            "14/14 [==============================] - 0s 3ms/step - loss: 0.5769 - accuracy: 0.6939 - val_loss: 5.1095 - val_accuracy: 0.6800\n",
            "Epoch 238/300\n",
            "14/14 [==============================] - 0s 3ms/step - loss: 0.5976 - accuracy: 0.6893 - val_loss: 5.0962 - val_accuracy: 0.6800\n",
            "Epoch 239/300\n",
            "14/14 [==============================] - 0s 4ms/step - loss: 0.5857 - accuracy: 0.6939 - val_loss: 4.1674 - val_accuracy: 0.7000\n",
            "Epoch 240/300\n",
            "14/14 [==============================] - 0s 3ms/step - loss: 0.5691 - accuracy: 0.7075 - val_loss: 3.8834 - val_accuracy: 0.6800\n",
            "Epoch 241/300\n",
            "14/14 [==============================] - 0s 3ms/step - loss: 0.6074 - accuracy: 0.6916 - val_loss: 4.2391 - val_accuracy: 0.6400\n",
            "Epoch 242/300\n",
            "14/14 [==============================] - 0s 3ms/step - loss: 0.5828 - accuracy: 0.6984 - val_loss: 3.8867 - val_accuracy: 0.6600\n",
            "Epoch 243/300\n",
            "14/14 [==============================] - 0s 5ms/step - loss: 0.5914 - accuracy: 0.6916 - val_loss: 4.7981 - val_accuracy: 0.6800\n",
            "Epoch 244/300\n",
            "14/14 [==============================] - 0s 3ms/step - loss: 0.5751 - accuracy: 0.6984 - val_loss: 4.2094 - val_accuracy: 0.7000\n",
            "Epoch 245/300\n",
            "14/14 [==============================] - 0s 3ms/step - loss: 0.5789 - accuracy: 0.6939 - val_loss: 4.1802 - val_accuracy: 0.6800\n",
            "Epoch 246/300\n",
            "14/14 [==============================] - 0s 4ms/step - loss: 0.6000 - accuracy: 0.6939 - val_loss: 4.3034 - val_accuracy: 0.6800\n",
            "Epoch 247/300\n",
            "14/14 [==============================] - 0s 3ms/step - loss: 0.5760 - accuracy: 0.6939 - val_loss: 4.6243 - val_accuracy: 0.6600\n",
            "Epoch 248/300\n",
            "14/14 [==============================] - 0s 3ms/step - loss: 0.5689 - accuracy: 0.7052 - val_loss: 4.9942 - val_accuracy: 0.5600\n",
            "Epoch 249/300\n",
            "14/14 [==============================] - 0s 3ms/step - loss: 0.5964 - accuracy: 0.6939 - val_loss: 5.0324 - val_accuracy: 0.7000\n",
            "Epoch 250/300\n",
            "14/14 [==============================] - 0s 3ms/step - loss: 0.5863 - accuracy: 0.7007 - val_loss: 4.0066 - val_accuracy: 0.6600\n",
            "Epoch 251/300\n",
            "14/14 [==============================] - 0s 3ms/step - loss: 0.5761 - accuracy: 0.7075 - val_loss: 4.3159 - val_accuracy: 0.6600\n",
            "Epoch 252/300\n",
            "14/14 [==============================] - 0s 3ms/step - loss: 0.5962 - accuracy: 0.6961 - val_loss: 4.5304 - val_accuracy: 0.6400\n",
            "Epoch 253/300\n",
            "14/14 [==============================] - 0s 4ms/step - loss: 0.5949 - accuracy: 0.7007 - val_loss: 4.3058 - val_accuracy: 0.7000\n",
            "Epoch 254/300\n",
            "14/14 [==============================] - 0s 3ms/step - loss: 0.5727 - accuracy: 0.7029 - val_loss: 4.4424 - val_accuracy: 0.6600\n",
            "Epoch 255/300\n",
            "14/14 [==============================] - 0s 3ms/step - loss: 0.5765 - accuracy: 0.6984 - val_loss: 3.9453 - val_accuracy: 0.6600\n",
            "Epoch 256/300\n",
            "14/14 [==============================] - 0s 3ms/step - loss: 0.5969 - accuracy: 0.6871 - val_loss: 4.2203 - val_accuracy: 0.6600\n",
            "Epoch 257/300\n",
            "14/14 [==============================] - 0s 3ms/step - loss: 0.5933 - accuracy: 0.6893 - val_loss: 4.5875 - val_accuracy: 0.7000\n",
            "Epoch 258/300\n",
            "14/14 [==============================] - 0s 3ms/step - loss: 0.5829 - accuracy: 0.6984 - val_loss: 4.3997 - val_accuracy: 0.7000\n",
            "Epoch 259/300\n",
            "14/14 [==============================] - 0s 3ms/step - loss: 0.5885 - accuracy: 0.6984 - val_loss: 5.0852 - val_accuracy: 0.6800\n",
            "Epoch 260/300\n",
            "14/14 [==============================] - 0s 3ms/step - loss: 0.5765 - accuracy: 0.6984 - val_loss: 5.0926 - val_accuracy: 0.6600\n",
            "Epoch 261/300\n",
            "14/14 [==============================] - 0s 3ms/step - loss: 0.5842 - accuracy: 0.7098 - val_loss: 4.7809 - val_accuracy: 0.6800\n",
            "Epoch 262/300\n",
            "14/14 [==============================] - 0s 3ms/step - loss: 0.5857 - accuracy: 0.6916 - val_loss: 4.7261 - val_accuracy: 0.6800\n",
            "Epoch 263/300\n",
            "14/14 [==============================] - 0s 3ms/step - loss: 0.5882 - accuracy: 0.6939 - val_loss: 4.7765 - val_accuracy: 0.6800\n",
            "Epoch 264/300\n",
            "14/14 [==============================] - 0s 3ms/step - loss: 0.5852 - accuracy: 0.6916 - val_loss: 4.7462 - val_accuracy: 0.6600\n",
            "Epoch 265/300\n",
            "14/14 [==============================] - 0s 3ms/step - loss: 0.5650 - accuracy: 0.7120 - val_loss: 5.2584 - val_accuracy: 0.6800\n",
            "Epoch 266/300\n",
            "14/14 [==============================] - 0s 3ms/step - loss: 0.5820 - accuracy: 0.6961 - val_loss: 6.1047 - val_accuracy: 0.7000\n",
            "Epoch 267/300\n",
            "14/14 [==============================] - 0s 3ms/step - loss: 0.6765 - accuracy: 0.6984 - val_loss: 4.8512 - val_accuracy: 0.6800\n",
            "Epoch 268/300\n",
            "14/14 [==============================] - 0s 3ms/step - loss: 0.5717 - accuracy: 0.7075 - val_loss: 4.8467 - val_accuracy: 0.6400\n",
            "Epoch 269/300\n",
            "14/14 [==============================] - 0s 3ms/step - loss: 0.5710 - accuracy: 0.6984 - val_loss: 4.8034 - val_accuracy: 0.6800\n",
            "Epoch 270/300\n",
            "14/14 [==============================] - 0s 3ms/step - loss: 0.5865 - accuracy: 0.6984 - val_loss: 5.0640 - val_accuracy: 0.6400\n",
            "Epoch 271/300\n",
            "14/14 [==============================] - 0s 3ms/step - loss: 0.5901 - accuracy: 0.7029 - val_loss: 3.8374 - val_accuracy: 0.6600\n",
            "Epoch 272/300\n",
            "14/14 [==============================] - 0s 3ms/step - loss: 0.5748 - accuracy: 0.7007 - val_loss: 4.2206 - val_accuracy: 0.6800\n",
            "Epoch 273/300\n",
            "14/14 [==============================] - 0s 3ms/step - loss: 0.5892 - accuracy: 0.6984 - val_loss: 4.3489 - val_accuracy: 0.6600\n",
            "Epoch 274/300\n",
            "14/14 [==============================] - 0s 3ms/step - loss: 0.5707 - accuracy: 0.7075 - val_loss: 4.4548 - val_accuracy: 0.5600\n",
            "Epoch 275/300\n",
            "14/14 [==============================] - 0s 3ms/step - loss: 0.5940 - accuracy: 0.6984 - val_loss: 4.2145 - val_accuracy: 0.6800\n",
            "Epoch 276/300\n",
            "14/14 [==============================] - 0s 3ms/step - loss: 0.5820 - accuracy: 0.6939 - val_loss: 4.6732 - val_accuracy: 0.6800\n",
            "Epoch 277/300\n",
            "14/14 [==============================] - 0s 3ms/step - loss: 0.5727 - accuracy: 0.7052 - val_loss: 3.8084 - val_accuracy: 0.6800\n",
            "Epoch 278/300\n",
            "14/14 [==============================] - 0s 3ms/step - loss: 0.5719 - accuracy: 0.7029 - val_loss: 5.0305 - val_accuracy: 0.6400\n",
            "Epoch 279/300\n",
            "14/14 [==============================] - 0s 4ms/step - loss: 0.5740 - accuracy: 0.7052 - val_loss: 5.0878 - val_accuracy: 0.7000\n",
            "Epoch 280/300\n",
            "14/14 [==============================] - 0s 4ms/step - loss: 0.5878 - accuracy: 0.6939 - val_loss: 3.8899 - val_accuracy: 0.6800\n",
            "Epoch 281/300\n",
            "14/14 [==============================] - 0s 3ms/step - loss: 0.5768 - accuracy: 0.6939 - val_loss: 4.4361 - val_accuracy: 0.7000\n",
            "Epoch 282/300\n",
            "14/14 [==============================] - 0s 3ms/step - loss: 0.5687 - accuracy: 0.7029 - val_loss: 4.2892 - val_accuracy: 0.6800\n",
            "Epoch 283/300\n",
            "14/14 [==============================] - 0s 3ms/step - loss: 0.6349 - accuracy: 0.6984 - val_loss: 4.2141 - val_accuracy: 0.6800\n",
            "Epoch 284/300\n",
            "14/14 [==============================] - 0s 3ms/step - loss: 0.5848 - accuracy: 0.7007 - val_loss: 4.2365 - val_accuracy: 0.6800\n",
            "Epoch 285/300\n",
            "14/14 [==============================] - 0s 5ms/step - loss: 0.5771 - accuracy: 0.7007 - val_loss: 4.3846 - val_accuracy: 0.6800\n",
            "Epoch 286/300\n",
            "14/14 [==============================] - 0s 3ms/step - loss: 0.5828 - accuracy: 0.6939 - val_loss: 4.6451 - val_accuracy: 0.6400\n",
            "Epoch 287/300\n",
            "14/14 [==============================] - 0s 3ms/step - loss: 0.5900 - accuracy: 0.6984 - val_loss: 4.5548 - val_accuracy: 0.6800\n",
            "Epoch 288/300\n",
            "14/14 [==============================] - 0s 3ms/step - loss: 0.5800 - accuracy: 0.6939 - val_loss: 4.7053 - val_accuracy: 0.6800\n",
            "Epoch 289/300\n",
            "14/14 [==============================] - 0s 4ms/step - loss: 0.5701 - accuracy: 0.6984 - val_loss: 4.1035 - val_accuracy: 0.6800\n",
            "Epoch 290/300\n",
            "14/14 [==============================] - 0s 3ms/step - loss: 0.5733 - accuracy: 0.6984 - val_loss: 4.5504 - val_accuracy: 0.6800\n",
            "Epoch 291/300\n",
            "14/14 [==============================] - 0s 3ms/step - loss: 0.5641 - accuracy: 0.7007 - val_loss: 4.6728 - val_accuracy: 0.6800\n",
            "Epoch 292/300\n",
            "14/14 [==============================] - 0s 3ms/step - loss: 0.5845 - accuracy: 0.6939 - val_loss: 4.5052 - val_accuracy: 0.6800\n",
            "Epoch 293/300\n",
            "14/14 [==============================] - 0s 3ms/step - loss: 0.5732 - accuracy: 0.6961 - val_loss: 5.9266 - val_accuracy: 0.6400\n",
            "Epoch 294/300\n",
            "14/14 [==============================] - 0s 4ms/step - loss: 0.5898 - accuracy: 0.7052 - val_loss: 5.4184 - val_accuracy: 0.6800\n",
            "Epoch 295/300\n",
            "14/14 [==============================] - 0s 3ms/step - loss: 0.6232 - accuracy: 0.7052 - val_loss: 4.5454 - val_accuracy: 0.6400\n",
            "Epoch 296/300\n",
            "14/14 [==============================] - 0s 3ms/step - loss: 0.5886 - accuracy: 0.6961 - val_loss: 4.7073 - val_accuracy: 0.6800\n",
            "Epoch 297/300\n",
            "14/14 [==============================] - 0s 3ms/step - loss: 0.5876 - accuracy: 0.6961 - val_loss: 5.2148 - val_accuracy: 0.6800\n",
            "Epoch 298/300\n",
            "14/14 [==============================] - 0s 3ms/step - loss: 0.5807 - accuracy: 0.6939 - val_loss: 5.0180 - val_accuracy: 0.6800\n",
            "Epoch 299/300\n",
            "14/14 [==============================] - 0s 3ms/step - loss: 0.5783 - accuracy: 0.6939 - val_loss: 5.0089 - val_accuracy: 0.6800\n",
            "Epoch 300/300\n",
            "14/14 [==============================] - 0s 3ms/step - loss: 0.5838 - accuracy: 0.6961 - val_loss: 6.3411 - val_accuracy: 0.6600\n",
            "4/4 [==============================] - 0s 3ms/step - loss: 8.7606 - accuracy: 0.6829\n"
          ]
        }
      ],
      "source": [
        "from keras.layers import Dropout\n",
        "from keras import regularizers\n",
        "from keras.callbacks import EarlyStopping\n",
        "from keras.models import Sequential\n",
        "from keras.layers import Dense\n",
        "\n",
        "model = Sequential()\n",
        "model.add(Dense(16 ,activation='relu',input_shape=(14,))) \n",
        "model.add(Dense(16,activation='relu'))\n",
        "model.add(Dropout(0.3))\n",
        "model.add(Dense(1,activation='sigmoid'))\n",
        "\n",
        "model.compile(loss='binary_crossentropy',optimizer='rmsprop', metrics=['accuracy'])\n",
        "\n",
        "hist = model.fit(X_train, Y_train,epochs=300,verbose=1, validation_split=0.1)\n",
        "accuracy = model.evaluate(X_test,Y_test)[1]\n"
      ]
    },
    {
      "cell_type": "code",
      "execution_count": null,
      "metadata": {
        "colab": {
          "base_uri": "https://localhost:8080/",
          "height": 573
        },
        "id": "sISNL2vFuuYU",
        "outputId": "7cb38562-f8b6-4cac-e2ff-ff01d78b693a"
      },
      "outputs": [
        {
          "data": {
            "image/png": "[encoded data removed]",
            "text/plain": [
              "<Figure size 432x288 with 1 Axes>"
            ]
          },
          "metadata": {},
          "output_type": "display_data"
        },
        {
          "data": {
            "image/png": "[encoded data removed]",
            "text/plain": [
              "<Figure size 432x288 with 1 Axes>"
            ]
          },
          "metadata": {},
          "output_type": "display_data"
        }
      ],
      "source": [
        "plot.plot(hist.history['loss'])\n",
        "plot.plot(hist.history['val_loss'])\n",
        "plot.title('Model loss')\n",
        "plot.ylabel('Loss')\n",
        "plot.xlabel('Epoch')\n",
        "plot.legend(['Train', 'Val'], loc='upper right')\n",
        "plot.show()\n",
        "plot.plot(hist.history['accuracy'])\n",
        "plot.plot(hist.history['val_accuracy'])\n",
        "plot.title('Model acc')\n",
        "plot.ylabel('acc')\n",
        "plot.xlabel('Epoch')\n",
        "plot.legend(['Train', 'Val'], loc='upper right')\n",
        "plot.show()\n"
      ]
    },
    {
      "cell_type": "markdown",
      "metadata": {
        "id": "sr8K83vFhtBr"
      },
      "source": [
        "# UNSUPERVISED LEARNING - K means clusterning"
      ]
    },
    {
      "cell_type": "code",
      "execution_count": null,
      "metadata": {
        "id": "vIE-AcoGxOCz"
      },
      "outputs": [],
      "source": [
        "from sklearn.cluster import KMeans"
      ]
    },
    {
      "cell_type": "code",
      "execution_count": null,
      "metadata": {
        "colab": {
          "base_uri": "https://localhost:8080/",
          "height": 330
        },
        "id": "VN15_BsSii_j",
        "outputId": "c8e946c6-1dbc-4e32-ff4d-d1088bc980b2"
      },
      "outputs": [
        {
          "data": {
            "image/png": "[encoded data removed]",
            "text/plain": [
              "<Figure size 432x288 with 1 Axes>"
            ]
          },
          "metadata": {},
          "output_type": "display_data"
        },
        {
          "name": "stdout",
          "output_type": "stream",
          "text": [
            "\n",
            "Accuracy: 0.285132382892057\n"
          ]
        }
      ],
      "source": [
        "wcss = []\n",
        "for i in range(1, 11):\n",
        "    kmeans = KMeans(n_clusters=i, init='k-means++', max_iter=300, n_init=10, random_state=0)\n",
        "    kmeans.fit(X_train)\n",
        "    wcss.append(kmeans.inertia_)\n",
        "plot.plot(range(1, 11), wcss)\n",
        "plot.title('Elbow Method')\n",
        "plot.xlabel('Number of clusters')\n",
        "plot.ylabel('WCSS')\n",
        "plot.show()\n",
        "kmeans = KMeans(n_clusters=4, init='k-means++', max_iter=100, n_init=10, random_state=0)\n",
        "pred_y_kn = kmeans.fit_predict(X_train)\n",
        "result2 = accuracy_score(Y_train, pred_y_kn)\n",
        "print(\"\\nAccuracy:\",result2)\n"
      ]
    }
  ],
  "metadata": {
    "colab": {
      "collapsed_sections": [],
      "provenance": []
    },
    "kernelspec": {
      "display_name": "Python 3",
      "name": "python3"
    },
    "language_info": {
      "name": "python"
    }
  },
  "nbformat": 4,
  "nbformat_minor": 0
}