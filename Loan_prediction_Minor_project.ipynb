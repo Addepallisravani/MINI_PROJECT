{
  "cells": [
    {
      "cell_type": "markdown",
      "metadata": {
        "id": "q6QAls4X_nic"
      },
      "source": [
        "# **Loan Approval Prediction**\n",
        "In this problem, we will try to decide where a particular ID get the loan. we take the decision by different machine learning algoritms\n"
      ]
    },
    {
      "cell_type": "code",
      "execution_count": 2,
      "metadata": {
        "id": "wHy4AX-BDajW"
      },
      "outputs": [],
      "source": [
        "import pandas as pd\n",
        "import matplotlib.pyplot as plot\n",
        "import seaborn as sb"
      ]
    },
    {
      "cell_type": "code",
      "execution_count": 3,
      "metadata": {
        "colab": {
          "base_uri": "https://localhost:8080/"
        },
        "id": "Uag091te9zgs",
        "outputId": "ef38ac25-9791-42e9-9c49-2f643e75f4fa"
      },
      "outputs": [
        {
          "output_type": "stream",
          "name": "stdout",
          "text": [
            "<class 'pandas.core.frame.DataFrame'>\n",
            "RangeIndex: 614 entries, 0 to 613\n",
            "Data columns (total 13 columns):\n",
            " #   Column             Non-Null Count  Dtype  \n",
            "---  ------             --------------  -----  \n",
            " 0   Loan_ID            614 non-null    object \n",
            " 1   Gender             601 non-null    object \n",
            " 2   Married            611 non-null    object \n",
            " 3   Dependents         599 non-null    object \n",
            " 4   Education          614 non-null    object \n",
            " 5   Self_Employed      582 non-null    object \n",
            " 6   ApplicantIncome    614 non-null    int64  \n",
            " 7   CoapplicantIncome  614 non-null    float64\n",
            " 8   LoanAmount         592 non-null    float64\n",
            " 9   Loan_Amount_Term   600 non-null    float64\n",
            " 10  Credit_History     564 non-null    float64\n",
            " 11  Property_Area      614 non-null    object \n",
            " 12  Loan_Status        614 non-null    object \n",
            "dtypes: float64(4), int64(1), object(8)\n",
            "memory usage: 62.5+ KB\n",
            "None\n"
          ]
        }
      ],
      "source": [
        "train_df = pd.read_csv(\"/content/train_u6lujuX_CVtuZ9i.csv\")    #importing the dataset\n",
        "print(train_df.info())                 #Brief description about the dataset"
      ]
    },
    {
      "cell_type": "markdown",
      "metadata": {
        "id": "kkHHso4GBPoe"
      },
      "source": [
        "We can clearly see there are 13 columns and there are missing data points in the dataset.\n"
      ]
    },
    {
      "cell_type": "code",
      "execution_count": 4,
      "metadata": {
        "id": "GQX6ttTv_K2O"
      },
      "outputs": [],
      "source": [
        "train_df = train_df.drop(columns= [\"Loan_ID\"])"
      ]
    },
    {
      "cell_type": "markdown",
      "metadata": {
        "id": "zqr2i_dHJSvE"
      },
      "source": [
        "\n",
        "\n",
        "# Analyzing the dataset by graphs\n",
        "\n",
        "By looking at the graphs, We will try to get some conclusions. This is a very important step. All having a data like this, We can \n",
        "\n",
        "1) generalise or remove the columns which doesnt have any \n",
        "significane on making the decision. \n",
        "\n",
        "2) remove the outliners. On large datasets, the computation can  be decreased."
      ]
    },
    {
      "cell_type": "code",
      "execution_count": 5,
      "metadata": {
        "colab": {
          "base_uri": "https://localhost:8080/",
          "height": 298
        },
        "id": "PRhUUQEoDXoI",
        "outputId": "9b5c1b9d-895c-4667-e5b9-375a6410d1da"
      },
      "outputs": [
        {
          "output_type": "execute_result",
          "data": {
            "text/plain": [
              "<matplotlib.axes._subplots.AxesSubplot at 0x7f7a8c6d1c10>"
            ]
          },
          "metadata": {},
          "execution_count": 5
        },
        {
          "output_type": "display_data",
          "data": {
            "text/plain": [
              "<Figure size 432x288 with 1 Axes>"
            ],
            "image/png": "[encoded data removed]"
          },
          "metadata": {
            "needs_background": "light"
          }
        }
      ],
      "source": [
        "sb.countplot(x=train_df['Gender'], data=train_df, hue='Loan_Status')"
      ]
    },
    {
      "cell_type": "markdown",
      "metadata": {
        "id": "e1fdfkVDLUtX"
      },
      "source": [
        "**Interpreted data from above graph**\n",
        "\n",
        "Most of the people who apply are men (3 times more) and there are higher chances the loan gets sanctioned if the applicant sex is 'Male'"
      ]
    },
    {
      "cell_type": "code",
      "execution_count": 6,
      "metadata": {
        "colab": {
          "base_uri": "https://localhost:8080/",
          "height": 297
        },
        "id": "ItFdpwvXGAb9",
        "outputId": "10b94bee-21b6-43f7-a8ac-7ef89b2ddf59"
      },
      "outputs": [
        {
          "output_type": "execute_result",
          "data": {
            "text/plain": [
              "<matplotlib.axes._subplots.AxesSubplot at 0x7f7a8c5b2e10>"
            ]
          },
          "metadata": {},
          "execution_count": 6
        },
        {
          "output_type": "display_data",
          "data": {
            "text/plain": [
              "<Figure size 432x288 with 1 Axes>"
            ],
            "image/png": "[encoded data removed]"
          },
          "metadata": {
            "needs_background": "light"
          }
        }
      ],
      "source": [
        "sb.countplot(x=train_df['Married'], data=train_df, hue='Loan_Status')"
      ]
    },
    {
      "cell_type": "markdown",
      "metadata": {
        "id": "oG0fOdjONrwk"
      },
      "source": [
        "**Interpreted data from above graph**\n",
        "\n",
        "2/3 rd of the people who applied for loan are married and married applicants are more likely to get loan sanctioned"
      ]
    },
    {
      "cell_type": "code",
      "execution_count": 7,
      "metadata": {
        "colab": {
          "base_uri": "https://localhost:8080/",
          "height": 297
        },
        "id": "AtnT3t04E4Jt",
        "outputId": "913e43f4-2459-4135-c812-5852b4e0614f"
      },
      "outputs": [
        {
          "output_type": "execute_result",
          "data": {
            "text/plain": [
              "<matplotlib.axes._subplots.AxesSubplot at 0x7f7a8c0fb6d0>"
            ]
          },
          "metadata": {},
          "execution_count": 7
        },
        {
          "output_type": "display_data",
          "data": {
            "text/plain": [
              "<Figure size 432x288 with 1 Axes>"
            ],
            "image/png": "[encoded data removed]"
          },
          "metadata": {
            "needs_background": "light"
          }
        }
      ],
      "source": [
        "sb.countplot(x=train_df['Dependents'], data=train_df, hue='Loan_Status')"
      ]
    },
    {
      "cell_type": "markdown",
      "metadata": {
        "id": "3JF2avSgUQjN"
      },
      "source": [
        "**Interpreted data from above graph**\n",
        "\n",
        "If the dependants are 0, there is highly likely that loan is approved"
      ]
    },
    {
      "cell_type": "code",
      "execution_count": 8,
      "metadata": {
        "colab": {
          "base_uri": "https://localhost:8080/",
          "height": 297
        },
        "id": "Iur8ekVaGKvx",
        "outputId": "2e1d9344-f960-4525-85f9-5ab4d73645b9"
      },
      "outputs": [
        {
          "output_type": "execute_result",
          "data": {
            "text/plain": [
              "<matplotlib.axes._subplots.AxesSubplot at 0x7f7a8c0d72d0>"
            ]
          },
          "metadata": {},
          "execution_count": 8
        },
        {
          "output_type": "display_data",
          "data": {
            "text/plain": [
              "<Figure size 432x288 with 1 Axes>"
            ],
            "image/png": "[encoded data removed]"
          },
          "metadata": {
            "needs_background": "light"
          }
        }
      ],
      "source": [
        "sb.countplot(x=train_df['Education'], data=train_df, hue='Loan_Status')"
      ]
    },
    {
      "cell_type": "markdown",
      "metadata": {
        "id": "BqI81hPgUicT"
      },
      "source": [
        "**Interpreted data from above graph**\n",
        "\n",
        "Graduated population are more likely to get the loan"
      ]
    },
    {
      "cell_type": "code",
      "execution_count": 9,
      "metadata": {
        "colab": {
          "base_uri": "https://localhost:8080/",
          "height": 298
        },
        "id": "RyS43L9KGRVF",
        "outputId": "cd6acd8d-2832-4b6c-d50f-83b8afa2e571"
      },
      "outputs": [
        {
          "output_type": "execute_result",
          "data": {
            "text/plain": [
              "<matplotlib.axes._subplots.AxesSubplot at 0x7f7a8bfce9d0>"
            ]
          },
          "metadata": {},
          "execution_count": 9
        },
        {
          "output_type": "display_data",
          "data": {
            "text/plain": [
              "<Figure size 432x288 with 1 Axes>"
            ],
            "image/png": "[encoded data removed]"
          },
          "metadata": {
            "needs_background": "light"
          }
        }
      ],
      "source": [
        "sb.countplot(x=train_df['Self_Employed'], data=train_df, hue='Loan_Status')"
      ]
    },
    {
      "cell_type": "markdown",
      "metadata": {
        "id": "jVKbawgyUxg8"
      },
      "source": [
        "**Interpreted data from above graph**\n",
        "\n",
        "5/6th of population is not self employed"
      ]
    },
    {
      "cell_type": "code",
      "execution_count": 10,
      "metadata": {
        "colab": {
          "base_uri": "https://localhost:8080/",
          "height": 298
        },
        "id": "Ta9gnBQFG0K_",
        "outputId": "fe26855c-58c9-44ea-a00f-5f9c3825ea90"
      },
      "outputs": [
        {
          "output_type": "execute_result",
          "data": {
            "text/plain": [
              "<matplotlib.axes._subplots.AxesSubplot at 0x7f7a8bf5c310>"
            ]
          },
          "metadata": {},
          "execution_count": 10
        },
        {
          "output_type": "display_data",
          "data": {
            "text/plain": [
              "<Figure size 432x288 with 1 Axes>"
            ],
            "image/png": "[encoded data removed]"
          },
          "metadata": {
            "needs_background": "light"
          }
        }
      ],
      "source": [
        "sb.countplot(x=train_df['Credit_History'], data=train_df, hue='Loan_Status')"
      ]
    },
    {
      "cell_type": "markdown",
      "metadata": {
        "id": "xBPy3C6FVmHi"
      },
      "source": [
        "**Interpreted data from above graph**\n",
        "\n",
        "Applicant with credit history are far more likely to be accepted."
      ]
    },
    {
      "cell_type": "code",
      "execution_count": 11,
      "metadata": {
        "colab": {
          "base_uri": "https://localhost:8080/",
          "height": 298
        },
        "id": "kzd1Xvt2LhWM",
        "outputId": "c767faed-5323-469b-d00b-7c7c803425fc"
      },
      "outputs": [
        {
          "output_type": "execute_result",
          "data": {
            "text/plain": [
              "<matplotlib.axes._subplots.AxesSubplot at 0x7f7a8bed02d0>"
            ]
          },
          "metadata": {},
          "execution_count": 11
        },
        {
          "output_type": "display_data",
          "data": {
            "text/plain": [
              "<Figure size 432x288 with 1 Axes>"
            ],
            "image/png": "[encoded data removed]"
          },
          "metadata": {
            "needs_background": "light"
          }
        }
      ],
      "source": [
        "sb.countplot(x=train_df['Loan_Status'], data=train_df, hue='Loan_Status')"
      ]
    },
    {
      "cell_type": "markdown",
      "metadata": {
        "id": "qhntbKbJLqHe"
      },
      "source": [
        "**Interpreted data from above graph**\n",
        "\n",
        "We can conclude, 2/3 of people who applied got there loan sanctioned.\n"
      ]
    },
    {
      "cell_type": "markdown",
      "metadata": {
        "id": "F7NhZ4hXeGeH"
      },
      "source": [
        "# **Preprocessing the data**\n",
        "The data needs to be pre processed to fit to the model. 2 reasons why this is mandatory is \n",
        "\n",
        "\n",
        "*   Missing values (Imputing)\n",
        "*   few columns have features in test format. these needs to be converted in number format (Encoding).\n",
        "\n"
      ]
    },
    {
      "cell_type": "code",
      "execution_count": 12,
      "metadata": {
        "colab": {
          "base_uri": "https://localhost:8080/"
        },
        "id": "khaBi85iW1FR",
        "outputId": "24c3e803-645a-4ddf-acf0-4da0c1c52a80"
      },
      "outputs": [
        {
          "output_type": "stream",
          "name": "stdout",
          "text": [
            "   ApplicantIncome  CoapplicantIncome  LoanAmount  Loan_Amount_Term  \\\n",
            "0             5849                0.0         NaN             360.0   \n",
            "1             4583             1508.0       128.0             360.0   \n",
            "2             3000                0.0        66.0             360.0   \n",
            "3             2583             2358.0       120.0             360.0   \n",
            "4             6000                0.0       141.0             360.0   \n",
            "\n",
            "   Credit_History  Gender_Male  Married_Yes  Dependents_1  Dependents_2  \\\n",
            "0             1.0            1            0             0             0   \n",
            "1             1.0            1            1             1             0   \n",
            "2             1.0            1            1             0             0   \n",
            "3             1.0            1            1             0             0   \n",
            "4             1.0            1            0             0             0   \n",
            "\n",
            "   Dependents_3+  Education_Not Graduate  Self_Employed_Yes  \\\n",
            "0              0                       0                  0   \n",
            "1              0                       0                  0   \n",
            "2              0                       0                  1   \n",
            "3              0                       1                  0   \n",
            "4              0                       0                  0   \n",
            "\n",
            "   Property_Area_Semiurban  Property_Area_Urban  Loan_Status_Y  \n",
            "0                        0                    1              1  \n",
            "1                        0                    0              0  \n",
            "2                        0                    1              1  \n",
            "3                        0                    1              1  \n",
            "4                        0                    1              1  \n"
          ]
        }
      ],
      "source": [
        "train_df_encoded = pd.get_dummies(train_df,drop_first=True) #Convert categorical variable into dummy/indicator variables.\n",
        "print(train_df_encoded.head())"
      ]
    },
    {
      "cell_type": "code",
      "execution_count": 13,
      "metadata": {
        "id": "H8keU7nYgJ2d"
      },
      "outputs": [],
      "source": [
        "X = train_df_encoded.drop(columns='Loan_Status_Y')\n",
        "Y = train_df_encoded['Loan_Status_Y']"
      ]
    },
    {
      "cell_type": "code",
      "execution_count": 14,
      "metadata": {
        "colab": {
          "base_uri": "https://localhost:8080/",
          "height": 426
        },
        "id": "KMn_0n6_12Qr",
        "outputId": "17fd8461-e1a8-4256-9576-57e844e884f4"
      },
      "outputs": [
        {
          "output_type": "stream",
          "name": "stderr",
          "text": [
            "/usr/local/lib/python3.7/dist-packages/seaborn/regression.py:581: UserWarning: The `size` parameter has been renamed to `height`; please update your code.\n",
            "  warnings.warn(msg, UserWarning)\n"
          ]
        },
        {
          "output_type": "execute_result",
          "data": {
            "text/plain": [
              "<seaborn.axisgrid.FacetGrid at 0x7f7a8be51850>"
            ]
          },
          "metadata": {},
          "execution_count": 14
        },
        {
          "output_type": "display_data",
          "data": {
            "text/plain": [
              "<Figure size 1110.42x432 with 2 Axes>"
            ],
            "image/png": "[encoded data removed]"
          },
          "metadata": {
            "needs_background": "light"
          }
        }
      ],
      "source": [
        "g = sb.lmplot(x='ApplicantIncome',y='LoanAmount',data= train_df_encoded , col='Self_Employed_Yes', hue='Gender_Male',\n",
        "          palette= [\"Red\" , \"Blue\",\"Yellow\"] ,aspect=1.2,size=6)\n",
        "g.set(ylim=(0, 800))"
      ]
    },
    {
      "cell_type": "markdown",
      "metadata": {
        "id": "7OteBnWr-NmP"
      },
      "source": [
        "Above graph tells:\n",
        "\n",
        "* The male applicants take more amount of loan than female.\n",
        "* The males are higher in number of \"NOT self employed\" category.\n",
        "* Majority of applicants are NOT self employed.\n",
        "* The majority of income taken is about 0-200 with income in the range 0-20000.\n"
      ]
    },
    {
      "cell_type": "markdown",
      "metadata": {
        "id": "1zbibPb3gShR"
      },
      "source": [
        "# Train and Test split"
      ]
    },
    {
      "cell_type": "code",
      "execution_count": 15,
      "metadata": {
        "id": "XgmzyazpgQn3"
      },
      "outputs": [],
      "source": [
        "from sklearn.model_selection import train_test_split\n",
        "X_train, X_test, Y_train, Y_test = train_test_split(X,Y, test_size=0.20,stratify =Y) "
      ]
    },
    {
      "cell_type": "code",
      "execution_count": 16,
      "metadata": {
        "id": "WDtLYAEGhsxO"
      },
      "outputs": [],
      "source": [
        "from sklearn.impute import SimpleImputer\n",
        "temp = SimpleImputer(strategy='mean')\n",
        "X_train = temp.fit_transform(X_train)\n",
        "X_test = temp.fit_transform(X_test)"
      ]
    },
    {
      "cell_type": "markdown",
      "metadata": {
        "id": "hGHMAAZj_HVf"
      },
      "source": [
        "# LINEAR REGRESSION FOR CLASSIFICATION"
      ]
    },
    {
      "cell_type": "code",
      "execution_count": 17,
      "metadata": {
        "id": "YkJiKdlP_W56"
      },
      "outputs": [],
      "source": [
        "from sklearn.linear_model import LinearRegression\n",
        "lrc = LinearRegression()\n",
        "lrc.fit(X_train, Y_train)\n",
        "temp= lrc.predict(X_test)\n",
        "Y_pred_lrc = []"
      ]
    },
    {
      "cell_type": "code",
      "execution_count": 18,
      "metadata": {
        "id": "-UoPumi-N03r"
      },
      "outputs": [],
      "source": [
        "for i in temp:\n",
        "  if i>0.5:\n",
        "    Y_pred_lrc.append(1)\n",
        "  else:\n",
        "    Y_pred_lrc.append(0) "
      ]
    },
    {
      "cell_type": "code",
      "execution_count": 19,
      "metadata": {
        "colab": {
          "base_uri": "https://localhost:8080/"
        },
        "id": "UmUsM_kXByuG",
        "outputId": "f812ba9e-b33e-4a17-e8f3-662a83a87ed9"
      },
      "outputs": [
        {
          "output_type": "stream",
          "name": "stdout",
          "text": [
            "\n",
            "Accuracy: 0.7723577235772358\n"
          ]
        }
      ],
      "source": [
        "from sklearn.metrics import accuracy_score\n",
        "# Accuracy score\n",
        "result2 = accuracy_score(Y_test, Y_pred_lrc)\n",
        "print(\"\\nAccuracy:\",result2)"
      ]
    },
    {
      "cell_type": "markdown",
      "metadata": {
        "id": "0_azK9WCkco9"
      },
      "source": [
        "# LOGISTIC REGRESSION"
      ]
    },
    {
      "cell_type": "code",
      "execution_count": 20,
      "metadata": {
        "id": "GFD7MLphijxZ"
      },
      "outputs": [],
      "source": [
        "from sklearn.linear_model import LogisticRegression\n",
        "\n",
        "LR = LogisticRegression(solver='lbfgs')\n",
        "LR.fit(X_train, Y_train)\n",
        "Y_pred_LR = LR.predict(X_test)"
      ]
    },
    {
      "cell_type": "code",
      "execution_count": 21,
      "metadata": {
        "colab": {
          "base_uri": "https://localhost:8080/"
        },
        "id": "kLmKdQ0ntjVF",
        "outputId": "210ed663-2b04-4f18-99c7-ba7bcbe00a15"
      },
      "outputs": [
        {
          "output_type": "stream",
          "name": "stdout",
          "text": [
            "\n",
            "Accuracy: 0.7723577235772358\n"
          ]
        }
      ],
      "source": [
        "from sklearn.metrics import accuracy_score\n",
        "\n",
        "result2 = accuracy_score(Y_test, Y_pred_LR)\n",
        "print(\"\\nAccuracy:\",result2)"
      ]
    },
    {
      "cell_type": "markdown",
      "metadata": {
        "id": "j1yQ8waqsIrk"
      },
      "source": [
        "# SUPPORT VECTOR MACHINES (SVM)\n",
        "\n",
        "\n",
        "\n",
        "\n",
        "\n"
      ]
    },
    {
      "cell_type": "code",
      "execution_count": 22,
      "metadata": {
        "id": "ZR5OW0zJnJOJ"
      },
      "outputs": [],
      "source": [
        "from sklearn.svm import SVC\n",
        "\n",
        "SVM = SVC(kernel='linear')\n",
        "SVM.fit(X_train, Y_train) \n",
        "Y_pred_SVM = SVM.predict(X_test)"
      ]
    },
    {
      "cell_type": "code",
      "execution_count": 23,
      "metadata": {
        "colab": {
          "base_uri": "https://localhost:8080/"
        },
        "id": "3fCkGEReynoS",
        "outputId": "02a796b2-594f-4ab3-8d77-ec3858a453c4"
      },
      "outputs": [
        {
          "output_type": "stream",
          "name": "stdout",
          "text": [
            "\n",
            "Accuracy: 0.7642276422764228\n"
          ]
        }
      ],
      "source": [
        "# Accuracy score\n",
        "result2 = accuracy_score(Y_test, Y_pred_SVM)\n",
        "print(\"\\nAccuracy:\",result2)"
      ]
    },
    {
      "cell_type": "markdown",
      "metadata": {
        "id": "4j6N7Iwusr83"
      },
      "source": [
        "# RANDOM FOREST CLASSIFIER"
      ]
    },
    {
      "cell_type": "code",
      "execution_count": 24,
      "metadata": {
        "id": "eDi3L9_B1UQ4"
      },
      "outputs": [],
      "source": [
        "from sklearn.ensemble import RandomForestClassifier\n",
        "random_forest = RandomForestClassifier(n_estimators= 100)\n",
        "random_forest.fit(X_train, Y_train)\n",
        "Y_pred_rf = random_forest.predict(X_test)"
      ]
    },
    {
      "cell_type": "code",
      "execution_count": 25,
      "metadata": {
        "colab": {
          "base_uri": "https://localhost:8080/"
        },
        "id": "q0REes8Wthrr",
        "outputId": "7e5350fa-8327-47d6-cb9f-b150e4d0df4f"
      },
      "outputs": [
        {
          "output_type": "stream",
          "name": "stdout",
          "text": [
            "\n",
            "Accuracy: 0.7723577235772358\n"
          ]
        }
      ],
      "source": [
        "# Accuracy score\n",
        "result2 = accuracy_score(Y_test, Y_pred_rf)\n",
        "print(\"\\nAccuracy:\",result2)"
      ]
    },
    {
      "cell_type": "markdown",
      "metadata": {
        "id": "pwN5vTxBuEiK"
      },
      "source": [
        "# NEURAL NETWORK"
      ]
    },
    {
      "cell_type": "code",
      "execution_count": 26,
      "metadata": {
        "colab": {
          "base_uri": "https://localhost:8080/"
        },
        "id": "fzoGEXVZtx0x",
        "outputId": "dc3b620c-8d09-4171-f3c1-bf4df09e0d5e"
      },
      "outputs": [
        {
          "output_type": "stream",
          "name": "stdout",
          "text": [
            "Epoch 1/300\n",
            "14/14 [==============================] - 1s 16ms/step - loss: 267.4665 - accuracy: 0.5147 - val_loss: 45.8917 - val_accuracy: 0.4400\n",
            "Epoch 2/300\n",
            "14/14 [==============================] - 0s 4ms/step - loss: 253.9841 - accuracy: 0.5397 - val_loss: 58.8019 - val_accuracy: 0.7400\n",
            "Epoch 3/300\n",
            "14/14 [==============================] - 0s 4ms/step - loss: 210.4225 - accuracy: 0.5941 - val_loss: 55.6392 - val_accuracy: 0.7400\n",
            "Epoch 4/300\n",
            "14/14 [==============================] - 0s 4ms/step - loss: 191.5871 - accuracy: 0.5782 - val_loss: 38.2939 - val_accuracy: 0.6000\n",
            "Epoch 5/300\n",
            "14/14 [==============================] - 0s 4ms/step - loss: 168.5242 - accuracy: 0.5374 - val_loss: 34.5471 - val_accuracy: 0.6000\n",
            "Epoch 6/300\n",
            "14/14 [==============================] - 0s 4ms/step - loss: 140.7908 - accuracy: 0.5420 - val_loss: 35.3168 - val_accuracy: 0.6200\n",
            "Epoch 7/300\n",
            "14/14 [==============================] - 0s 4ms/step - loss: 114.9193 - accuracy: 0.5374 - val_loss: 27.2228 - val_accuracy: 0.6400\n",
            "Epoch 8/300\n",
            "14/14 [==============================] - 0s 4ms/step - loss: 105.0263 - accuracy: 0.5578 - val_loss: 23.2106 - val_accuracy: 0.6400\n",
            "Epoch 9/300\n",
            "14/14 [==============================] - 0s 4ms/step - loss: 82.3414 - accuracy: 0.5510 - val_loss: 22.8424 - val_accuracy: 0.6200\n",
            "Epoch 10/300\n",
            "14/14 [==============================] - 0s 4ms/step - loss: 86.6548 - accuracy: 0.5283 - val_loss: 9.6733 - val_accuracy: 0.6000\n",
            "Epoch 11/300\n",
            "14/14 [==============================] - 0s 4ms/step - loss: 83.3166 - accuracy: 0.5238 - val_loss: 14.8633 - val_accuracy: 0.6800\n",
            "Epoch 12/300\n",
            "14/14 [==============================] - 0s 4ms/step - loss: 56.7283 - accuracy: 0.5102 - val_loss: 16.3486 - val_accuracy: 0.6800\n",
            "Epoch 13/300\n",
            "14/14 [==============================] - 0s 4ms/step - loss: 54.7325 - accuracy: 0.5193 - val_loss: 6.9521 - val_accuracy: 0.6200\n",
            "Epoch 14/300\n",
            "14/14 [==============================] - 0s 3ms/step - loss: 31.4378 - accuracy: 0.5782 - val_loss: 6.7362 - val_accuracy: 0.7600\n",
            "Epoch 15/300\n",
            "14/14 [==============================] - 0s 3ms/step - loss: 21.1096 - accuracy: 0.5850 - val_loss: 7.9779 - val_accuracy: 0.7400\n",
            "Epoch 16/300\n",
            "14/14 [==============================] - 0s 4ms/step - loss: 19.0716 - accuracy: 0.5896 - val_loss: 2.8244 - val_accuracy: 0.7200\n",
            "Epoch 17/300\n",
            "14/14 [==============================] - 0s 4ms/step - loss: 18.6078 - accuracy: 0.5941 - val_loss: 3.5458 - val_accuracy: 0.6600\n",
            "Epoch 18/300\n",
            "14/14 [==============================] - 0s 3ms/step - loss: 12.0706 - accuracy: 0.5714 - val_loss: 3.2225 - val_accuracy: 0.7400\n",
            "Epoch 19/300\n",
            "14/14 [==============================] - 0s 4ms/step - loss: 12.1976 - accuracy: 0.5782 - val_loss: 2.4938 - val_accuracy: 0.7400\n",
            "Epoch 20/300\n",
            "14/14 [==============================] - 0s 3ms/step - loss: 7.2543 - accuracy: 0.5850 - val_loss: 2.3666 - val_accuracy: 0.7400\n",
            "Epoch 21/300\n",
            "14/14 [==============================] - 0s 4ms/step - loss: 5.7292 - accuracy: 0.6077 - val_loss: 0.8142 - val_accuracy: 0.7200\n",
            "Epoch 22/300\n",
            "14/14 [==============================] - 0s 3ms/step - loss: 4.6338 - accuracy: 0.5760 - val_loss: 1.1147 - val_accuracy: 0.7600\n",
            "Epoch 23/300\n",
            "14/14 [==============================] - 0s 4ms/step - loss: 3.6086 - accuracy: 0.6417 - val_loss: 1.2078 - val_accuracy: 0.7000\n",
            "Epoch 24/300\n",
            "14/14 [==============================] - 0s 4ms/step - loss: 2.5186 - accuracy: 0.6054 - val_loss: 0.9019 - val_accuracy: 0.7000\n",
            "Epoch 25/300\n",
            "14/14 [==============================] - 0s 3ms/step - loss: 1.8340 - accuracy: 0.6213 - val_loss: 0.6095 - val_accuracy: 0.7600\n",
            "Epoch 26/300\n",
            "14/14 [==============================] - 0s 4ms/step - loss: 1.3750 - accuracy: 0.6417 - val_loss: 0.6405 - val_accuracy: 0.7000\n",
            "Epoch 27/300\n",
            "14/14 [==============================] - 0s 4ms/step - loss: 1.1729 - accuracy: 0.6440 - val_loss: 0.7293 - val_accuracy: 0.7600\n",
            "Epoch 28/300\n",
            "14/14 [==============================] - 0s 4ms/step - loss: 0.9867 - accuracy: 0.6077 - val_loss: 0.7077 - val_accuracy: 0.6800\n",
            "Epoch 29/300\n",
            "14/14 [==============================] - 0s 4ms/step - loss: 0.8074 - accuracy: 0.5986 - val_loss: 0.8331 - val_accuracy: 0.7200\n",
            "Epoch 30/300\n",
            "14/14 [==============================] - 0s 4ms/step - loss: 0.8641 - accuracy: 0.6553 - val_loss: 0.6736 - val_accuracy: 0.7600\n",
            "Epoch 31/300\n",
            "14/14 [==============================] - 0s 3ms/step - loss: 0.7290 - accuracy: 0.6599 - val_loss: 0.5942 - val_accuracy: 0.7600\n",
            "Epoch 32/300\n",
            "14/14 [==============================] - 0s 4ms/step - loss: 0.6507 - accuracy: 0.6712 - val_loss: 0.5842 - val_accuracy: 0.7600\n",
            "Epoch 33/300\n",
            "14/14 [==============================] - 0s 5ms/step - loss: 1.3773 - accuracy: 0.6599 - val_loss: 1.0008 - val_accuracy: 0.4800\n",
            "Epoch 34/300\n",
            "14/14 [==============================] - 0s 3ms/step - loss: 0.7354 - accuracy: 0.6259 - val_loss: 0.5808 - val_accuracy: 0.7600\n",
            "Epoch 35/300\n",
            "14/14 [==============================] - 0s 4ms/step - loss: 0.6937 - accuracy: 0.6689 - val_loss: 0.5903 - val_accuracy: 0.7000\n",
            "Epoch 36/300\n",
            "14/14 [==============================] - 0s 4ms/step - loss: 0.6775 - accuracy: 0.6599 - val_loss: 0.5901 - val_accuracy: 0.7600\n",
            "Epoch 37/300\n",
            "14/14 [==============================] - 0s 3ms/step - loss: 0.6726 - accuracy: 0.6644 - val_loss: 0.5798 - val_accuracy: 0.7600\n",
            "Epoch 38/300\n",
            "14/14 [==============================] - 0s 4ms/step - loss: 0.6268 - accuracy: 0.6757 - val_loss: 0.5810 - val_accuracy: 0.7600\n",
            "Epoch 39/300\n",
            "14/14 [==============================] - 0s 3ms/step - loss: 0.6824 - accuracy: 0.6689 - val_loss: 0.6366 - val_accuracy: 0.7600\n",
            "Epoch 40/300\n",
            "14/14 [==============================] - 0s 4ms/step - loss: 0.6491 - accuracy: 0.6780 - val_loss: 0.5750 - val_accuracy: 0.7600\n",
            "Epoch 41/300\n",
            "14/14 [==============================] - 0s 4ms/step - loss: 0.6498 - accuracy: 0.6712 - val_loss: 0.5615 - val_accuracy: 0.7600\n",
            "Epoch 42/300\n",
            "14/14 [==============================] - 0s 4ms/step - loss: 0.6499 - accuracy: 0.6893 - val_loss: 0.5883 - val_accuracy: 0.7600\n",
            "Epoch 43/300\n",
            "14/14 [==============================] - 0s 4ms/step - loss: 0.6658 - accuracy: 0.6803 - val_loss: 0.5784 - val_accuracy: 0.7600\n",
            "Epoch 44/300\n",
            "14/14 [==============================] - 0s 4ms/step - loss: 0.6376 - accuracy: 0.6825 - val_loss: 0.5567 - val_accuracy: 0.7600\n",
            "Epoch 45/300\n",
            "14/14 [==============================] - 0s 4ms/step - loss: 0.6524 - accuracy: 0.6735 - val_loss: 0.6115 - val_accuracy: 0.7600\n",
            "Epoch 46/300\n",
            "14/14 [==============================] - 0s 4ms/step - loss: 0.6525 - accuracy: 0.6825 - val_loss: 0.5739 - val_accuracy: 0.7600\n",
            "Epoch 47/300\n",
            "14/14 [==============================] - 0s 4ms/step - loss: 0.6249 - accuracy: 0.6871 - val_loss: 0.5646 - val_accuracy: 0.7600\n",
            "Epoch 48/300\n",
            "14/14 [==============================] - 0s 4ms/step - loss: 0.6316 - accuracy: 0.6825 - val_loss: 0.5855 - val_accuracy: 0.7600\n",
            "Epoch 49/300\n",
            "14/14 [==============================] - 0s 3ms/step - loss: 0.6298 - accuracy: 0.6803 - val_loss: 0.5776 - val_accuracy: 0.7200\n",
            "Epoch 50/300\n",
            "14/14 [==============================] - 0s 4ms/step - loss: 0.6398 - accuracy: 0.6803 - val_loss: 0.6506 - val_accuracy: 0.7600\n",
            "Epoch 51/300\n",
            "14/14 [==============================] - 0s 3ms/step - loss: 0.6404 - accuracy: 0.6848 - val_loss: 0.5968 - val_accuracy: 0.7600\n",
            "Epoch 52/300\n",
            "14/14 [==============================] - 0s 4ms/step - loss: 0.6413 - accuracy: 0.6712 - val_loss: 0.5576 - val_accuracy: 0.7600\n",
            "Epoch 53/300\n",
            "14/14 [==============================] - 0s 4ms/step - loss: 0.6366 - accuracy: 0.6803 - val_loss: 0.5798 - val_accuracy: 0.7600\n",
            "Epoch 54/300\n",
            "14/14 [==============================] - 0s 3ms/step - loss: 0.6258 - accuracy: 0.6848 - val_loss: 0.5967 - val_accuracy: 0.7600\n",
            "Epoch 55/300\n",
            "14/14 [==============================] - 0s 4ms/step - loss: 0.6399 - accuracy: 0.6825 - val_loss: 0.5702 - val_accuracy: 0.7600\n",
            "Epoch 56/300\n",
            "14/14 [==============================] - 0s 3ms/step - loss: 0.6289 - accuracy: 0.6825 - val_loss: 0.5455 - val_accuracy: 0.7600\n",
            "Epoch 57/300\n",
            "14/14 [==============================] - 0s 3ms/step - loss: 0.6251 - accuracy: 0.6803 - val_loss: 0.5775 - val_accuracy: 0.7600\n",
            "Epoch 58/300\n",
            "14/14 [==============================] - 0s 4ms/step - loss: 0.6269 - accuracy: 0.6871 - val_loss: 0.5649 - val_accuracy: 0.7600\n",
            "Epoch 59/300\n",
            "14/14 [==============================] - 0s 4ms/step - loss: 0.6165 - accuracy: 0.6780 - val_loss: 0.5852 - val_accuracy: 0.7200\n",
            "Epoch 60/300\n",
            "14/14 [==============================] - 0s 3ms/step - loss: 0.6273 - accuracy: 0.6871 - val_loss: 0.5424 - val_accuracy: 0.7600\n",
            "Epoch 61/300\n",
            "14/14 [==============================] - 0s 3ms/step - loss: 0.6268 - accuracy: 0.6825 - val_loss: 0.5702 - val_accuracy: 0.7600\n",
            "Epoch 62/300\n",
            "14/14 [==============================] - 0s 3ms/step - loss: 0.6188 - accuracy: 0.6848 - val_loss: 0.5621 - val_accuracy: 0.7600\n",
            "Epoch 63/300\n",
            "14/14 [==============================] - 0s 4ms/step - loss: 0.6318 - accuracy: 0.6848 - val_loss: 0.5726 - val_accuracy: 0.7600\n",
            "Epoch 64/300\n",
            "14/14 [==============================] - 0s 4ms/step - loss: 0.6327 - accuracy: 0.6825 - val_loss: 0.5829 - val_accuracy: 0.7600\n",
            "Epoch 65/300\n",
            "14/14 [==============================] - 0s 4ms/step - loss: 0.6394 - accuracy: 0.6803 - val_loss: 0.5879 - val_accuracy: 0.7600\n",
            "Epoch 66/300\n",
            "14/14 [==============================] - 0s 4ms/step - loss: 0.6368 - accuracy: 0.6825 - val_loss: 0.5503 - val_accuracy: 0.7600\n",
            "Epoch 67/300\n",
            "14/14 [==============================] - 0s 4ms/step - loss: 0.7949 - accuracy: 0.6848 - val_loss: 0.5419 - val_accuracy: 0.7600\n",
            "Epoch 68/300\n",
            "14/14 [==============================] - 0s 3ms/step - loss: 0.6203 - accuracy: 0.6848 - val_loss: 0.5575 - val_accuracy: 0.7600\n",
            "Epoch 69/300\n",
            "14/14 [==============================] - 0s 4ms/step - loss: 0.6186 - accuracy: 0.6893 - val_loss: 0.5260 - val_accuracy: 0.7600\n",
            "Epoch 70/300\n",
            "14/14 [==============================] - 0s 3ms/step - loss: 0.6198 - accuracy: 0.6893 - val_loss: 0.5419 - val_accuracy: 0.7600\n",
            "Epoch 71/300\n",
            "14/14 [==============================] - 0s 4ms/step - loss: 0.6065 - accuracy: 0.6871 - val_loss: 0.5381 - val_accuracy: 0.7600\n",
            "Epoch 72/300\n",
            "14/14 [==============================] - 0s 3ms/step - loss: 0.6307 - accuracy: 0.6803 - val_loss: 0.5463 - val_accuracy: 0.7600\n",
            "Epoch 73/300\n",
            "14/14 [==============================] - 0s 4ms/step - loss: 0.6149 - accuracy: 0.6871 - val_loss: 0.5280 - val_accuracy: 0.7600\n",
            "Epoch 74/300\n",
            "14/14 [==============================] - 0s 4ms/step - loss: 0.6411 - accuracy: 0.6825 - val_loss: 0.5390 - val_accuracy: 0.7600\n",
            "Epoch 75/300\n",
            "14/14 [==============================] - 0s 4ms/step - loss: 0.6129 - accuracy: 0.6893 - val_loss: 0.5400 - val_accuracy: 0.7600\n",
            "Epoch 76/300\n",
            "14/14 [==============================] - 0s 4ms/step - loss: 0.6254 - accuracy: 0.6893 - val_loss: 0.5737 - val_accuracy: 0.7400\n",
            "Epoch 77/300\n",
            "14/14 [==============================] - 0s 3ms/step - loss: 0.6553 - accuracy: 0.6848 - val_loss: 0.5406 - val_accuracy: 0.7600\n",
            "Epoch 78/300\n",
            "14/14 [==============================] - 0s 3ms/step - loss: 0.6279 - accuracy: 0.6825 - val_loss: 0.5417 - val_accuracy: 0.7600\n",
            "Epoch 79/300\n",
            "14/14 [==============================] - 0s 4ms/step - loss: 0.6232 - accuracy: 0.6848 - val_loss: 0.5428 - val_accuracy: 0.7600\n",
            "Epoch 80/300\n",
            "14/14 [==============================] - 0s 3ms/step - loss: 0.6359 - accuracy: 0.6893 - val_loss: 0.5617 - val_accuracy: 0.7600\n",
            "Epoch 81/300\n",
            "14/14 [==============================] - 0s 5ms/step - loss: 0.6157 - accuracy: 0.6871 - val_loss: 0.5261 - val_accuracy: 0.7600\n",
            "Epoch 82/300\n",
            "14/14 [==============================] - 0s 4ms/step - loss: 0.6361 - accuracy: 0.6871 - val_loss: 0.5604 - val_accuracy: 0.7600\n",
            "Epoch 83/300\n",
            "14/14 [==============================] - 0s 4ms/step - loss: 0.6150 - accuracy: 0.6893 - val_loss: 0.5534 - val_accuracy: 0.7600\n",
            "Epoch 84/300\n",
            "14/14 [==============================] - 0s 4ms/step - loss: 0.6243 - accuracy: 0.6871 - val_loss: 0.5781 - val_accuracy: 0.7600\n",
            "Epoch 85/300\n",
            "14/14 [==============================] - 0s 3ms/step - loss: 0.6973 - accuracy: 0.6803 - val_loss: 0.5556 - val_accuracy: 0.7600\n",
            "Epoch 86/300\n",
            "14/14 [==============================] - 0s 3ms/step - loss: 0.6178 - accuracy: 0.6803 - val_loss: 0.5176 - val_accuracy: 0.7600\n",
            "Epoch 87/300\n",
            "14/14 [==============================] - 0s 3ms/step - loss: 0.6381 - accuracy: 0.6803 - val_loss: 0.5539 - val_accuracy: 0.7600\n",
            "Epoch 88/300\n",
            "14/14 [==============================] - 0s 4ms/step - loss: 0.6268 - accuracy: 0.6848 - val_loss: 0.5393 - val_accuracy: 0.7600\n",
            "Epoch 89/300\n",
            "14/14 [==============================] - 0s 3ms/step - loss: 0.6212 - accuracy: 0.6893 - val_loss: 0.5468 - val_accuracy: 0.7600\n",
            "Epoch 90/300\n",
            "14/14 [==============================] - 0s 3ms/step - loss: 0.6110 - accuracy: 0.6916 - val_loss: 0.5207 - val_accuracy: 0.7600\n",
            "Epoch 91/300\n",
            "14/14 [==============================] - 0s 4ms/step - loss: 0.6287 - accuracy: 0.6803 - val_loss: 0.5477 - val_accuracy: 0.7600\n",
            "Epoch 92/300\n",
            "14/14 [==============================] - 0s 3ms/step - loss: 0.6169 - accuracy: 0.6893 - val_loss: 0.5556 - val_accuracy: 0.7600\n",
            "Epoch 93/300\n",
            "14/14 [==============================] - 0s 3ms/step - loss: 0.6129 - accuracy: 0.6893 - val_loss: 0.5499 - val_accuracy: 0.7600\n",
            "Epoch 94/300\n",
            "14/14 [==============================] - 0s 4ms/step - loss: 0.6228 - accuracy: 0.6803 - val_loss: 0.5488 - val_accuracy: 0.7600\n",
            "Epoch 95/300\n",
            "14/14 [==============================] - 0s 3ms/step - loss: 0.6136 - accuracy: 0.6825 - val_loss: 0.5463 - val_accuracy: 0.7600\n",
            "Epoch 96/300\n",
            "14/14 [==============================] - 0s 3ms/step - loss: 0.6189 - accuracy: 0.6871 - val_loss: 0.5548 - val_accuracy: 0.7600\n",
            "Epoch 97/300\n",
            "14/14 [==============================] - 0s 3ms/step - loss: 0.6244 - accuracy: 0.6871 - val_loss: 0.5572 - val_accuracy: 0.7600\n",
            "Epoch 98/300\n",
            "14/14 [==============================] - 0s 4ms/step - loss: 0.6592 - accuracy: 0.6825 - val_loss: 0.5707 - val_accuracy: 0.7600\n",
            "Epoch 99/300\n",
            "14/14 [==============================] - 0s 4ms/step - loss: 0.6139 - accuracy: 0.6848 - val_loss: 0.5567 - val_accuracy: 0.7600\n",
            "Epoch 100/300\n",
            "14/14 [==============================] - 0s 3ms/step - loss: 0.7034 - accuracy: 0.6916 - val_loss: 0.5681 - val_accuracy: 0.7600\n",
            "Epoch 101/300\n",
            "14/14 [==============================] - 0s 3ms/step - loss: 0.6105 - accuracy: 0.6893 - val_loss: 0.5336 - val_accuracy: 0.7600\n",
            "Epoch 102/300\n",
            "14/14 [==============================] - 0s 3ms/step - loss: 0.6144 - accuracy: 0.6893 - val_loss: 0.5620 - val_accuracy: 0.7600\n",
            "Epoch 103/300\n",
            "14/14 [==============================] - 0s 3ms/step - loss: 0.6181 - accuracy: 0.6848 - val_loss: 0.5426 - val_accuracy: 0.7600\n",
            "Epoch 104/300\n",
            "14/14 [==============================] - 0s 4ms/step - loss: 0.6204 - accuracy: 0.6825 - val_loss: 0.5528 - val_accuracy: 0.7600\n",
            "Epoch 105/300\n",
            "14/14 [==============================] - 0s 4ms/step - loss: 0.6128 - accuracy: 0.6825 - val_loss: 0.5597 - val_accuracy: 0.7600\n",
            "Epoch 106/300\n",
            "14/14 [==============================] - 0s 3ms/step - loss: 0.6399 - accuracy: 0.6848 - val_loss: 0.5569 - val_accuracy: 0.7600\n",
            "Epoch 107/300\n",
            "14/14 [==============================] - 0s 3ms/step - loss: 0.6178 - accuracy: 0.6803 - val_loss: 0.5762 - val_accuracy: 0.7600\n",
            "Epoch 108/300\n",
            "14/14 [==============================] - 0s 3ms/step - loss: 0.6255 - accuracy: 0.6825 - val_loss: 0.5567 - val_accuracy: 0.7600\n",
            "Epoch 109/300\n",
            "14/14 [==============================] - 0s 4ms/step - loss: 0.6162 - accuracy: 0.6825 - val_loss: 0.7773 - val_accuracy: 0.6400\n",
            "Epoch 110/300\n",
            "14/14 [==============================] - 0s 4ms/step - loss: 0.6299 - accuracy: 0.6825 - val_loss: 0.5947 - val_accuracy: 0.7400\n",
            "Epoch 111/300\n",
            "14/14 [==============================] - 0s 4ms/step - loss: 0.6219 - accuracy: 0.6893 - val_loss: 0.5568 - val_accuracy: 0.7600\n",
            "Epoch 112/300\n",
            "14/14 [==============================] - 0s 4ms/step - loss: 0.6223 - accuracy: 0.6848 - val_loss: 0.5694 - val_accuracy: 0.7600\n",
            "Epoch 113/300\n",
            "14/14 [==============================] - 0s 4ms/step - loss: 0.6107 - accuracy: 0.6848 - val_loss: 0.5395 - val_accuracy: 0.7600\n",
            "Epoch 114/300\n",
            "14/14 [==============================] - 0s 4ms/step - loss: 0.6361 - accuracy: 0.6893 - val_loss: 0.6726 - val_accuracy: 0.7200\n",
            "Epoch 115/300\n",
            "14/14 [==============================] - 0s 4ms/step - loss: 0.6183 - accuracy: 0.6871 - val_loss: 0.5997 - val_accuracy: 0.7400\n",
            "Epoch 116/300\n",
            "14/14 [==============================] - 0s 5ms/step - loss: 0.6106 - accuracy: 0.6939 - val_loss: 0.6173 - val_accuracy: 0.7400\n",
            "Epoch 117/300\n",
            "14/14 [==============================] - 0s 5ms/step - loss: 0.6147 - accuracy: 0.6780 - val_loss: 0.5954 - val_accuracy: 0.7400\n",
            "Epoch 118/300\n",
            "14/14 [==============================] - 0s 4ms/step - loss: 0.6125 - accuracy: 0.6825 - val_loss: 0.5521 - val_accuracy: 0.7600\n",
            "Epoch 119/300\n",
            "14/14 [==============================] - 0s 3ms/step - loss: 0.6137 - accuracy: 0.6848 - val_loss: 0.5971 - val_accuracy: 0.7400\n",
            "Epoch 120/300\n",
            "14/14 [==============================] - 0s 3ms/step - loss: 0.6226 - accuracy: 0.6825 - val_loss: 0.6223 - val_accuracy: 0.7400\n",
            "Epoch 121/300\n",
            "14/14 [==============================] - 0s 4ms/step - loss: 0.6198 - accuracy: 0.6803 - val_loss: 0.6103 - val_accuracy: 0.7400\n",
            "Epoch 122/300\n",
            "14/14 [==============================] - 0s 3ms/step - loss: 0.6019 - accuracy: 0.6893 - val_loss: 0.5991 - val_accuracy: 0.7400\n",
            "Epoch 123/300\n",
            "14/14 [==============================] - 0s 4ms/step - loss: 0.6128 - accuracy: 0.6825 - val_loss: 0.5718 - val_accuracy: 0.7400\n",
            "Epoch 124/300\n",
            "14/14 [==============================] - 0s 4ms/step - loss: 0.6196 - accuracy: 0.6848 - val_loss: 0.6332 - val_accuracy: 0.7400\n",
            "Epoch 125/300\n",
            "14/14 [==============================] - 0s 3ms/step - loss: 0.6145 - accuracy: 0.6825 - val_loss: 0.6167 - val_accuracy: 0.7400\n",
            "Epoch 126/300\n",
            "14/14 [==============================] - 0s 3ms/step - loss: 0.6241 - accuracy: 0.6803 - val_loss: 0.6429 - val_accuracy: 0.7400\n",
            "Epoch 127/300\n",
            "14/14 [==============================] - 0s 4ms/step - loss: 0.6080 - accuracy: 0.6893 - val_loss: 0.5209 - val_accuracy: 0.7600\n",
            "Epoch 128/300\n",
            "14/14 [==============================] - 0s 3ms/step - loss: 0.6119 - accuracy: 0.6803 - val_loss: 0.5550 - val_accuracy: 0.7600\n",
            "Epoch 129/300\n",
            "14/14 [==============================] - 0s 4ms/step - loss: 0.6214 - accuracy: 0.6780 - val_loss: 0.5620 - val_accuracy: 0.7600\n",
            "Epoch 130/300\n",
            "14/14 [==============================] - 0s 3ms/step - loss: 0.6019 - accuracy: 0.6871 - val_loss: 0.5520 - val_accuracy: 0.7400\n",
            "Epoch 131/300\n",
            "14/14 [==============================] - 0s 5ms/step - loss: 0.6030 - accuracy: 0.6871 - val_loss: 0.5810 - val_accuracy: 0.7400\n",
            "Epoch 132/300\n",
            "14/14 [==============================] - 0s 4ms/step - loss: 0.6071 - accuracy: 0.6916 - val_loss: 0.5770 - val_accuracy: 0.7400\n",
            "Epoch 133/300\n",
            "14/14 [==============================] - 0s 5ms/step - loss: 0.6549 - accuracy: 0.6825 - val_loss: 0.6003 - val_accuracy: 0.7200\n",
            "Epoch 134/300\n",
            "14/14 [==============================] - 0s 4ms/step - loss: 0.7098 - accuracy: 0.6848 - val_loss: 0.5914 - val_accuracy: 0.7400\n",
            "Epoch 135/300\n",
            "14/14 [==============================] - 0s 4ms/step - loss: 0.6131 - accuracy: 0.6893 - val_loss: 0.6031 - val_accuracy: 0.7400\n",
            "Epoch 136/300\n",
            "14/14 [==============================] - 0s 3ms/step - loss: 0.6075 - accuracy: 0.6871 - val_loss: 0.6083 - val_accuracy: 0.7400\n",
            "Epoch 137/300\n",
            "14/14 [==============================] - 0s 4ms/step - loss: 0.6123 - accuracy: 0.6871 - val_loss: 0.5976 - val_accuracy: 0.7400\n",
            "Epoch 138/300\n",
            "14/14 [==============================] - 0s 3ms/step - loss: 0.6107 - accuracy: 0.6825 - val_loss: 0.6194 - val_accuracy: 0.7400\n",
            "Epoch 139/300\n",
            "14/14 [==============================] - 0s 3ms/step - loss: 0.6110 - accuracy: 0.6825 - val_loss: 0.5650 - val_accuracy: 0.7400\n",
            "Epoch 140/300\n",
            "14/14 [==============================] - 0s 4ms/step - loss: 0.6052 - accuracy: 0.6871 - val_loss: 0.6069 - val_accuracy: 0.7400\n",
            "Epoch 141/300\n",
            "14/14 [==============================] - 0s 4ms/step - loss: 0.6251 - accuracy: 0.6780 - val_loss: 0.6221 - val_accuracy: 0.7400\n",
            "Epoch 142/300\n",
            "14/14 [==============================] - 0s 4ms/step - loss: 0.6081 - accuracy: 0.6848 - val_loss: 0.6133 - val_accuracy: 0.7400\n",
            "Epoch 143/300\n",
            "14/14 [==============================] - 0s 4ms/step - loss: 0.6168 - accuracy: 0.6825 - val_loss: 0.5678 - val_accuracy: 0.7400\n",
            "Epoch 144/300\n",
            "14/14 [==============================] - 0s 4ms/step - loss: 0.6096 - accuracy: 0.6803 - val_loss: 0.5521 - val_accuracy: 0.7400\n",
            "Epoch 145/300\n",
            "14/14 [==============================] - 0s 4ms/step - loss: 0.6107 - accuracy: 0.6803 - val_loss: 0.6094 - val_accuracy: 0.7400\n",
            "Epoch 146/300\n",
            "14/14 [==============================] - 0s 4ms/step - loss: 0.6105 - accuracy: 0.6893 - val_loss: 0.6679 - val_accuracy: 0.7400\n",
            "Epoch 147/300\n",
            "14/14 [==============================] - 0s 4ms/step - loss: 0.6096 - accuracy: 0.6871 - val_loss: 0.5884 - val_accuracy: 0.7400\n",
            "Epoch 148/300\n",
            "14/14 [==============================] - 0s 4ms/step - loss: 0.6099 - accuracy: 0.6825 - val_loss: 0.5758 - val_accuracy: 0.7400\n",
            "Epoch 149/300\n",
            "14/14 [==============================] - 0s 4ms/step - loss: 0.6444 - accuracy: 0.6780 - val_loss: 0.5418 - val_accuracy: 0.7400\n",
            "Epoch 150/300\n",
            "14/14 [==============================] - 0s 4ms/step - loss: 0.6212 - accuracy: 0.6803 - val_loss: 0.6120 - val_accuracy: 0.7400\n",
            "Epoch 151/300\n",
            "14/14 [==============================] - 0s 4ms/step - loss: 0.6016 - accuracy: 0.6848 - val_loss: 0.5654 - val_accuracy: 0.7400\n",
            "Epoch 152/300\n",
            "14/14 [==============================] - 0s 4ms/step - loss: 0.8287 - accuracy: 0.6621 - val_loss: 0.6116 - val_accuracy: 0.7400\n",
            "Epoch 153/300\n",
            "14/14 [==============================] - 0s 4ms/step - loss: 0.6201 - accuracy: 0.6871 - val_loss: 0.6071 - val_accuracy: 0.7400\n",
            "Epoch 154/300\n",
            "14/14 [==============================] - 0s 4ms/step - loss: 0.5995 - accuracy: 0.6939 - val_loss: 0.6341 - val_accuracy: 0.7400\n",
            "Epoch 155/300\n",
            "14/14 [==============================] - 0s 4ms/step - loss: 0.5993 - accuracy: 0.6916 - val_loss: 0.5851 - val_accuracy: 0.7400\n",
            "Epoch 156/300\n",
            "14/14 [==============================] - 0s 4ms/step - loss: 0.6209 - accuracy: 0.6803 - val_loss: 0.7004 - val_accuracy: 0.7400\n",
            "Epoch 157/300\n",
            "14/14 [==============================] - 0s 4ms/step - loss: 0.6032 - accuracy: 0.6871 - val_loss: 0.5582 - val_accuracy: 0.7200\n",
            "Epoch 158/300\n",
            "14/14 [==============================] - 0s 4ms/step - loss: 0.6279 - accuracy: 0.6780 - val_loss: 0.5976 - val_accuracy: 0.7400\n",
            "Epoch 159/300\n",
            "14/14 [==============================] - 0s 4ms/step - loss: 0.6074 - accuracy: 0.6893 - val_loss: 0.5995 - val_accuracy: 0.7400\n",
            "Epoch 160/300\n",
            "14/14 [==============================] - 0s 4ms/step - loss: 0.5980 - accuracy: 0.6848 - val_loss: 0.6076 - val_accuracy: 0.7200\n",
            "Epoch 161/300\n",
            "14/14 [==============================] - 0s 4ms/step - loss: 0.6291 - accuracy: 0.6871 - val_loss: 0.5705 - val_accuracy: 0.7400\n",
            "Epoch 162/300\n",
            "14/14 [==============================] - 0s 4ms/step - loss: 0.6131 - accuracy: 0.6871 - val_loss: 0.5554 - val_accuracy: 0.7600\n",
            "Epoch 163/300\n",
            "14/14 [==============================] - 0s 3ms/step - loss: 0.6173 - accuracy: 0.6825 - val_loss: 0.5683 - val_accuracy: 0.7600\n",
            "Epoch 164/300\n",
            "14/14 [==============================] - 0s 3ms/step - loss: 0.6200 - accuracy: 0.6825 - val_loss: 0.5509 - val_accuracy: 0.7600\n",
            "Epoch 165/300\n",
            "14/14 [==============================] - 0s 3ms/step - loss: 0.7085 - accuracy: 0.6893 - val_loss: 0.5978 - val_accuracy: 0.7200\n",
            "Epoch 166/300\n",
            "14/14 [==============================] - 0s 4ms/step - loss: 0.6114 - accuracy: 0.6848 - val_loss: 0.5780 - val_accuracy: 0.7400\n",
            "Epoch 167/300\n",
            "14/14 [==============================] - 0s 5ms/step - loss: 0.6186 - accuracy: 0.6848 - val_loss: 0.7128 - val_accuracy: 0.7400\n",
            "Epoch 168/300\n",
            "14/14 [==============================] - 0s 3ms/step - loss: 0.6156 - accuracy: 0.6848 - val_loss: 0.6410 - val_accuracy: 0.7400\n",
            "Epoch 169/300\n",
            "14/14 [==============================] - 0s 3ms/step - loss: 0.6049 - accuracy: 0.6848 - val_loss: 0.5841 - val_accuracy: 0.7400\n",
            "Epoch 170/300\n",
            "14/14 [==============================] - 0s 4ms/step - loss: 0.6150 - accuracy: 0.6780 - val_loss: 0.6043 - val_accuracy: 0.7400\n",
            "Epoch 171/300\n",
            "14/14 [==============================] - 0s 3ms/step - loss: 0.6203 - accuracy: 0.6848 - val_loss: 0.6064 - val_accuracy: 0.7400\n",
            "Epoch 172/300\n",
            "14/14 [==============================] - 0s 4ms/step - loss: 0.6095 - accuracy: 0.6893 - val_loss: 0.5871 - val_accuracy: 0.7400\n",
            "Epoch 173/300\n",
            "14/14 [==============================] - 0s 4ms/step - loss: 0.6085 - accuracy: 0.6893 - val_loss: 0.5691 - val_accuracy: 0.7400\n",
            "Epoch 174/300\n",
            "14/14 [==============================] - 0s 4ms/step - loss: 0.6148 - accuracy: 0.6803 - val_loss: 0.6254 - val_accuracy: 0.7400\n",
            "Epoch 175/300\n",
            "14/14 [==============================] - 0s 4ms/step - loss: 0.6157 - accuracy: 0.6848 - val_loss: 0.5814 - val_accuracy: 0.7400\n",
            "Epoch 176/300\n",
            "14/14 [==============================] - 0s 4ms/step - loss: 0.6138 - accuracy: 0.6848 - val_loss: 0.6060 - val_accuracy: 0.7400\n",
            "Epoch 177/300\n",
            "14/14 [==============================] - 0s 4ms/step - loss: 0.6145 - accuracy: 0.6803 - val_loss: 0.6351 - val_accuracy: 0.7400\n",
            "Epoch 178/300\n",
            "14/14 [==============================] - 0s 4ms/step - loss: 0.6167 - accuracy: 0.6803 - val_loss: 0.6250 - val_accuracy: 0.7400\n",
            "Epoch 179/300\n",
            "14/14 [==============================] - 0s 4ms/step - loss: 0.6203 - accuracy: 0.6780 - val_loss: 0.5511 - val_accuracy: 0.7600\n",
            "Epoch 180/300\n",
            "14/14 [==============================] - 0s 4ms/step - loss: 0.6152 - accuracy: 0.6825 - val_loss: 0.5826 - val_accuracy: 0.7600\n",
            "Epoch 181/300\n",
            "14/14 [==============================] - 0s 4ms/step - loss: 0.6252 - accuracy: 0.6916 - val_loss: 0.5597 - val_accuracy: 0.7600\n",
            "Epoch 182/300\n",
            "14/14 [==============================] - 0s 4ms/step - loss: 0.6064 - accuracy: 0.6916 - val_loss: 0.5819 - val_accuracy: 0.7400\n",
            "Epoch 183/300\n",
            "14/14 [==============================] - 0s 4ms/step - loss: 0.6099 - accuracy: 0.6916 - val_loss: 0.5787 - val_accuracy: 0.7400\n",
            "Epoch 184/300\n",
            "14/14 [==============================] - 0s 4ms/step - loss: 0.6129 - accuracy: 0.6825 - val_loss: 0.5707 - val_accuracy: 0.7600\n",
            "Epoch 185/300\n",
            "14/14 [==============================] - 0s 3ms/step - loss: 0.6842 - accuracy: 0.6735 - val_loss: 0.5488 - val_accuracy: 0.7600\n",
            "Epoch 186/300\n",
            "14/14 [==============================] - 0s 4ms/step - loss: 0.6096 - accuracy: 0.6871 - val_loss: 0.5642 - val_accuracy: 0.7600\n",
            "Epoch 187/300\n",
            "14/14 [==============================] - 0s 4ms/step - loss: 0.6122 - accuracy: 0.6825 - val_loss: 0.5406 - val_accuracy: 0.7600\n",
            "Epoch 188/300\n",
            "14/14 [==============================] - 0s 3ms/step - loss: 0.6111 - accuracy: 0.6757 - val_loss: 0.5451 - val_accuracy: 0.7600\n",
            "Epoch 189/300\n",
            "14/14 [==============================] - 0s 4ms/step - loss: 0.6141 - accuracy: 0.6780 - val_loss: 0.5691 - val_accuracy: 0.7400\n",
            "Epoch 190/300\n",
            "14/14 [==============================] - 0s 4ms/step - loss: 0.6158 - accuracy: 0.6780 - val_loss: 0.6410 - val_accuracy: 0.7400\n",
            "Epoch 191/300\n",
            "14/14 [==============================] - 0s 4ms/step - loss: 0.6107 - accuracy: 0.6825 - val_loss: 0.6341 - val_accuracy: 0.7400\n",
            "Epoch 192/300\n",
            "14/14 [==============================] - 0s 4ms/step - loss: 0.6127 - accuracy: 0.6803 - val_loss: 0.6234 - val_accuracy: 0.7400\n",
            "Epoch 193/300\n",
            "14/14 [==============================] - 0s 4ms/step - loss: 0.6225 - accuracy: 0.6780 - val_loss: 0.6371 - val_accuracy: 0.7400\n",
            "Epoch 194/300\n",
            "14/14 [==============================] - 0s 3ms/step - loss: 0.6136 - accuracy: 0.6848 - val_loss: 0.6598 - val_accuracy: 0.7400\n",
            "Epoch 195/300\n",
            "14/14 [==============================] - 0s 4ms/step - loss: 0.6121 - accuracy: 0.6803 - val_loss: 0.6056 - val_accuracy: 0.7400\n",
            "Epoch 196/300\n",
            "14/14 [==============================] - 0s 5ms/step - loss: 0.6240 - accuracy: 0.6848 - val_loss: 0.6637 - val_accuracy: 0.7400\n",
            "Epoch 197/300\n",
            "14/14 [==============================] - 0s 4ms/step - loss: 0.6069 - accuracy: 0.6848 - val_loss: 0.6612 - val_accuracy: 0.7400\n",
            "Epoch 198/300\n",
            "14/14 [==============================] - 0s 4ms/step - loss: 0.6106 - accuracy: 0.6825 - val_loss: 0.6206 - val_accuracy: 0.7400\n",
            "Epoch 199/300\n",
            "14/14 [==============================] - 0s 4ms/step - loss: 0.6113 - accuracy: 0.6848 - val_loss: 0.6562 - val_accuracy: 0.7400\n",
            "Epoch 200/300\n",
            "14/14 [==============================] - 0s 4ms/step - loss: 0.6049 - accuracy: 0.6916 - val_loss: 0.6933 - val_accuracy: 0.7400\n",
            "Epoch 201/300\n",
            "14/14 [==============================] - 0s 3ms/step - loss: 0.6273 - accuracy: 0.6780 - val_loss: 0.6020 - val_accuracy: 0.7400\n",
            "Epoch 202/300\n",
            "14/14 [==============================] - 0s 4ms/step - loss: 0.6262 - accuracy: 0.6780 - val_loss: 0.5907 - val_accuracy: 0.7400\n",
            "Epoch 203/300\n",
            "14/14 [==============================] - 0s 4ms/step - loss: 0.6052 - accuracy: 0.6893 - val_loss: 0.5863 - val_accuracy: 0.7400\n",
            "Epoch 204/300\n",
            "14/14 [==============================] - 0s 4ms/step - loss: 0.6307 - accuracy: 0.6825 - val_loss: 0.6434 - val_accuracy: 0.7200\n",
            "Epoch 205/300\n",
            "14/14 [==============================] - 0s 4ms/step - loss: 0.6431 - accuracy: 0.6848 - val_loss: 0.6227 - val_accuracy: 0.7400\n",
            "Epoch 206/300\n",
            "14/14 [==============================] - 0s 4ms/step - loss: 0.6053 - accuracy: 0.6848 - val_loss: 0.5969 - val_accuracy: 0.7400\n",
            "Epoch 207/300\n",
            "14/14 [==============================] - 0s 4ms/step - loss: 0.6278 - accuracy: 0.6825 - val_loss: 0.6172 - val_accuracy: 0.7400\n",
            "Epoch 208/300\n",
            "14/14 [==============================] - 0s 4ms/step - loss: 0.6225 - accuracy: 0.6848 - val_loss: 0.5986 - val_accuracy: 0.7400\n",
            "Epoch 209/300\n",
            "14/14 [==============================] - 0s 4ms/step - loss: 0.6109 - accuracy: 0.6871 - val_loss: 0.6347 - val_accuracy: 0.7400\n",
            "Epoch 210/300\n",
            "14/14 [==============================] - 0s 3ms/step - loss: 0.6201 - accuracy: 0.6803 - val_loss: 0.7135 - val_accuracy: 0.7200\n",
            "Epoch 211/300\n",
            "14/14 [==============================] - 0s 3ms/step - loss: 0.6324 - accuracy: 0.6803 - val_loss: 0.6811 - val_accuracy: 0.7400\n",
            "Epoch 212/300\n",
            "14/14 [==============================] - 0s 4ms/step - loss: 0.6165 - accuracy: 0.6848 - val_loss: 0.6465 - val_accuracy: 0.7400\n",
            "Epoch 213/300\n",
            "14/14 [==============================] - 0s 4ms/step - loss: 0.6099 - accuracy: 0.6848 - val_loss: 0.6570 - val_accuracy: 0.7400\n",
            "Epoch 214/300\n",
            "14/14 [==============================] - 0s 4ms/step - loss: 0.6113 - accuracy: 0.6757 - val_loss: 0.6328 - val_accuracy: 0.7400\n",
            "Epoch 215/300\n",
            "14/14 [==============================] - 0s 3ms/step - loss: 0.6078 - accuracy: 0.6893 - val_loss: 0.7232 - val_accuracy: 0.7200\n",
            "Epoch 216/300\n",
            "14/14 [==============================] - 0s 4ms/step - loss: 0.6277 - accuracy: 0.6848 - val_loss: 0.5694 - val_accuracy: 0.7400\n",
            "Epoch 217/300\n",
            "14/14 [==============================] - 0s 4ms/step - loss: 0.6117 - accuracy: 0.6825 - val_loss: 0.5899 - val_accuracy: 0.7400\n",
            "Epoch 218/300\n",
            "14/14 [==============================] - 0s 4ms/step - loss: 0.6226 - accuracy: 0.6803 - val_loss: 0.5917 - val_accuracy: 0.7400\n",
            "Epoch 219/300\n",
            "14/14 [==============================] - 0s 4ms/step - loss: 0.6022 - accuracy: 0.6825 - val_loss: 0.6057 - val_accuracy: 0.7400\n",
            "Epoch 220/300\n",
            "14/14 [==============================] - 0s 3ms/step - loss: 0.6086 - accuracy: 0.6848 - val_loss: 0.6186 - val_accuracy: 0.7400\n",
            "Epoch 221/300\n",
            "14/14 [==============================] - 0s 4ms/step - loss: 0.6094 - accuracy: 0.6848 - val_loss: 0.5805 - val_accuracy: 0.7400\n",
            "Epoch 222/300\n",
            "14/14 [==============================] - 0s 4ms/step - loss: 0.6126 - accuracy: 0.6825 - val_loss: 0.6413 - val_accuracy: 0.7400\n",
            "Epoch 223/300\n",
            "14/14 [==============================] - 0s 4ms/step - loss: 0.6113 - accuracy: 0.6916 - val_loss: 0.6172 - val_accuracy: 0.7400\n",
            "Epoch 224/300\n",
            "14/14 [==============================] - 0s 4ms/step - loss: 0.6193 - accuracy: 0.6871 - val_loss: 0.6437 - val_accuracy: 0.7400\n",
            "Epoch 225/300\n",
            "14/14 [==============================] - 0s 4ms/step - loss: 0.6119 - accuracy: 0.6871 - val_loss: 0.7237 - val_accuracy: 0.7600\n",
            "Epoch 226/300\n",
            "14/14 [==============================] - 0s 4ms/step - loss: 0.6058 - accuracy: 0.6825 - val_loss: 0.5824 - val_accuracy: 0.7400\n",
            "Epoch 227/300\n",
            "14/14 [==============================] - 0s 3ms/step - loss: 0.6239 - accuracy: 0.6848 - val_loss: 0.5722 - val_accuracy: 0.7400\n",
            "Epoch 228/300\n",
            "14/14 [==============================] - 0s 4ms/step - loss: 0.6030 - accuracy: 0.6803 - val_loss: 0.5567 - val_accuracy: 0.7400\n",
            "Epoch 229/300\n",
            "14/14 [==============================] - 0s 4ms/step - loss: 0.6058 - accuracy: 0.6848 - val_loss: 0.5839 - val_accuracy: 0.7400\n",
            "Epoch 230/300\n",
            "14/14 [==============================] - 0s 4ms/step - loss: 0.6659 - accuracy: 0.6803 - val_loss: 0.5959 - val_accuracy: 0.7400\n",
            "Epoch 231/300\n",
            "14/14 [==============================] - 0s 4ms/step - loss: 0.6114 - accuracy: 0.6803 - val_loss: 0.6255 - val_accuracy: 0.7400\n",
            "Epoch 232/300\n",
            "14/14 [==============================] - 0s 4ms/step - loss: 0.6137 - accuracy: 0.6848 - val_loss: 0.6164 - val_accuracy: 0.7400\n",
            "Epoch 233/300\n",
            "14/14 [==============================] - 0s 4ms/step - loss: 0.6101 - accuracy: 0.6871 - val_loss: 0.5765 - val_accuracy: 0.7400\n",
            "Epoch 234/300\n",
            "14/14 [==============================] - 0s 4ms/step - loss: 0.6027 - accuracy: 0.6871 - val_loss: 0.6296 - val_accuracy: 0.7400\n",
            "Epoch 235/300\n",
            "14/14 [==============================] - 0s 4ms/step - loss: 0.6279 - accuracy: 0.6848 - val_loss: 0.6023 - val_accuracy: 0.7400\n",
            "Epoch 236/300\n",
            "14/14 [==============================] - 0s 4ms/step - loss: 0.6122 - accuracy: 0.6825 - val_loss: 0.6653 - val_accuracy: 0.7400\n",
            "Epoch 237/300\n",
            "14/14 [==============================] - 0s 4ms/step - loss: 0.6052 - accuracy: 0.6825 - val_loss: 0.6940 - val_accuracy: 0.7400\n",
            "Epoch 238/300\n",
            "14/14 [==============================] - 0s 4ms/step - loss: 0.6067 - accuracy: 0.6848 - val_loss: 0.7799 - val_accuracy: 0.7400\n",
            "Epoch 239/300\n",
            "14/14 [==============================] - 0s 4ms/step - loss: 0.6098 - accuracy: 0.6848 - val_loss: 0.5277 - val_accuracy: 0.7200\n",
            "Epoch 240/300\n",
            "14/14 [==============================] - 0s 4ms/step - loss: 1.0320 - accuracy: 0.6689 - val_loss: 0.6105 - val_accuracy: 0.7200\n",
            "Epoch 241/300\n",
            "14/14 [==============================] - 0s 4ms/step - loss: 0.6220 - accuracy: 0.6825 - val_loss: 0.5745 - val_accuracy: 0.7400\n",
            "Epoch 242/300\n",
            "14/14 [==============================] - 0s 3ms/step - loss: 0.6121 - accuracy: 0.6848 - val_loss: 0.5670 - val_accuracy: 0.7400\n",
            "Epoch 243/300\n",
            "14/14 [==============================] - 0s 4ms/step - loss: 0.5994 - accuracy: 0.6848 - val_loss: 0.5821 - val_accuracy: 0.7400\n",
            "Epoch 244/300\n",
            "14/14 [==============================] - 0s 3ms/step - loss: 0.6044 - accuracy: 0.6871 - val_loss: 0.6350 - val_accuracy: 0.7400\n",
            "Epoch 245/300\n",
            "14/14 [==============================] - 0s 4ms/step - loss: 0.6103 - accuracy: 0.6848 - val_loss: 0.5487 - val_accuracy: 0.7400\n",
            "Epoch 246/300\n",
            "14/14 [==============================] - 0s 4ms/step - loss: 0.6141 - accuracy: 0.6871 - val_loss: 0.6514 - val_accuracy: 0.7400\n",
            "Epoch 247/300\n",
            "14/14 [==============================] - 0s 4ms/step - loss: 0.6055 - accuracy: 0.6939 - val_loss: 0.6477 - val_accuracy: 0.7400\n",
            "Epoch 248/300\n",
            "14/14 [==============================] - 0s 4ms/step - loss: 0.7423 - accuracy: 0.6848 - val_loss: 0.5793 - val_accuracy: 0.7400\n",
            "Epoch 249/300\n",
            "14/14 [==============================] - 0s 4ms/step - loss: 0.6110 - accuracy: 0.6871 - val_loss: 0.6120 - val_accuracy: 0.7400\n",
            "Epoch 250/300\n",
            "14/14 [==============================] - 0s 4ms/step - loss: 0.6044 - accuracy: 0.6871 - val_loss: 0.6583 - val_accuracy: 0.7400\n",
            "Epoch 251/300\n",
            "14/14 [==============================] - 0s 4ms/step - loss: 0.6119 - accuracy: 0.6803 - val_loss: 0.5694 - val_accuracy: 0.7400\n",
            "Epoch 252/300\n",
            "14/14 [==============================] - 0s 4ms/step - loss: 0.6225 - accuracy: 0.6825 - val_loss: 0.5852 - val_accuracy: 0.7400\n",
            "Epoch 253/300\n",
            "14/14 [==============================] - 0s 4ms/step - loss: 0.6081 - accuracy: 0.6803 - val_loss: 0.6222 - val_accuracy: 0.7400\n",
            "Epoch 254/300\n",
            "14/14 [==============================] - 0s 4ms/step - loss: 0.6034 - accuracy: 0.6916 - val_loss: 0.5965 - val_accuracy: 0.7400\n",
            "Epoch 255/300\n",
            "14/14 [==============================] - 0s 4ms/step - loss: 0.6565 - accuracy: 0.6803 - val_loss: 0.5938 - val_accuracy: 0.7400\n",
            "Epoch 256/300\n",
            "14/14 [==============================] - 0s 4ms/step - loss: 0.6062 - accuracy: 0.6825 - val_loss: 0.6016 - val_accuracy: 0.7400\n",
            "Epoch 257/300\n",
            "14/14 [==============================] - 0s 4ms/step - loss: 0.6043 - accuracy: 0.6803 - val_loss: 0.6676 - val_accuracy: 0.7400\n",
            "Epoch 258/300\n",
            "14/14 [==============================] - 0s 4ms/step - loss: 0.6032 - accuracy: 0.6848 - val_loss: 0.6021 - val_accuracy: 0.7400\n",
            "Epoch 259/300\n",
            "14/14 [==============================] - 0s 4ms/step - loss: 0.6057 - accuracy: 0.6893 - val_loss: 0.6410 - val_accuracy: 0.7400\n",
            "Epoch 260/300\n",
            "14/14 [==============================] - 0s 4ms/step - loss: 0.6209 - accuracy: 0.6825 - val_loss: 0.6741 - val_accuracy: 0.7400\n",
            "Epoch 261/300\n",
            "14/14 [==============================] - 0s 4ms/step - loss: 0.6210 - accuracy: 0.6939 - val_loss: 0.6757 - val_accuracy: 0.7400\n",
            "Epoch 262/300\n",
            "14/14 [==============================] - 0s 4ms/step - loss: 0.6032 - accuracy: 0.6825 - val_loss: 0.6156 - val_accuracy: 0.7400\n",
            "Epoch 263/300\n",
            "14/14 [==============================] - 0s 4ms/step - loss: 0.6099 - accuracy: 0.6871 - val_loss: 0.7051 - val_accuracy: 0.7400\n",
            "Epoch 264/300\n",
            "14/14 [==============================] - 0s 4ms/step - loss: 0.6065 - accuracy: 0.6825 - val_loss: 0.6208 - val_accuracy: 0.7400\n",
            "Epoch 265/300\n",
            "14/14 [==============================] - 0s 4ms/step - loss: 0.6044 - accuracy: 0.6848 - val_loss: 0.6810 - val_accuracy: 0.7400\n",
            "Epoch 266/300\n",
            "14/14 [==============================] - 0s 4ms/step - loss: 0.6114 - accuracy: 0.6916 - val_loss: 0.6565 - val_accuracy: 0.7400\n",
            "Epoch 267/300\n",
            "14/14 [==============================] - 0s 4ms/step - loss: 0.6075 - accuracy: 0.6848 - val_loss: 0.6895 - val_accuracy: 0.7400\n",
            "Epoch 268/300\n",
            "14/14 [==============================] - 0s 5ms/step - loss: 0.7614 - accuracy: 0.6757 - val_loss: 0.6657 - val_accuracy: 0.7400\n",
            "Epoch 269/300\n",
            "14/14 [==============================] - 0s 4ms/step - loss: 0.5985 - accuracy: 0.6871 - val_loss: 0.7776 - val_accuracy: 0.7400\n",
            "Epoch 270/300\n",
            "14/14 [==============================] - 0s 5ms/step - loss: 0.6122 - accuracy: 0.6848 - val_loss: 0.6089 - val_accuracy: 0.7400\n",
            "Epoch 271/300\n",
            "14/14 [==============================] - 0s 4ms/step - loss: 0.6088 - accuracy: 0.6848 - val_loss: 0.5937 - val_accuracy: 0.7400\n",
            "Epoch 272/300\n",
            "14/14 [==============================] - 0s 4ms/step - loss: 0.5987 - accuracy: 0.6825 - val_loss: 0.5545 - val_accuracy: 0.7400\n",
            "Epoch 273/300\n",
            "14/14 [==============================] - 0s 4ms/step - loss: 0.6187 - accuracy: 0.6848 - val_loss: 0.6083 - val_accuracy: 0.7400\n",
            "Epoch 274/300\n",
            "14/14 [==============================] - 0s 4ms/step - loss: 0.6190 - accuracy: 0.6871 - val_loss: 0.5874 - val_accuracy: 0.7400\n",
            "Epoch 275/300\n",
            "14/14 [==============================] - 0s 4ms/step - loss: 0.6084 - accuracy: 0.6825 - val_loss: 0.5993 - val_accuracy: 0.7400\n",
            "Epoch 276/300\n",
            "14/14 [==============================] - 0s 4ms/step - loss: 0.6093 - accuracy: 0.6848 - val_loss: 0.6357 - val_accuracy: 0.7400\n",
            "Epoch 277/300\n",
            "14/14 [==============================] - 0s 4ms/step - loss: 0.6061 - accuracy: 0.6893 - val_loss: 0.5324 - val_accuracy: 0.7400\n",
            "Epoch 278/300\n",
            "14/14 [==============================] - 0s 4ms/step - loss: 0.6208 - accuracy: 0.6848 - val_loss: 0.5876 - val_accuracy: 0.7400\n",
            "Epoch 279/300\n",
            "14/14 [==============================] - 0s 4ms/step - loss: 0.6222 - accuracy: 0.6803 - val_loss: 0.6347 - val_accuracy: 0.7400\n",
            "Epoch 280/300\n",
            "14/14 [==============================] - 0s 4ms/step - loss: 0.6077 - accuracy: 0.6848 - val_loss: 0.6788 - val_accuracy: 0.7400\n",
            "Epoch 281/300\n",
            "14/14 [==============================] - 0s 4ms/step - loss: 0.6077 - accuracy: 0.6893 - val_loss: 0.6030 - val_accuracy: 0.7400\n",
            "Epoch 282/300\n",
            "14/14 [==============================] - 0s 4ms/step - loss: 0.6076 - accuracy: 0.6848 - val_loss: 0.6568 - val_accuracy: 0.7400\n",
            "Epoch 283/300\n",
            "14/14 [==============================] - 0s 3ms/step - loss: 0.6072 - accuracy: 0.6825 - val_loss: 0.6383 - val_accuracy: 0.7400\n",
            "Epoch 284/300\n",
            "14/14 [==============================] - 0s 4ms/step - loss: 0.6166 - accuracy: 0.6848 - val_loss: 0.6796 - val_accuracy: 0.7400\n",
            "Epoch 285/300\n",
            "14/14 [==============================] - 0s 4ms/step - loss: 0.6448 - accuracy: 0.6780 - val_loss: 0.6005 - val_accuracy: 0.7400\n",
            "Epoch 286/300\n",
            "14/14 [==============================] - 0s 4ms/step - loss: 0.6097 - accuracy: 0.6871 - val_loss: 0.5953 - val_accuracy: 0.7400\n",
            "Epoch 287/300\n",
            "14/14 [==============================] - 0s 4ms/step - loss: 0.5989 - accuracy: 0.6893 - val_loss: 0.5495 - val_accuracy: 0.7200\n",
            "Epoch 288/300\n",
            "14/14 [==============================] - 0s 4ms/step - loss: 0.6090 - accuracy: 0.6848 - val_loss: 0.6413 - val_accuracy: 0.7400\n",
            "Epoch 289/300\n",
            "14/14 [==============================] - 0s 5ms/step - loss: 0.6130 - accuracy: 0.6803 - val_loss: 0.6499 - val_accuracy: 0.7400\n",
            "Epoch 290/300\n",
            "14/14 [==============================] - 0s 4ms/step - loss: 0.6100 - accuracy: 0.6871 - val_loss: 0.6475 - val_accuracy: 0.7400\n",
            "Epoch 291/300\n",
            "14/14 [==============================] - 0s 4ms/step - loss: 0.6114 - accuracy: 0.6780 - val_loss: 0.6072 - val_accuracy: 0.7400\n",
            "Epoch 292/300\n",
            "14/14 [==============================] - 0s 4ms/step - loss: 0.6057 - accuracy: 0.6871 - val_loss: 0.5996 - val_accuracy: 0.7400\n",
            "Epoch 293/300\n",
            "14/14 [==============================] - 0s 4ms/step - loss: 0.6060 - accuracy: 0.6916 - val_loss: 0.6384 - val_accuracy: 0.7000\n",
            "Epoch 294/300\n",
            "14/14 [==============================] - 0s 4ms/step - loss: 0.6190 - accuracy: 0.6803 - val_loss: 0.5804 - val_accuracy: 0.7400\n",
            "Epoch 295/300\n",
            "14/14 [==============================] - 0s 4ms/step - loss: 0.6088 - accuracy: 0.6848 - val_loss: 0.5672 - val_accuracy: 0.7400\n",
            "Epoch 296/300\n",
            "14/14 [==============================] - 0s 4ms/step - loss: 0.6004 - accuracy: 0.6848 - val_loss: 0.5813 - val_accuracy: 0.7400\n",
            "Epoch 297/300\n",
            "14/14 [==============================] - 0s 4ms/step - loss: 0.6127 - accuracy: 0.6848 - val_loss: 0.5798 - val_accuracy: 0.7400\n",
            "Epoch 298/300\n",
            "14/14 [==============================] - 0s 4ms/step - loss: 0.6212 - accuracy: 0.6825 - val_loss: 0.5617 - val_accuracy: 0.7600\n",
            "Epoch 299/300\n",
            "14/14 [==============================] - 0s 4ms/step - loss: 0.6109 - accuracy: 0.6848 - val_loss: 0.5486 - val_accuracy: 0.7600\n",
            "Epoch 300/300\n",
            "14/14 [==============================] - 0s 4ms/step - loss: 0.6154 - accuracy: 0.6848 - val_loss: 0.5876 - val_accuracy: 0.7400\n",
            "4/4 [==============================] - 0s 3ms/step - loss: 0.5784 - accuracy: 0.6992\n"
          ]
        }
      ],
      "source": [
        "from keras.layers import Dropout\n",
        "from keras import regularizers\n",
        "from keras.callbacks import EarlyStopping\n",
        "from keras.models import Sequential\n",
        "from keras.layers import Dense\n",
        "\n",
        "model = Sequential()\n",
        "model.add(Dense(16 ,activation='relu',input_shape=(14,))) \n",
        "model.add(Dense(16,activation='relu'))\n",
        "model.add(Dropout(0.3))\n",
        "model.add(Dense(1,activation='sigmoid'))\n",
        "\n",
        "model.compile(loss='binary_crossentropy',optimizer='rmsprop', metrics=['accuracy'])\n",
        "\n",
        "hist = model.fit(X_train, Y_train,epochs=300,verbose=1, validation_split=0.1)\n",
        "accuracy = model.evaluate(X_test,Y_test)[1]\n"
      ]
    },
    {
      "cell_type": "code",
      "execution_count": 27,
      "metadata": {
        "colab": {
          "base_uri": "https://localhost:8080/",
          "height": 573
        },
        "id": "sISNL2vFuuYU",
        "outputId": "fef7ab96-b896-47b5-aeb4-6b8e1e5e74ce"
      },
      "outputs": [
        {
          "output_type": "display_data",
          "data": {
            "text/plain": [
              "<Figure size 432x288 with 1 Axes>"
            ],
            "image/png": "[encoded data removed]"
          },
          "metadata": {
            "needs_background": "light"
          }
        },
        {
          "output_type": "display_data",
          "data": {
            "text/plain": [
              "<Figure size 432x288 with 1 Axes>"
            ],
            "image/png": "[encoded data removed]"
          },
          "metadata": {
            "needs_background": "light"
          }
        }
      ],
      "source": [
        "plot.plot(hist.history['loss'])\n",
        "plot.plot(hist.history['val_loss'])\n",
        "plot.title('Model loss')\n",
        "plot.ylabel('Loss')\n",
        "plot.xlabel('Epoch')\n",
        "plot.legend(['Train', 'Val'], loc='upper right')\n",
        "plot.show()\n",
        "plot.plot(hist.history['accuracy'])\n",
        "plot.plot(hist.history['val_accuracy'])\n",
        "plot.title('Model acc')\n",
        "plot.ylabel('acc')\n",
        "plot.xlabel('Epoch')\n",
        "plot.legend(['Train', 'Val'], loc='upper right')\n",
        "plot.show()\n"
      ]
    },
    {
      "cell_type": "markdown",
      "metadata": {
        "id": "sr8K83vFhtBr"
      },
      "source": [
        "# UNSUPERVISED LEARNING - K means clusterning"
      ]
    },
    {
      "cell_type": "code",
      "execution_count": 28,
      "metadata": {
        "id": "vIE-AcoGxOCz"
      },
      "outputs": [],
      "source": [
        "from sklearn.cluster import KMeans"
      ]
    },
    {
      "cell_type": "code",
      "execution_count": 29,
      "metadata": {
        "colab": {
          "base_uri": "https://localhost:8080/",
          "height": 330
        },
        "id": "VN15_BsSii_j",
        "outputId": "cf9b3c16-dde2-4895-ddc1-4fabe8859c46"
      },
      "outputs": [
        {
          "output_type": "display_data",
          "data": {
            "text/plain": [
              "<Figure size 432x288 with 1 Axes>"
            ],
            "image/png": "[encoded data removed]"
          },
          "metadata": {
            "needs_background": "light"
          }
        },
        {
          "output_type": "stream",
          "name": "stdout",
          "text": [
            "\n",
            "Accuracy: 0.05091649694501019\n"
          ]
        }
      ],
      "source": [
        "wcss = []\n",
        "for i in range(1, 11):\n",
        "    kmeans = KMeans(n_clusters=i, init='k-means++', max_iter=300, n_init=10, random_state=0)\n",
        "    kmeans.fit(X_train)\n",
        "    wcss.append(kmeans.inertia_)\n",
        "plot.plot(range(1, 11), wcss)\n",
        "plot.title('Elbow Method')\n",
        "plot.xlabel('Number of clusters')\n",
        "plot.ylabel('WCSS')\n",
        "plot.show()\n",
        "kmeans = KMeans(n_clusters=4, init='k-means++', max_iter=100, n_init=10, random_state=0)\n",
        "pred_y_kn = kmeans.fit_predict(X_train)\n",
        "result2 = accuracy_score(Y_train, pred_y_kn)\n",
        "print(\"\\nAccuracy:\",result2)\n"
      ]
    },
    {
      "cell_type": "markdown",
      "metadata": {
        "id": "a-YiWcidHWAc"
      },
      "source": [
        "**ON UNSEEN DATA BY LOGISTIC REGRESSION**"
      ]
    },
    {
      "cell_type": "code",
      "execution_count": 31,
      "metadata": {
        "id": "D_AcXXYzG_JZ"
      },
      "outputs": [],
      "source": [
        "data1 = pd.read_csv('/content/test_Y3wMUE5_7gLdaTN.csv')\n",
        "data1 = data1.drop(columns=['Loan_ID'])\n",
        "data1_df_encoded = pd.get_dummies(data1,drop_first=True)\n",
        "data1_df_encoded.head()\n",
        "imp1 = SimpleImputer(strategy='mean')\n",
        "imp1_train = imp1.fit(data1_df_encoded)\n",
        "data1_df_encoded = imp1_train.transform(data1_df_encoded)\n",
        "predict= LR.predict(data1_df_encoded)\n",
        "data1['Y/N']= predict\n",
        "data1.to_csv('predicted.csv')"
      ]
    },
    {
      "cell_type": "code",
      "execution_count": null,
      "metadata": {
        "id": "u7O6wCs3H8YA"
      },
      "outputs": [],
      "source": []
    }
  ],
  "metadata": {
    "colab": {
      "collapsed_sections": [],
      "provenance": []
    },
    "kernelspec": {
      "display_name": "Python 3",
      "name": "python3"
    },
    "language_info": {
      "name": "python"
    }
  },
  "nbformat": 4,
  "nbformat_minor": 0
}